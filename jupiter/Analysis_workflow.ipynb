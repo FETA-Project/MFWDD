{
 "cells": [
  {
   "cell_type": "markdown",
   "metadata": {},
   "source": [
    "## In development - Workflow of drift analysis"
   ]
  },
  {
   "cell_type": "code",
   "execution_count": 64,
   "metadata": {},
   "outputs": [],
   "source": [
    "import pandas as pd\n",
    "import numpy as np\n",
    "import matplotlib.pyplot as plt\n",
    "from cesnet_datazoo.datasets import CESNET_TLS_Year22\n",
    "from cesnet_datazoo.config import DatasetConfig, AppSelection\n",
    "from datetime import datetime, timedelta\n",
    "\n",
    "\n",
    "from xgboost import XGBClassifier\n",
    "import sklearn.metrics as metrics\n",
    "from sklearn.ensemble import HistGradientBoostingClassifier\n",
    "from sklearn.metrics import classification_report,confusion_matrix,f1_score\n",
    "from sklearn.model_selection import train_test_split\n",
    "from copy import deepcopy\n",
    "\n",
    "from scipy import stats\n",
    "from joblib import dump, load\n",
    "\n",
    "import warnings\n",
    "warnings.filterwarnings('ignore') "
   ]
  },
  {
   "cell_type": "markdown",
   "metadata": {},
   "source": [
    "Create reference classifier from the first week of data"
   ]
  },
  {
   "cell_type": "code",
   "execution_count": 12,
   "metadata": {},
   "outputs": [
    {
     "name": "stdout",
     "output_type": "stream",
     "text": [
      "Loading data from dataloader\n"
     ]
    },
    {
     "name": "stderr",
     "output_type": "stream",
     "text": [
      "100%|██████████| 5/5 [00:00<00:00, 25.59it/s]\n"
     ]
    },
    {
     "name": "stdout",
     "output_type": "stream",
     "text": [
      "Loading data from dataloader\n"
     ]
    },
    {
     "name": "stderr",
     "output_type": "stream",
     "text": [
      "100%|██████████| 6/6 [00:00<00:00, 21.39it/s]\n"
     ]
    },
    {
     "name": "stdout",
     "output_type": "stream",
     "text": [
      "Loading data from dataloader\n"
     ]
    },
    {
     "name": "stderr",
     "output_type": "stream",
     "text": [
      "100%|██████████| 12/12 [00:00<00:00, 31.86it/s]\n"
     ]
    },
    {
     "name": "stdout",
     "output_type": "stream",
     "text": [
      "Loading data from dataloader\n"
     ]
    },
    {
     "name": "stderr",
     "output_type": "stream",
     "text": [
      "100%|██████████| 13/13 [00:00<00:00, 29.71it/s]\n"
     ]
    },
    {
     "name": "stdout",
     "output_type": "stream",
     "text": [
      "Loading data from dataloader\n"
     ]
    },
    {
     "name": "stderr",
     "output_type": "stream",
     "text": [
      "100%|██████████| 10/10 [00:00<00:00, 34.18it/s]\n"
     ]
    },
    {
     "name": "stdout",
     "output_type": "stream",
     "text": [
      "Loading data from dataloader\n"
     ]
    },
    {
     "name": "stderr",
     "output_type": "stream",
     "text": [
      "100%|██████████| 8/8 [00:00<00:00, 25.00it/s]\n"
     ]
    },
    {
     "name": "stdout",
     "output_type": "stream",
     "text": [
      "Loading data from dataloader\n"
     ]
    },
    {
     "name": "stderr",
     "output_type": "stream",
     "text": [
      "100%|██████████| 8/8 [00:00<00:00, 26.58it/s]\n"
     ]
    },
    {
     "name": "stdout",
     "output_type": "stream",
     "text": [
      "F1 Score: 0.9001427150337031\n"
     ]
    }
   ],
   "source": [
    "data = CESNET_TLS_Year22(\"/home/dosoukup/Dataset/Thesis_contents/testing/datasets/TLS/\", size=\"XS\")\n",
    "common_params = {\n",
    "    \"dataset\": data,\n",
    "    \"train_period_name\": \"W-2022-1\",\n",
    "    \"apps_selection\": AppSelection.ALL_KNOWN,\n",
    "    \"use_packet_histograms\": True,\n",
    "}\n",
    "\n",
    "hist_df = pd.DataFrame()\n",
    "current_date = datetime(2022, 1, 1)\n",
    "while current_date <= datetime(2022, 1, 7):\n",
    "    dataset_config = DatasetConfig(**common_params, test_period_name=current_date.strftime(\"M-%Y-%m\"), test_dates=[current_date.strftime(\"%Y%m%d\")])\n",
    "    data.set_dataset_config_and_initialize(dataset_config)\n",
    "    curr_df = data.get_test_df(flatten_ppi=True)\n",
    "    curr_sample = curr_df.sample(10000, random_state = 42, replace=True)\n",
    "    curr_sample[\"date\"] = current_date\n",
    "    hist_df = pd.concat([hist_df,curr_sample])\n",
    "    current_date += timedelta(days=1)\n",
    "\n",
    "Xdata = hist_df.drop(columns=[\"APP\",\"date\"])\n",
    "ydata = hist_df.APP\n",
    "X_train, X_test, y_train, y_test = train_test_split(Xdata, ydata, test_size=0.33, random_state=42)\n",
    "\n",
    "ref_clf = XGBClassifier().fit(X_train, y_train)\n",
    "y_pred = ref_clf.predict(X_test)\n",
    "\n",
    "print(f\"F1 Score: {f1_score(y_test, y_pred, average = 'weighted')}\")"
   ]
  },
  {
   "cell_type": "code",
   "execution_count": 13,
   "metadata": {},
   "outputs": [
    {
     "name": "stdout",
     "output_type": "stream",
     "text": [
      "Loading data from dataloader\n"
     ]
    },
    {
     "name": "stderr",
     "output_type": "stream",
     "text": [
      "100%|██████████| 7/7 [00:00<00:00, 38.47it/s]\n"
     ]
    },
    {
     "name": "stdout",
     "output_type": "stream",
     "text": [
      "Loading data from dataloader\n"
     ]
    },
    {
     "name": "stderr",
     "output_type": "stream",
     "text": [
      "100%|██████████| 7/7 [00:00<00:00, 28.75it/s]\n"
     ]
    },
    {
     "name": "stdout",
     "output_type": "stream",
     "text": [
      "Loading data from dataloader\n"
     ]
    },
    {
     "name": "stderr",
     "output_type": "stream",
     "text": [
      "100%|██████████| 14/14 [00:00<00:00, 28.73it/s]\n"
     ]
    },
    {
     "name": "stdout",
     "output_type": "stream",
     "text": [
      "Loading data from dataloader\n"
     ]
    },
    {
     "name": "stderr",
     "output_type": "stream",
     "text": [
      "100%|██████████| 9/9 [00:00<00:00, 37.30it/s]\n"
     ]
    },
    {
     "name": "stdout",
     "output_type": "stream",
     "text": [
      "Loading data from dataloader\n"
     ]
    },
    {
     "name": "stderr",
     "output_type": "stream",
     "text": [
      "100%|██████████| 5/5 [00:00<00:00, 12.14it/s]\n"
     ]
    },
    {
     "name": "stdout",
     "output_type": "stream",
     "text": [
      "Loading data from dataloader\n"
     ]
    },
    {
     "name": "stderr",
     "output_type": "stream",
     "text": [
      "100%|██████████| 12/12 [00:00<00:00, 44.46it/s]\n"
     ]
    },
    {
     "name": "stdout",
     "output_type": "stream",
     "text": [
      "Loading data from dataloader\n"
     ]
    },
    {
     "name": "stderr",
     "output_type": "stream",
     "text": [
      "100%|██████████| 11/11 [00:00<00:00, 43.39it/s]\n"
     ]
    },
    {
     "name": "stdout",
     "output_type": "stream",
     "text": [
      "Loading data from dataloader\n"
     ]
    },
    {
     "name": "stderr",
     "output_type": "stream",
     "text": [
      "100%|██████████| 7/7 [00:00<00:00, 20.69it/s]\n"
     ]
    },
    {
     "name": "stdout",
     "output_type": "stream",
     "text": [
      "Loading data from dataloader\n"
     ]
    },
    {
     "name": "stderr",
     "output_type": "stream",
     "text": [
      "100%|██████████| 6/6 [00:00<00:00, 24.63it/s]\n"
     ]
    },
    {
     "name": "stdout",
     "output_type": "stream",
     "text": [
      "Loading data from dataloader\n"
     ]
    },
    {
     "name": "stderr",
     "output_type": "stream",
     "text": [
      "100%|██████████| 12/12 [00:00<00:00, 47.08it/s]\n"
     ]
    },
    {
     "name": "stdout",
     "output_type": "stream",
     "text": [
      "Loading data from dataloader\n"
     ]
    },
    {
     "name": "stderr",
     "output_type": "stream",
     "text": [
      "100%|██████████| 12/12 [00:00<00:00, 50.52it/s]\n"
     ]
    },
    {
     "name": "stdout",
     "output_type": "stream",
     "text": [
      "Loading data from dataloader\n"
     ]
    },
    {
     "name": "stderr",
     "output_type": "stream",
     "text": [
      "100%|██████████| 12/12 [00:00<00:00, 48.02it/s]\n"
     ]
    },
    {
     "name": "stdout",
     "output_type": "stream",
     "text": [
      "Loading data from dataloader\n"
     ]
    },
    {
     "name": "stderr",
     "output_type": "stream",
     "text": [
      "100%|██████████| 12/12 [00:00<00:00, 48.91it/s]\n"
     ]
    },
    {
     "name": "stdout",
     "output_type": "stream",
     "text": [
      "Loading data from dataloader\n"
     ]
    },
    {
     "name": "stderr",
     "output_type": "stream",
     "text": [
      "100%|██████████| 11/11 [00:00<00:00, 42.27it/s]\n"
     ]
    },
    {
     "name": "stdout",
     "output_type": "stream",
     "text": [
      "Loading data from dataloader\n"
     ]
    },
    {
     "name": "stderr",
     "output_type": "stream",
     "text": [
      "100%|██████████| 6/6 [00:00<00:00, 35.42it/s]\n"
     ]
    },
    {
     "name": "stdout",
     "output_type": "stream",
     "text": [
      "Drift detected, retraining\n",
      "Loading data from dataloader\n"
     ]
    },
    {
     "name": "stderr",
     "output_type": "stream",
     "text": [
      "100%|██████████| 7/7 [00:00<00:00, 21.33it/s]\n"
     ]
    },
    {
     "name": "stdout",
     "output_type": "stream",
     "text": [
      "Loading data from dataloader\n"
     ]
    },
    {
     "name": "stderr",
     "output_type": "stream",
     "text": [
      "100%|██████████| 12/12 [00:00<00:00, 43.41it/s]\n"
     ]
    },
    {
     "name": "stdout",
     "output_type": "stream",
     "text": [
      "Loading data from dataloader\n"
     ]
    },
    {
     "name": "stderr",
     "output_type": "stream",
     "text": [
      "100%|██████████| 10/10 [00:00<00:00, 30.48it/s]\n"
     ]
    },
    {
     "name": "stdout",
     "output_type": "stream",
     "text": [
      "Loading data from dataloader\n"
     ]
    },
    {
     "name": "stderr",
     "output_type": "stream",
     "text": [
      "100%|██████████| 7/7 [00:00<00:00, 22.32it/s]\n"
     ]
    },
    {
     "name": "stdout",
     "output_type": "stream",
     "text": [
      "Loading data from dataloader\n"
     ]
    },
    {
     "name": "stderr",
     "output_type": "stream",
     "text": [
      "100%|██████████| 4/4 [00:00<00:00, 22.97it/s]\n"
     ]
    },
    {
     "name": "stdout",
     "output_type": "stream",
     "text": [
      "An error occurred: 1 validation error for DatasetConfig\n",
      "  Value error, Bad test dates ['20220128']. Use dates available in dataset.available_dates (collection period 1.1.2022 - 31.12.2022). These dates are missing from the dataset collection period ['20220128', '20220129', '20220130', '20221212', '20221213', '20221229', '20221230', '20221231'] [type=value_error, input_value=ArgsKwargs((), {'dataset'...t_dates': ['20220128']}), input_type=ArgsKwargs]\n",
      "    For further information visit https://errors.pydantic.dev/2.6/v/value_error\n",
      "2022-01-28 00:00:00 missing from the dataset\n",
      "An error occurred: 1 validation error for DatasetConfig\n",
      "  Value error, Bad test dates ['20220129']. Use dates available in dataset.available_dates (collection period 1.1.2022 - 31.12.2022). These dates are missing from the dataset collection period ['20220128', '20220129', '20220130', '20221212', '20221213', '20221229', '20221230', '20221231'] [type=value_error, input_value=ArgsKwargs((), {'dataset'...t_dates': ['20220129']}), input_type=ArgsKwargs]\n",
      "    For further information visit https://errors.pydantic.dev/2.6/v/value_error\n",
      "2022-01-29 00:00:00 missing from the dataset\n",
      "An error occurred: 1 validation error for DatasetConfig\n",
      "  Value error, Bad test dates ['20220130']. Use dates available in dataset.available_dates (collection period 1.1.2022 - 31.12.2022). These dates are missing from the dataset collection period ['20220128', '20220129', '20220130', '20221212', '20221213', '20221229', '20221230', '20221231'] [type=value_error, input_value=ArgsKwargs((), {'dataset'...t_dates': ['20220130']}), input_type=ArgsKwargs]\n",
      "    For further information visit https://errors.pydantic.dev/2.6/v/value_error\n",
      "2022-01-30 00:00:00 missing from the dataset\n",
      "Loading data from dataloader\n"
     ]
    },
    {
     "name": "stderr",
     "output_type": "stream",
     "text": [
      "100%|██████████| 5/5 [00:00<00:00, 26.69it/s]\n"
     ]
    },
    {
     "name": "stdout",
     "output_type": "stream",
     "text": [
      "An error occurred: Distribution can't be empty.\n",
      "2022-01-31 00:00:00 missing from the dataset\n",
      "Loading data from dataloader\n"
     ]
    },
    {
     "name": "stderr",
     "output_type": "stream",
     "text": [
      "100%|██████████| 15/15 [00:00<00:00, 35.41it/s]\n"
     ]
    },
    {
     "name": "stdout",
     "output_type": "stream",
     "text": [
      "An error occurred: Distribution can't be empty.\n",
      "2022-02-01 00:00:00 missing from the dataset\n",
      "Loading data from dataloader\n"
     ]
    },
    {
     "name": "stderr",
     "output_type": "stream",
     "text": [
      "100%|██████████| 14/14 [00:00<00:00, 50.28it/s]\n"
     ]
    },
    {
     "name": "stdout",
     "output_type": "stream",
     "text": [
      "Drift detected, retraining\n",
      "Loading data from dataloader\n"
     ]
    },
    {
     "name": "stderr",
     "output_type": "stream",
     "text": [
      "100%|██████████| 14/14 [00:00<00:00, 53.81it/s]\n"
     ]
    },
    {
     "name": "stdout",
     "output_type": "stream",
     "text": [
      "Loading data from dataloader\n"
     ]
    },
    {
     "name": "stderr",
     "output_type": "stream",
     "text": [
      "100%|██████████| 11/11 [00:00<00:00, 48.08it/s]\n"
     ]
    },
    {
     "name": "stdout",
     "output_type": "stream",
     "text": [
      "Loading data from dataloader\n"
     ]
    },
    {
     "name": "stderr",
     "output_type": "stream",
     "text": [
      "100%|██████████| 6/6 [00:00<00:00, 34.06it/s]\n"
     ]
    },
    {
     "name": "stdout",
     "output_type": "stream",
     "text": [
      "Loading data from dataloader\n"
     ]
    },
    {
     "name": "stderr",
     "output_type": "stream",
     "text": [
      "100%|██████████| 7/7 [00:00<00:00, 20.89it/s]\n"
     ]
    },
    {
     "name": "stdout",
     "output_type": "stream",
     "text": [
      "Loading data from dataloader\n"
     ]
    },
    {
     "name": "stderr",
     "output_type": "stream",
     "text": [
      "100%|██████████| 15/15 [00:00<00:00, 51.93it/s]\n"
     ]
    },
    {
     "name": "stdout",
     "output_type": "stream",
     "text": [
      "Loading data from dataloader\n"
     ]
    },
    {
     "name": "stderr",
     "output_type": "stream",
     "text": [
      "100%|██████████| 19/19 [00:00<00:00, 57.57it/s]\n"
     ]
    },
    {
     "name": "stdout",
     "output_type": "stream",
     "text": [
      "Loading data from dataloader\n"
     ]
    },
    {
     "name": "stderr",
     "output_type": "stream",
     "text": [
      "100%|██████████| 16/16 [00:00<00:00, 56.33it/s]\n"
     ]
    },
    {
     "name": "stdout",
     "output_type": "stream",
     "text": [
      "Loading data from dataloader\n"
     ]
    },
    {
     "name": "stderr",
     "output_type": "stream",
     "text": [
      "100%|██████████| 17/17 [00:00<00:00, 57.92it/s]\n"
     ]
    },
    {
     "name": "stdout",
     "output_type": "stream",
     "text": [
      "Loading data from dataloader\n"
     ]
    },
    {
     "name": "stderr",
     "output_type": "stream",
     "text": [
      "100%|██████████| 16/16 [00:00<00:00, 50.95it/s]\n"
     ]
    },
    {
     "name": "stdout",
     "output_type": "stream",
     "text": [
      "Loading data from dataloader\n"
     ]
    },
    {
     "name": "stderr",
     "output_type": "stream",
     "text": [
      "100%|██████████| 7/7 [00:00<00:00, 36.80it/s]\n"
     ]
    },
    {
     "name": "stdout",
     "output_type": "stream",
     "text": [
      "Loading data from dataloader\n"
     ]
    },
    {
     "name": "stderr",
     "output_type": "stream",
     "text": [
      "100%|██████████| 9/9 [00:00<00:00, 47.25it/s]\n"
     ]
    },
    {
     "name": "stdout",
     "output_type": "stream",
     "text": [
      "Loading data from dataloader\n"
     ]
    },
    {
     "name": "stderr",
     "output_type": "stream",
     "text": [
      "100%|██████████| 22/22 [00:00<00:00, 46.09it/s]\n"
     ]
    },
    {
     "name": "stdout",
     "output_type": "stream",
     "text": [
      "Loading data from dataloader\n"
     ]
    },
    {
     "name": "stderr",
     "output_type": "stream",
     "text": [
      "100%|██████████| 22/22 [00:00<00:00, 63.28it/s]\n"
     ]
    },
    {
     "name": "stdout",
     "output_type": "stream",
     "text": [
      "Loading data from dataloader\n"
     ]
    },
    {
     "name": "stderr",
     "output_type": "stream",
     "text": [
      "100%|██████████| 23/23 [00:00<00:00, 57.69it/s]\n"
     ]
    },
    {
     "name": "stdout",
     "output_type": "stream",
     "text": [
      "Loading data from dataloader\n"
     ]
    },
    {
     "name": "stderr",
     "output_type": "stream",
     "text": [
      "100%|██████████| 21/21 [00:00<00:00, 35.36it/s]\n"
     ]
    },
    {
     "name": "stdout",
     "output_type": "stream",
     "text": [
      "Loading data from dataloader\n"
     ]
    },
    {
     "name": "stderr",
     "output_type": "stream",
     "text": [
      "100%|██████████| 16/16 [00:00<00:00, 47.85it/s]\n"
     ]
    },
    {
     "name": "stdout",
     "output_type": "stream",
     "text": [
      "Loading data from dataloader\n"
     ]
    },
    {
     "name": "stderr",
     "output_type": "stream",
     "text": [
      "100%|██████████| 8/8 [00:00<00:00, 24.78it/s]\n"
     ]
    },
    {
     "name": "stdout",
     "output_type": "stream",
     "text": [
      "Loading data from dataloader\n"
     ]
    },
    {
     "name": "stderr",
     "output_type": "stream",
     "text": [
      "100%|██████████| 9/9 [00:00<00:00, 29.77it/s]\n"
     ]
    },
    {
     "name": "stdout",
     "output_type": "stream",
     "text": [
      "Loading data from dataloader\n"
     ]
    },
    {
     "name": "stderr",
     "output_type": "stream",
     "text": [
      "100%|██████████| 22/22 [00:00<00:00, 41.33it/s]\n"
     ]
    },
    {
     "name": "stdout",
     "output_type": "stream",
     "text": [
      "Loading data from dataloader\n"
     ]
    },
    {
     "name": "stderr",
     "output_type": "stream",
     "text": [
      "100%|██████████| 17/17 [00:00<00:00, 50.14it/s]\n"
     ]
    },
    {
     "name": "stdout",
     "output_type": "stream",
     "text": [
      "Loading data from dataloader\n"
     ]
    },
    {
     "name": "stderr",
     "output_type": "stream",
     "text": [
      "100%|██████████| 13/13 [00:00<00:00, 45.18it/s]\n"
     ]
    },
    {
     "name": "stdout",
     "output_type": "stream",
     "text": [
      "Loading data from dataloader\n"
     ]
    },
    {
     "name": "stderr",
     "output_type": "stream",
     "text": [
      "100%|██████████| 12/12 [00:00<00:00, 43.83it/s]\n"
     ]
    },
    {
     "name": "stdout",
     "output_type": "stream",
     "text": [
      "Loading data from dataloader\n"
     ]
    },
    {
     "name": "stderr",
     "output_type": "stream",
     "text": [
      "100%|██████████| 11/11 [00:00<00:00, 28.73it/s]\n"
     ]
    },
    {
     "name": "stdout",
     "output_type": "stream",
     "text": [
      "Loading data from dataloader\n"
     ]
    },
    {
     "name": "stderr",
     "output_type": "stream",
     "text": [
      "100%|██████████| 9/9 [00:00<00:00, 40.20it/s]\n"
     ]
    },
    {
     "name": "stdout",
     "output_type": "stream",
     "text": [
      "Loading data from dataloader\n"
     ]
    },
    {
     "name": "stderr",
     "output_type": "stream",
     "text": [
      "100%|██████████| 9/9 [00:00<00:00, 39.07it/s]\n"
     ]
    },
    {
     "name": "stdout",
     "output_type": "stream",
     "text": [
      "Loading data from dataloader\n"
     ]
    },
    {
     "name": "stderr",
     "output_type": "stream",
     "text": [
      "100%|██████████| 25/25 [00:00<00:00, 39.37it/s]\n"
     ]
    },
    {
     "name": "stdout",
     "output_type": "stream",
     "text": [
      "Loading data from dataloader\n"
     ]
    },
    {
     "name": "stderr",
     "output_type": "stream",
     "text": [
      "100%|██████████| 25/25 [00:00<00:00, 54.61it/s]\n"
     ]
    },
    {
     "name": "stdout",
     "output_type": "stream",
     "text": [
      "Loading data from dataloader\n"
     ]
    },
    {
     "name": "stderr",
     "output_type": "stream",
     "text": [
      "100%|██████████| 24/24 [00:00<00:00, 61.72it/s]\n"
     ]
    },
    {
     "name": "stdout",
     "output_type": "stream",
     "text": [
      "Loading data from dataloader\n"
     ]
    },
    {
     "name": "stderr",
     "output_type": "stream",
     "text": [
      "100%|██████████| 21/21 [00:00<00:00, 54.50it/s]\n"
     ]
    },
    {
     "name": "stdout",
     "output_type": "stream",
     "text": [
      "Loading data from dataloader\n"
     ]
    },
    {
     "name": "stderr",
     "output_type": "stream",
     "text": [
      "100%|██████████| 20/20 [00:00<00:00, 34.74it/s]\n"
     ]
    },
    {
     "name": "stdout",
     "output_type": "stream",
     "text": [
      "Loading data from dataloader\n"
     ]
    },
    {
     "name": "stderr",
     "output_type": "stream",
     "text": [
      "100%|██████████| 9/9 [00:00<00:00, 37.24it/s]\n"
     ]
    },
    {
     "name": "stdout",
     "output_type": "stream",
     "text": [
      "Loading data from dataloader\n"
     ]
    },
    {
     "name": "stderr",
     "output_type": "stream",
     "text": [
      "100%|██████████| 9/9 [00:00<00:00, 26.28it/s]\n"
     ]
    },
    {
     "name": "stdout",
     "output_type": "stream",
     "text": [
      "Loading data from dataloader\n"
     ]
    },
    {
     "name": "stderr",
     "output_type": "stream",
     "text": [
      "100%|██████████| 22/22 [00:00<00:00, 57.89it/s]\n"
     ]
    },
    {
     "name": "stdout",
     "output_type": "stream",
     "text": [
      "Loading data from dataloader\n"
     ]
    },
    {
     "name": "stderr",
     "output_type": "stream",
     "text": [
      "100%|██████████| 25/25 [00:00<00:00, 60.75it/s]\n"
     ]
    },
    {
     "name": "stdout",
     "output_type": "stream",
     "text": [
      "Loading data from dataloader\n"
     ]
    },
    {
     "name": "stderr",
     "output_type": "stream",
     "text": [
      "100%|██████████| 25/25 [00:00<00:00, 53.24it/s]\n"
     ]
    },
    {
     "name": "stdout",
     "output_type": "stream",
     "text": [
      "Drift detected, retraining\n",
      "Loading data from dataloader\n"
     ]
    },
    {
     "name": "stderr",
     "output_type": "stream",
     "text": [
      "100%|██████████| 20/20 [00:00<00:00, 56.45it/s]\n"
     ]
    },
    {
     "name": "stdout",
     "output_type": "stream",
     "text": [
      "Drift detected, retraining\n",
      "Loading data from dataloader\n"
     ]
    },
    {
     "name": "stderr",
     "output_type": "stream",
     "text": [
      "100%|██████████| 17/17 [00:00<00:00, 57.92it/s]\n"
     ]
    },
    {
     "name": "stdout",
     "output_type": "stream",
     "text": [
      "Loading data from dataloader\n"
     ]
    },
    {
     "name": "stderr",
     "output_type": "stream",
     "text": [
      "100%|██████████| 9/9 [00:00<00:00, 39.20it/s]\n"
     ]
    },
    {
     "name": "stdout",
     "output_type": "stream",
     "text": [
      "Loading data from dataloader\n"
     ]
    },
    {
     "name": "stderr",
     "output_type": "stream",
     "text": [
      "100%|██████████| 9/9 [00:00<00:00, 44.74it/s]\n"
     ]
    },
    {
     "name": "stdout",
     "output_type": "stream",
     "text": [
      "Loading data from dataloader\n"
     ]
    },
    {
     "name": "stderr",
     "output_type": "stream",
     "text": [
      "100%|██████████| 24/24 [00:00<00:00, 59.27it/s]\n"
     ]
    },
    {
     "name": "stdout",
     "output_type": "stream",
     "text": [
      "Loading data from dataloader\n"
     ]
    },
    {
     "name": "stderr",
     "output_type": "stream",
     "text": [
      "100%|██████████| 15/15 [00:00<00:00, 38.43it/s]\n"
     ]
    },
    {
     "name": "stdout",
     "output_type": "stream",
     "text": [
      "Loading data from dataloader\n"
     ]
    },
    {
     "name": "stderr",
     "output_type": "stream",
     "text": [
      "100%|██████████| 12/12 [00:00<00:00, 45.16it/s]\n"
     ]
    },
    {
     "name": "stdout",
     "output_type": "stream",
     "text": [
      "Loading data from dataloader\n"
     ]
    },
    {
     "name": "stderr",
     "output_type": "stream",
     "text": [
      "100%|██████████| 23/23 [00:00<00:00, 44.62it/s]\n"
     ]
    },
    {
     "name": "stdout",
     "output_type": "stream",
     "text": [
      "Loading data from dataloader\n"
     ]
    },
    {
     "name": "stderr",
     "output_type": "stream",
     "text": [
      "100%|██████████| 20/20 [00:00<00:00, 62.40it/s]\n"
     ]
    },
    {
     "name": "stdout",
     "output_type": "stream",
     "text": [
      "Loading data from dataloader\n"
     ]
    },
    {
     "name": "stderr",
     "output_type": "stream",
     "text": [
      "100%|██████████| 9/9 [00:00<00:00, 42.04it/s]\n"
     ]
    },
    {
     "name": "stdout",
     "output_type": "stream",
     "text": [
      "Loading data from dataloader\n"
     ]
    },
    {
     "name": "stderr",
     "output_type": "stream",
     "text": [
      "100%|██████████| 10/10 [00:00<00:00, 44.25it/s]\n"
     ]
    },
    {
     "name": "stdout",
     "output_type": "stream",
     "text": [
      "Loading data from dataloader\n"
     ]
    },
    {
     "name": "stderr",
     "output_type": "stream",
     "text": [
      "100%|██████████| 26/26 [00:00<00:00, 69.13it/s]\n"
     ]
    },
    {
     "name": "stdout",
     "output_type": "stream",
     "text": [
      "Loading data from dataloader\n"
     ]
    },
    {
     "name": "stderr",
     "output_type": "stream",
     "text": [
      "100%|██████████| 27/27 [00:00<00:00, 51.65it/s]\n"
     ]
    },
    {
     "name": "stdout",
     "output_type": "stream",
     "text": [
      "Loading data from dataloader\n"
     ]
    },
    {
     "name": "stderr",
     "output_type": "stream",
     "text": [
      "100%|██████████| 26/26 [00:00<00:00, 67.95it/s]\n"
     ]
    },
    {
     "name": "stdout",
     "output_type": "stream",
     "text": [
      "Loading data from dataloader\n"
     ]
    },
    {
     "name": "stderr",
     "output_type": "stream",
     "text": [
      "100%|██████████| 24/24 [00:00<00:00, 66.92it/s]\n"
     ]
    },
    {
     "name": "stdout",
     "output_type": "stream",
     "text": [
      "Loading data from dataloader\n"
     ]
    },
    {
     "name": "stderr",
     "output_type": "stream",
     "text": [
      "100%|██████████| 20/20 [00:00<00:00, 60.85it/s]\n"
     ]
    },
    {
     "name": "stdout",
     "output_type": "stream",
     "text": [
      "Loading data from dataloader\n"
     ]
    },
    {
     "name": "stderr",
     "output_type": "stream",
     "text": [
      "100%|██████████| 9/9 [00:00<00:00, 44.86it/s]\n"
     ]
    },
    {
     "name": "stdout",
     "output_type": "stream",
     "text": [
      "Loading data from dataloader\n"
     ]
    },
    {
     "name": "stderr",
     "output_type": "stream",
     "text": [
      "100%|██████████| 9/9 [00:00<00:00, 37.04it/s]\n"
     ]
    },
    {
     "name": "stdout",
     "output_type": "stream",
     "text": [
      "Loading data from dataloader\n"
     ]
    },
    {
     "name": "stderr",
     "output_type": "stream",
     "text": [
      "100%|██████████| 25/25 [00:00<00:00, 56.32it/s]\n"
     ]
    },
    {
     "name": "stdout",
     "output_type": "stream",
     "text": [
      "Loading data from dataloader\n"
     ]
    },
    {
     "name": "stderr",
     "output_type": "stream",
     "text": [
      "100%|██████████| 26/26 [00:00<00:00, 60.69it/s]\n"
     ]
    },
    {
     "name": "stdout",
     "output_type": "stream",
     "text": [
      "Loading data from dataloader\n"
     ]
    },
    {
     "name": "stderr",
     "output_type": "stream",
     "text": [
      "100%|██████████| 27/27 [00:00<00:00, 38.54it/s]\n"
     ]
    },
    {
     "name": "stdout",
     "output_type": "stream",
     "text": [
      "Loading data from dataloader\n"
     ]
    },
    {
     "name": "stderr",
     "output_type": "stream",
     "text": [
      "100%|██████████| 27/27 [00:00<00:00, 45.72it/s]\n"
     ]
    },
    {
     "name": "stdout",
     "output_type": "stream",
     "text": [
      "Loading data from dataloader\n"
     ]
    },
    {
     "name": "stderr",
     "output_type": "stream",
     "text": [
      "100%|██████████| 20/20 [00:00<00:00, 57.72it/s]\n"
     ]
    },
    {
     "name": "stdout",
     "output_type": "stream",
     "text": [
      "Loading data from dataloader\n"
     ]
    },
    {
     "name": "stderr",
     "output_type": "stream",
     "text": [
      "100%|██████████| 9/9 [00:00<00:00, 39.91it/s]\n"
     ]
    },
    {
     "name": "stdout",
     "output_type": "stream",
     "text": [
      "Loading data from dataloader\n"
     ]
    },
    {
     "name": "stderr",
     "output_type": "stream",
     "text": [
      "100%|██████████| 10/10 [00:00<00:00, 26.49it/s]\n"
     ]
    },
    {
     "name": "stdout",
     "output_type": "stream",
     "text": [
      "Loading data from dataloader\n"
     ]
    },
    {
     "name": "stderr",
     "output_type": "stream",
     "text": [
      "100%|██████████| 26/26 [00:00<00:00, 52.46it/s]\n"
     ]
    },
    {
     "name": "stdout",
     "output_type": "stream",
     "text": [
      "Loading data from dataloader\n"
     ]
    },
    {
     "name": "stderr",
     "output_type": "stream",
     "text": [
      "100%|██████████| 26/26 [00:00<00:00, 34.76it/s]\n"
     ]
    },
    {
     "name": "stdout",
     "output_type": "stream",
     "text": [
      "Loading data from dataloader\n"
     ]
    },
    {
     "name": "stderr",
     "output_type": "stream",
     "text": [
      "100%|██████████| 26/26 [00:00<00:00, 36.94it/s]\n"
     ]
    },
    {
     "name": "stdout",
     "output_type": "stream",
     "text": [
      "Loading data from dataloader\n"
     ]
    },
    {
     "name": "stderr",
     "output_type": "stream",
     "text": [
      "100%|██████████| 25/25 [00:00<00:00, 60.56it/s]\n"
     ]
    },
    {
     "name": "stdout",
     "output_type": "stream",
     "text": [
      "Loading data from dataloader\n"
     ]
    },
    {
     "name": "stderr",
     "output_type": "stream",
     "text": [
      "100%|██████████| 20/20 [00:00<00:00, 55.29it/s]\n"
     ]
    },
    {
     "name": "stdout",
     "output_type": "stream",
     "text": [
      "Loading data from dataloader\n"
     ]
    },
    {
     "name": "stderr",
     "output_type": "stream",
     "text": [
      "100%|██████████| 9/9 [00:00<00:00, 40.81it/s]\n"
     ]
    },
    {
     "name": "stdout",
     "output_type": "stream",
     "text": [
      "Loading data from dataloader\n"
     ]
    },
    {
     "name": "stderr",
     "output_type": "stream",
     "text": [
      "100%|██████████| 9/9 [00:00<00:00, 23.39it/s]\n"
     ]
    },
    {
     "name": "stdout",
     "output_type": "stream",
     "text": [
      "Loading data from dataloader\n"
     ]
    },
    {
     "name": "stderr",
     "output_type": "stream",
     "text": [
      "100%|██████████| 22/22 [00:00<00:00, 49.66it/s]\n"
     ]
    },
    {
     "name": "stdout",
     "output_type": "stream",
     "text": [
      "Loading data from dataloader\n"
     ]
    },
    {
     "name": "stderr",
     "output_type": "stream",
     "text": [
      "100%|██████████| 21/21 [00:00<00:00, 45.24it/s]\n"
     ]
    },
    {
     "name": "stdout",
     "output_type": "stream",
     "text": [
      "Loading data from dataloader\n"
     ]
    },
    {
     "name": "stderr",
     "output_type": "stream",
     "text": [
      "100%|██████████| 20/20 [00:00<00:00, 38.45it/s]\n"
     ]
    },
    {
     "name": "stdout",
     "output_type": "stream",
     "text": [
      "Loading data from dataloader\n"
     ]
    },
    {
     "name": "stderr",
     "output_type": "stream",
     "text": [
      "100%|██████████| 15/15 [00:00<00:00, 46.21it/s]\n"
     ]
    },
    {
     "name": "stdout",
     "output_type": "stream",
     "text": [
      "Loading data from dataloader\n"
     ]
    },
    {
     "name": "stderr",
     "output_type": "stream",
     "text": [
      "100%|██████████| 7/7 [00:00<00:00, 27.77it/s]\n"
     ]
    },
    {
     "name": "stdout",
     "output_type": "stream",
     "text": [
      "Drift detected, retraining\n",
      "Loading data from dataloader\n"
     ]
    },
    {
     "name": "stderr",
     "output_type": "stream",
     "text": [
      "100%|██████████| 7/7 [00:00<00:00, 30.84it/s]\n"
     ]
    },
    {
     "name": "stdout",
     "output_type": "stream",
     "text": [
      "Drift detected, retraining\n",
      "Loading data from dataloader\n"
     ]
    },
    {
     "name": "stderr",
     "output_type": "stream",
     "text": [
      "100%|██████████| 7/7 [00:00<00:00, 38.25it/s]\n"
     ]
    },
    {
     "name": "stdout",
     "output_type": "stream",
     "text": [
      "Loading data from dataloader\n"
     ]
    },
    {
     "name": "stderr",
     "output_type": "stream",
     "text": [
      "100%|██████████| 8/8 [00:00<00:00, 37.54it/s]\n"
     ]
    },
    {
     "name": "stdout",
     "output_type": "stream",
     "text": [
      "Loading data from dataloader\n"
     ]
    },
    {
     "name": "stderr",
     "output_type": "stream",
     "text": [
      "100%|██████████| 21/21 [00:00<00:00, 55.52it/s]\n"
     ]
    },
    {
     "name": "stdout",
     "output_type": "stream",
     "text": [
      "Loading data from dataloader\n"
     ]
    },
    {
     "name": "stderr",
     "output_type": "stream",
     "text": [
      "100%|██████████| 22/22 [00:00<00:00, 49.76it/s]\n"
     ]
    },
    {
     "name": "stdout",
     "output_type": "stream",
     "text": [
      "Loading data from dataloader\n"
     ]
    },
    {
     "name": "stderr",
     "output_type": "stream",
     "text": [
      "100%|██████████| 24/24 [00:00<00:00, 65.45it/s]\n"
     ]
    },
    {
     "name": "stdout",
     "output_type": "stream",
     "text": [
      "Loading data from dataloader\n"
     ]
    },
    {
     "name": "stderr",
     "output_type": "stream",
     "text": [
      "100%|██████████| 21/21 [00:00<00:00, 49.31it/s]\n"
     ]
    },
    {
     "name": "stdout",
     "output_type": "stream",
     "text": [
      "Loading data from dataloader\n"
     ]
    },
    {
     "name": "stderr",
     "output_type": "stream",
     "text": [
      "100%|██████████| 9/9 [00:00<00:00, 42.28it/s]\n"
     ]
    },
    {
     "name": "stdout",
     "output_type": "stream",
     "text": [
      "Loading data from dataloader\n"
     ]
    },
    {
     "name": "stderr",
     "output_type": "stream",
     "text": [
      "100%|██████████| 10/10 [00:00<00:00, 37.59it/s]\n"
     ]
    },
    {
     "name": "stdout",
     "output_type": "stream",
     "text": [
      "Loading data from dataloader\n"
     ]
    },
    {
     "name": "stderr",
     "output_type": "stream",
     "text": [
      "100%|██████████| 27/27 [00:00<00:00, 67.08it/s]\n"
     ]
    },
    {
     "name": "stdout",
     "output_type": "stream",
     "text": [
      "Loading data from dataloader\n"
     ]
    },
    {
     "name": "stderr",
     "output_type": "stream",
     "text": [
      "100%|██████████| 27/27 [00:00<00:00, 63.99it/s]\n"
     ]
    },
    {
     "name": "stdout",
     "output_type": "stream",
     "text": [
      "Loading data from dataloader\n"
     ]
    },
    {
     "name": "stderr",
     "output_type": "stream",
     "text": [
      "100%|██████████| 24/24 [00:00<00:00, 63.36it/s]\n"
     ]
    },
    {
     "name": "stdout",
     "output_type": "stream",
     "text": [
      "Loading data from dataloader\n"
     ]
    },
    {
     "name": "stderr",
     "output_type": "stream",
     "text": [
      "100%|██████████| 24/24 [00:00<00:00, 65.65it/s]\n"
     ]
    },
    {
     "name": "stdout",
     "output_type": "stream",
     "text": [
      "Loading data from dataloader\n"
     ]
    },
    {
     "name": "stderr",
     "output_type": "stream",
     "text": [
      "100%|██████████| 19/19 [00:00<00:00, 60.85it/s]\n"
     ]
    },
    {
     "name": "stdout",
     "output_type": "stream",
     "text": [
      "Loading data from dataloader\n"
     ]
    },
    {
     "name": "stderr",
     "output_type": "stream",
     "text": [
      "100%|██████████| 9/9 [00:00<00:00, 21.46it/s]\n"
     ]
    },
    {
     "name": "stdout",
     "output_type": "stream",
     "text": [
      "Loading data from dataloader\n"
     ]
    },
    {
     "name": "stderr",
     "output_type": "stream",
     "text": [
      "100%|██████████| 10/10 [00:00<00:00, 45.29it/s]\n"
     ]
    },
    {
     "name": "stdout",
     "output_type": "stream",
     "text": [
      "Loading data from dataloader\n"
     ]
    },
    {
     "name": "stderr",
     "output_type": "stream",
     "text": [
      "100%|██████████| 26/26 [00:00<00:00, 57.82it/s]\n"
     ]
    },
    {
     "name": "stdout",
     "output_type": "stream",
     "text": [
      "Loading data from dataloader\n"
     ]
    },
    {
     "name": "stderr",
     "output_type": "stream",
     "text": [
      "100%|██████████| 27/27 [00:00<00:00, 63.02it/s]\n"
     ]
    },
    {
     "name": "stdout",
     "output_type": "stream",
     "text": [
      "Loading data from dataloader\n"
     ]
    },
    {
     "name": "stderr",
     "output_type": "stream",
     "text": [
      "100%|██████████| 25/25 [00:00<00:00, 55.05it/s]\n"
     ]
    },
    {
     "name": "stdout",
     "output_type": "stream",
     "text": [
      "Loading data from dataloader\n"
     ]
    },
    {
     "name": "stderr",
     "output_type": "stream",
     "text": [
      "100%|██████████| 25/25 [00:00<00:00, 65.63it/s]\n"
     ]
    },
    {
     "name": "stdout",
     "output_type": "stream",
     "text": [
      "Loading data from dataloader\n"
     ]
    },
    {
     "name": "stderr",
     "output_type": "stream",
     "text": [
      "100%|██████████| 20/20 [00:00<00:00, 56.92it/s]\n"
     ]
    },
    {
     "name": "stdout",
     "output_type": "stream",
     "text": [
      "Loading data from dataloader\n"
     ]
    },
    {
     "name": "stderr",
     "output_type": "stream",
     "text": [
      "100%|██████████| 9/9 [00:00<00:00, 37.72it/s]\n"
     ]
    },
    {
     "name": "stdout",
     "output_type": "stream",
     "text": [
      "Loading data from dataloader\n"
     ]
    },
    {
     "name": "stderr",
     "output_type": "stream",
     "text": [
      "100%|██████████| 9/9 [00:00<00:00, 39.13it/s]\n"
     ]
    },
    {
     "name": "stdout",
     "output_type": "stream",
     "text": [
      "Loading data from dataloader\n"
     ]
    },
    {
     "name": "stderr",
     "output_type": "stream",
     "text": [
      "100%|██████████| 24/24 [00:00<00:00, 64.38it/s]\n"
     ]
    },
    {
     "name": "stdout",
     "output_type": "stream",
     "text": [
      "Loading data from dataloader\n"
     ]
    },
    {
     "name": "stderr",
     "output_type": "stream",
     "text": [
      "100%|██████████| 25/25 [00:00<00:00, 64.03it/s]\n"
     ]
    },
    {
     "name": "stdout",
     "output_type": "stream",
     "text": [
      "Loading data from dataloader\n"
     ]
    },
    {
     "name": "stderr",
     "output_type": "stream",
     "text": [
      "100%|██████████| 25/25 [00:00<00:00, 64.14it/s]\n"
     ]
    },
    {
     "name": "stdout",
     "output_type": "stream",
     "text": [
      "Loading data from dataloader\n"
     ]
    },
    {
     "name": "stderr",
     "output_type": "stream",
     "text": [
      "100%|██████████| 24/24 [00:00<00:00, 66.57it/s]\n"
     ]
    },
    {
     "name": "stdout",
     "output_type": "stream",
     "text": [
      "Loading data from dataloader\n"
     ]
    },
    {
     "name": "stderr",
     "output_type": "stream",
     "text": [
      "100%|██████████| 20/20 [00:00<00:00, 58.89it/s]\n"
     ]
    },
    {
     "name": "stdout",
     "output_type": "stream",
     "text": [
      "Loading data from dataloader\n"
     ]
    },
    {
     "name": "stderr",
     "output_type": "stream",
     "text": [
      "100%|██████████| 9/9 [00:00<00:00, 44.38it/s]\n"
     ]
    },
    {
     "name": "stdout",
     "output_type": "stream",
     "text": [
      "Loading data from dataloader\n"
     ]
    },
    {
     "name": "stderr",
     "output_type": "stream",
     "text": [
      "100%|██████████| 9/9 [00:00<00:00, 44.25it/s]\n"
     ]
    },
    {
     "name": "stdout",
     "output_type": "stream",
     "text": [
      "Loading data from dataloader\n"
     ]
    },
    {
     "name": "stderr",
     "output_type": "stream",
     "text": [
      "100%|██████████| 23/23 [00:00<00:00, 58.30it/s]\n"
     ]
    },
    {
     "name": "stdout",
     "output_type": "stream",
     "text": [
      "Loading data from dataloader\n"
     ]
    },
    {
     "name": "stderr",
     "output_type": "stream",
     "text": [
      "100%|██████████| 24/24 [00:00<00:00, 65.75it/s]\n"
     ]
    },
    {
     "name": "stdout",
     "output_type": "stream",
     "text": [
      "Loading data from dataloader\n"
     ]
    },
    {
     "name": "stderr",
     "output_type": "stream",
     "text": [
      "100%|██████████| 23/23 [00:00<00:00, 60.29it/s]\n"
     ]
    },
    {
     "name": "stdout",
     "output_type": "stream",
     "text": [
      "Loading data from dataloader\n"
     ]
    },
    {
     "name": "stderr",
     "output_type": "stream",
     "text": [
      "100%|██████████| 20/20 [00:00<00:00, 56.62it/s]\n"
     ]
    },
    {
     "name": "stdout",
     "output_type": "stream",
     "text": [
      "Loading data from dataloader\n"
     ]
    },
    {
     "name": "stderr",
     "output_type": "stream",
     "text": [
      "100%|██████████| 19/19 [00:00<00:00, 56.80it/s]\n"
     ]
    },
    {
     "name": "stdout",
     "output_type": "stream",
     "text": [
      "Loading data from dataloader\n"
     ]
    },
    {
     "name": "stderr",
     "output_type": "stream",
     "text": [
      "100%|██████████| 8/8 [00:00<00:00, 36.31it/s]\n"
     ]
    },
    {
     "name": "stdout",
     "output_type": "stream",
     "text": [
      "Loading data from dataloader\n"
     ]
    },
    {
     "name": "stderr",
     "output_type": "stream",
     "text": [
      "100%|██████████| 9/9 [00:00<00:00, 45.50it/s]\n"
     ]
    },
    {
     "name": "stdout",
     "output_type": "stream",
     "text": [
      "Loading data from dataloader\n"
     ]
    },
    {
     "name": "stderr",
     "output_type": "stream",
     "text": [
      "100%|██████████| 22/22 [00:00<00:00, 64.36it/s]\n"
     ]
    },
    {
     "name": "stdout",
     "output_type": "stream",
     "text": [
      "Loading data from dataloader\n"
     ]
    },
    {
     "name": "stderr",
     "output_type": "stream",
     "text": [
      "100%|██████████| 22/22 [00:00<00:00, 61.93it/s]\n"
     ]
    },
    {
     "name": "stdout",
     "output_type": "stream",
     "text": [
      "Loading data from dataloader\n"
     ]
    },
    {
     "name": "stderr",
     "output_type": "stream",
     "text": [
      "100%|██████████| 22/22 [00:00<00:00, 63.00it/s]\n"
     ]
    },
    {
     "name": "stdout",
     "output_type": "stream",
     "text": [
      "Loading data from dataloader\n"
     ]
    },
    {
     "name": "stderr",
     "output_type": "stream",
     "text": [
      "100%|██████████| 18/18 [00:00<00:00, 60.65it/s]\n"
     ]
    },
    {
     "name": "stdout",
     "output_type": "stream",
     "text": [
      "Loading data from dataloader\n"
     ]
    },
    {
     "name": "stderr",
     "output_type": "stream",
     "text": [
      "100%|██████████| 16/16 [00:00<00:00, 49.73it/s]\n"
     ]
    },
    {
     "name": "stdout",
     "output_type": "stream",
     "text": [
      "Loading data from dataloader\n"
     ]
    },
    {
     "name": "stderr",
     "output_type": "stream",
     "text": [
      "100%|██████████| 8/8 [00:00<00:00, 40.46it/s]\n"
     ]
    },
    {
     "name": "stdout",
     "output_type": "stream",
     "text": [
      "Loading data from dataloader\n"
     ]
    },
    {
     "name": "stderr",
     "output_type": "stream",
     "text": [
      "100%|██████████| 8/8 [00:00<00:00, 38.35it/s]\n"
     ]
    },
    {
     "name": "stdout",
     "output_type": "stream",
     "text": [
      "Loading data from dataloader\n"
     ]
    },
    {
     "name": "stderr",
     "output_type": "stream",
     "text": [
      "100%|██████████| 21/21 [00:00<00:00, 62.33it/s]\n"
     ]
    },
    {
     "name": "stdout",
     "output_type": "stream",
     "text": [
      "Loading data from dataloader\n"
     ]
    },
    {
     "name": "stderr",
     "output_type": "stream",
     "text": [
      "100%|██████████| 21/21 [00:00<00:00, 57.18it/s]\n"
     ]
    },
    {
     "name": "stdout",
     "output_type": "stream",
     "text": [
      "Loading data from dataloader\n"
     ]
    },
    {
     "name": "stderr",
     "output_type": "stream",
     "text": [
      "100%|██████████| 21/21 [00:00<00:00, 58.00it/s]\n"
     ]
    },
    {
     "name": "stdout",
     "output_type": "stream",
     "text": [
      "Loading data from dataloader\n"
     ]
    },
    {
     "name": "stderr",
     "output_type": "stream",
     "text": [
      "100%|██████████| 20/20 [00:00<00:00, 54.38it/s]\n"
     ]
    },
    {
     "name": "stdout",
     "output_type": "stream",
     "text": [
      "Loading data from dataloader\n"
     ]
    },
    {
     "name": "stderr",
     "output_type": "stream",
     "text": [
      "100%|██████████| 17/17 [00:00<00:00, 56.31it/s]\n"
     ]
    },
    {
     "name": "stdout",
     "output_type": "stream",
     "text": [
      "Loading data from dataloader\n"
     ]
    },
    {
     "name": "stderr",
     "output_type": "stream",
     "text": [
      "100%|██████████| 8/8 [00:00<00:00, 42.61it/s]\n"
     ]
    },
    {
     "name": "stdout",
     "output_type": "stream",
     "text": [
      "Loading data from dataloader\n"
     ]
    },
    {
     "name": "stderr",
     "output_type": "stream",
     "text": [
      "100%|██████████| 8/8 [00:00<00:00, 20.48it/s]\n"
     ]
    },
    {
     "name": "stdout",
     "output_type": "stream",
     "text": [
      "Loading data from dataloader\n"
     ]
    },
    {
     "name": "stderr",
     "output_type": "stream",
     "text": [
      "100%|██████████| 18/18 [00:00<00:00, 58.99it/s]\n"
     ]
    },
    {
     "name": "stdout",
     "output_type": "stream",
     "text": [
      "Loading data from dataloader\n"
     ]
    },
    {
     "name": "stderr",
     "output_type": "stream",
     "text": [
      "100%|██████████| 21/21 [00:00<00:00, 46.70it/s]\n"
     ]
    },
    {
     "name": "stdout",
     "output_type": "stream",
     "text": [
      "Loading data from dataloader\n"
     ]
    },
    {
     "name": "stderr",
     "output_type": "stream",
     "text": [
      "100%|██████████| 19/19 [00:00<00:00, 54.56it/s]\n"
     ]
    },
    {
     "name": "stdout",
     "output_type": "stream",
     "text": [
      "Loading data from dataloader\n"
     ]
    },
    {
     "name": "stderr",
     "output_type": "stream",
     "text": [
      "100%|██████████| 20/20 [00:00<00:00, 61.31it/s]\n"
     ]
    },
    {
     "name": "stdout",
     "output_type": "stream",
     "text": [
      "Loading data from dataloader\n"
     ]
    },
    {
     "name": "stderr",
     "output_type": "stream",
     "text": [
      "100%|██████████| 18/18 [00:00<00:00, 60.27it/s]\n"
     ]
    },
    {
     "name": "stdout",
     "output_type": "stream",
     "text": [
      "Loading data from dataloader\n"
     ]
    },
    {
     "name": "stderr",
     "output_type": "stream",
     "text": [
      "100%|██████████| 8/8 [00:00<00:00, 39.87it/s]\n"
     ]
    },
    {
     "name": "stdout",
     "output_type": "stream",
     "text": [
      "Loading data from dataloader\n"
     ]
    },
    {
     "name": "stderr",
     "output_type": "stream",
     "text": [
      "100%|██████████| 8/8 [00:00<00:00, 40.27it/s]\n"
     ]
    },
    {
     "name": "stdout",
     "output_type": "stream",
     "text": [
      "Loading data from dataloader\n"
     ]
    },
    {
     "name": "stderr",
     "output_type": "stream",
     "text": [
      "100%|██████████| 21/21 [00:00<00:00, 59.50it/s]\n"
     ]
    },
    {
     "name": "stdout",
     "output_type": "stream",
     "text": [
      "Loading data from dataloader\n"
     ]
    },
    {
     "name": "stderr",
     "output_type": "stream",
     "text": [
      "100%|██████████| 21/21 [00:00<00:00, 63.63it/s]\n"
     ]
    },
    {
     "name": "stdout",
     "output_type": "stream",
     "text": [
      "Loading data from dataloader\n"
     ]
    },
    {
     "name": "stderr",
     "output_type": "stream",
     "text": [
      "100%|██████████| 20/20 [00:00<00:00, 61.17it/s]\n"
     ]
    },
    {
     "name": "stdout",
     "output_type": "stream",
     "text": [
      "Loading data from dataloader\n"
     ]
    },
    {
     "name": "stderr",
     "output_type": "stream",
     "text": [
      "100%|██████████| 17/17 [00:00<00:00, 54.49it/s]\n"
     ]
    },
    {
     "name": "stdout",
     "output_type": "stream",
     "text": [
      "Loading data from dataloader\n"
     ]
    },
    {
     "name": "stderr",
     "output_type": "stream",
     "text": [
      "100%|██████████| 16/16 [00:00<00:00, 53.94it/s]\n"
     ]
    },
    {
     "name": "stdout",
     "output_type": "stream",
     "text": [
      "Loading data from dataloader\n"
     ]
    },
    {
     "name": "stderr",
     "output_type": "stream",
     "text": [
      "100%|██████████| 8/8 [00:00<00:00, 31.67it/s]\n"
     ]
    },
    {
     "name": "stdout",
     "output_type": "stream",
     "text": [
      "Loading data from dataloader\n"
     ]
    },
    {
     "name": "stderr",
     "output_type": "stream",
     "text": [
      "100%|██████████| 8/8 [00:00<00:00, 37.38it/s]\n"
     ]
    },
    {
     "name": "stdout",
     "output_type": "stream",
     "text": [
      "Loading data from dataloader\n"
     ]
    },
    {
     "name": "stderr",
     "output_type": "stream",
     "text": [
      "100%|██████████| 22/22 [00:00<00:00, 64.16it/s]\n"
     ]
    },
    {
     "name": "stdout",
     "output_type": "stream",
     "text": [
      "Loading data from dataloader\n"
     ]
    },
    {
     "name": "stderr",
     "output_type": "stream",
     "text": [
      "100%|██████████| 22/22 [00:00<00:00, 63.10it/s]\n"
     ]
    },
    {
     "name": "stdout",
     "output_type": "stream",
     "text": [
      "Loading data from dataloader\n"
     ]
    },
    {
     "name": "stderr",
     "output_type": "stream",
     "text": [
      "100%|██████████| 21/21 [00:00<00:00, 45.92it/s]\n"
     ]
    },
    {
     "name": "stdout",
     "output_type": "stream",
     "text": [
      "Loading data from dataloader\n"
     ]
    },
    {
     "name": "stderr",
     "output_type": "stream",
     "text": [
      "100%|██████████| 19/19 [00:00<00:00, 59.57it/s]\n"
     ]
    },
    {
     "name": "stdout",
     "output_type": "stream",
     "text": [
      "Drift detected, retraining\n",
      "Loading data from dataloader\n"
     ]
    },
    {
     "name": "stderr",
     "output_type": "stream",
     "text": [
      "100%|██████████| 16/16 [00:00<00:00, 58.08it/s]\n"
     ]
    },
    {
     "name": "stdout",
     "output_type": "stream",
     "text": [
      "Loading data from dataloader\n"
     ]
    },
    {
     "name": "stderr",
     "output_type": "stream",
     "text": [
      "100%|██████████| 8/8 [00:00<00:00, 43.89it/s]\n"
     ]
    },
    {
     "name": "stdout",
     "output_type": "stream",
     "text": [
      "Loading data from dataloader\n"
     ]
    },
    {
     "name": "stderr",
     "output_type": "stream",
     "text": [
      "100%|██████████| 7/7 [00:00<00:00, 39.11it/s]\n"
     ]
    },
    {
     "name": "stdout",
     "output_type": "stream",
     "text": [
      "Loading data from dataloader\n"
     ]
    },
    {
     "name": "stderr",
     "output_type": "stream",
     "text": [
      "100%|██████████| 18/18 [00:00<00:00, 61.34it/s]\n"
     ]
    },
    {
     "name": "stdout",
     "output_type": "stream",
     "text": [
      "Loading data from dataloader\n"
     ]
    },
    {
     "name": "stderr",
     "output_type": "stream",
     "text": [
      "100%|██████████| 17/17 [00:00<00:00, 59.69it/s]\n"
     ]
    },
    {
     "name": "stdout",
     "output_type": "stream",
     "text": [
      "Loading data from dataloader\n"
     ]
    },
    {
     "name": "stderr",
     "output_type": "stream",
     "text": [
      "100%|██████████| 15/15 [00:00<00:00, 57.84it/s]\n"
     ]
    },
    {
     "name": "stdout",
     "output_type": "stream",
     "text": [
      "Loading data from dataloader\n"
     ]
    },
    {
     "name": "stderr",
     "output_type": "stream",
     "text": [
      "100%|██████████| 14/14 [00:00<00:00, 55.69it/s]\n"
     ]
    },
    {
     "name": "stdout",
     "output_type": "stream",
     "text": [
      "Loading data from dataloader\n"
     ]
    },
    {
     "name": "stderr",
     "output_type": "stream",
     "text": [
      "100%|██████████| 12/12 [00:00<00:00, 50.63it/s]\n"
     ]
    },
    {
     "name": "stdout",
     "output_type": "stream",
     "text": [
      "Loading data from dataloader\n"
     ]
    },
    {
     "name": "stderr",
     "output_type": "stream",
     "text": [
      "100%|██████████| 7/7 [00:00<00:00, 43.53it/s]\n"
     ]
    },
    {
     "name": "stdout",
     "output_type": "stream",
     "text": [
      "Loading data from dataloader\n"
     ]
    },
    {
     "name": "stderr",
     "output_type": "stream",
     "text": [
      "100%|██████████| 6/6 [00:00<00:00, 35.95it/s]\n"
     ]
    },
    {
     "name": "stdout",
     "output_type": "stream",
     "text": [
      "Loading data from dataloader\n"
     ]
    },
    {
     "name": "stderr",
     "output_type": "stream",
     "text": [
      "100%|██████████| 11/11 [00:00<00:00, 46.81it/s]\n"
     ]
    },
    {
     "name": "stdout",
     "output_type": "stream",
     "text": [
      "Loading data from dataloader\n"
     ]
    },
    {
     "name": "stderr",
     "output_type": "stream",
     "text": [
      "100%|██████████| 9/9 [00:00<00:00, 44.36it/s]\n"
     ]
    },
    {
     "name": "stdout",
     "output_type": "stream",
     "text": [
      "Loading data from dataloader\n"
     ]
    },
    {
     "name": "stderr",
     "output_type": "stream",
     "text": [
      "100%|██████████| 9/9 [00:00<00:00, 44.59it/s]\n"
     ]
    },
    {
     "name": "stdout",
     "output_type": "stream",
     "text": [
      "Loading data from dataloader\n"
     ]
    },
    {
     "name": "stderr",
     "output_type": "stream",
     "text": [
      "100%|██████████| 13/13 [00:00<00:00, 53.23it/s]\n"
     ]
    },
    {
     "name": "stdout",
     "output_type": "stream",
     "text": [
      "Loading data from dataloader\n"
     ]
    },
    {
     "name": "stderr",
     "output_type": "stream",
     "text": [
      "100%|██████████| 11/11 [00:00<00:00, 48.79it/s]\n"
     ]
    },
    {
     "name": "stdout",
     "output_type": "stream",
     "text": [
      "Loading data from dataloader\n"
     ]
    },
    {
     "name": "stderr",
     "output_type": "stream",
     "text": [
      "100%|██████████| 6/6 [00:00<00:00, 35.29it/s]\n"
     ]
    },
    {
     "name": "stdout",
     "output_type": "stream",
     "text": [
      "Loading data from dataloader\n"
     ]
    },
    {
     "name": "stderr",
     "output_type": "stream",
     "text": [
      "100%|██████████| 6/6 [00:00<00:00, 32.71it/s]\n"
     ]
    },
    {
     "name": "stdout",
     "output_type": "stream",
     "text": [
      "Loading data from dataloader\n"
     ]
    },
    {
     "name": "stderr",
     "output_type": "stream",
     "text": [
      "100%|██████████| 13/13 [00:00<00:00, 52.42it/s]\n"
     ]
    },
    {
     "name": "stdout",
     "output_type": "stream",
     "text": [
      "Loading data from dataloader\n"
     ]
    },
    {
     "name": "stderr",
     "output_type": "stream",
     "text": [
      "100%|██████████| 14/14 [00:00<00:00, 58.02it/s]\n"
     ]
    },
    {
     "name": "stdout",
     "output_type": "stream",
     "text": [
      "Loading data from dataloader\n"
     ]
    },
    {
     "name": "stderr",
     "output_type": "stream",
     "text": [
      "100%|██████████| 13/13 [00:00<00:00, 53.51it/s]\n"
     ]
    },
    {
     "name": "stdout",
     "output_type": "stream",
     "text": [
      "Loading data from dataloader\n"
     ]
    },
    {
     "name": "stderr",
     "output_type": "stream",
     "text": [
      "100%|██████████| 13/13 [00:00<00:00, 55.09it/s]\n"
     ]
    },
    {
     "name": "stdout",
     "output_type": "stream",
     "text": [
      "Loading data from dataloader\n"
     ]
    },
    {
     "name": "stderr",
     "output_type": "stream",
     "text": [
      "100%|██████████| 11/11 [00:00<00:00, 48.06it/s]\n"
     ]
    },
    {
     "name": "stdout",
     "output_type": "stream",
     "text": [
      "Loading data from dataloader\n"
     ]
    },
    {
     "name": "stderr",
     "output_type": "stream",
     "text": [
      "100%|██████████| 6/6 [00:00<00:00, 38.42it/s]\n"
     ]
    },
    {
     "name": "stdout",
     "output_type": "stream",
     "text": [
      "Loading data from dataloader\n"
     ]
    },
    {
     "name": "stderr",
     "output_type": "stream",
     "text": [
      "100%|██████████| 6/6 [00:00<00:00, 37.24it/s]\n"
     ]
    },
    {
     "name": "stdout",
     "output_type": "stream",
     "text": [
      "Loading data from dataloader\n"
     ]
    },
    {
     "name": "stderr",
     "output_type": "stream",
     "text": [
      "100%|██████████| 13/13 [00:00<00:00, 55.13it/s]\n"
     ]
    },
    {
     "name": "stdout",
     "output_type": "stream",
     "text": [
      "Loading data from dataloader\n"
     ]
    },
    {
     "name": "stderr",
     "output_type": "stream",
     "text": [
      "100%|██████████| 12/12 [00:00<00:00, 49.77it/s]\n"
     ]
    },
    {
     "name": "stdout",
     "output_type": "stream",
     "text": [
      "Loading data from dataloader\n"
     ]
    },
    {
     "name": "stderr",
     "output_type": "stream",
     "text": [
      "100%|██████████| 13/13 [00:00<00:00, 55.36it/s]\n"
     ]
    },
    {
     "name": "stdout",
     "output_type": "stream",
     "text": [
      "Loading data from dataloader\n"
     ]
    },
    {
     "name": "stderr",
     "output_type": "stream",
     "text": [
      "100%|██████████| 12/12 [00:00<00:00, 51.49it/s]\n"
     ]
    },
    {
     "name": "stdout",
     "output_type": "stream",
     "text": [
      "Loading data from dataloader\n"
     ]
    },
    {
     "name": "stderr",
     "output_type": "stream",
     "text": [
      "100%|██████████| 10/10 [00:00<00:00, 44.28it/s]\n"
     ]
    },
    {
     "name": "stdout",
     "output_type": "stream",
     "text": [
      "Loading data from dataloader\n"
     ]
    },
    {
     "name": "stderr",
     "output_type": "stream",
     "text": [
      "100%|██████████| 5/5 [00:00<00:00, 31.61it/s]\n"
     ]
    },
    {
     "name": "stdout",
     "output_type": "stream",
     "text": [
      "Loading data from dataloader\n"
     ]
    },
    {
     "name": "stderr",
     "output_type": "stream",
     "text": [
      "100%|██████████| 6/6 [00:00<00:00, 36.64it/s]\n"
     ]
    },
    {
     "name": "stdout",
     "output_type": "stream",
     "text": [
      "Loading data from dataloader\n"
     ]
    },
    {
     "name": "stderr",
     "output_type": "stream",
     "text": [
      "100%|██████████| 12/12 [00:00<00:00, 52.58it/s]\n"
     ]
    },
    {
     "name": "stdout",
     "output_type": "stream",
     "text": [
      "Loading data from dataloader\n"
     ]
    },
    {
     "name": "stderr",
     "output_type": "stream",
     "text": [
      "100%|██████████| 12/12 [00:00<00:00, 50.21it/s]\n"
     ]
    },
    {
     "name": "stdout",
     "output_type": "stream",
     "text": [
      "Loading data from dataloader\n"
     ]
    },
    {
     "name": "stderr",
     "output_type": "stream",
     "text": [
      "100%|██████████| 12/12 [00:00<00:00, 49.86it/s]\n"
     ]
    },
    {
     "name": "stdout",
     "output_type": "stream",
     "text": [
      "Loading data from dataloader\n"
     ]
    },
    {
     "name": "stderr",
     "output_type": "stream",
     "text": [
      "100%|██████████| 12/12 [00:00<00:00, 53.45it/s]\n"
     ]
    },
    {
     "name": "stdout",
     "output_type": "stream",
     "text": [
      "Loading data from dataloader\n"
     ]
    },
    {
     "name": "stderr",
     "output_type": "stream",
     "text": [
      "100%|██████████| 10/10 [00:00<00:00, 46.17it/s]\n"
     ]
    },
    {
     "name": "stdout",
     "output_type": "stream",
     "text": [
      "Loading data from dataloader\n"
     ]
    },
    {
     "name": "stderr",
     "output_type": "stream",
     "text": [
      "100%|██████████| 6/6 [00:00<00:00, 38.92it/s]\n"
     ]
    },
    {
     "name": "stdout",
     "output_type": "stream",
     "text": [
      "Loading data from dataloader\n"
     ]
    },
    {
     "name": "stderr",
     "output_type": "stream",
     "text": [
      "100%|██████████| 6/6 [00:00<00:00, 34.95it/s]\n"
     ]
    },
    {
     "name": "stdout",
     "output_type": "stream",
     "text": [
      "Loading data from dataloader\n"
     ]
    },
    {
     "name": "stderr",
     "output_type": "stream",
     "text": [
      "100%|██████████| 12/12 [00:00<00:00, 49.53it/s]\n"
     ]
    },
    {
     "name": "stdout",
     "output_type": "stream",
     "text": [
      "Loading data from dataloader\n"
     ]
    },
    {
     "name": "stderr",
     "output_type": "stream",
     "text": [
      "100%|██████████| 12/12 [00:00<00:00, 50.21it/s]\n"
     ]
    },
    {
     "name": "stdout",
     "output_type": "stream",
     "text": [
      "Loading data from dataloader\n"
     ]
    },
    {
     "name": "stderr",
     "output_type": "stream",
     "text": [
      "100%|██████████| 12/12 [00:00<00:00, 47.94it/s]\n"
     ]
    },
    {
     "name": "stdout",
     "output_type": "stream",
     "text": [
      "Loading data from dataloader\n"
     ]
    },
    {
     "name": "stderr",
     "output_type": "stream",
     "text": [
      "100%|██████████| 12/12 [00:00<00:00, 52.48it/s]\n"
     ]
    },
    {
     "name": "stdout",
     "output_type": "stream",
     "text": [
      "Loading data from dataloader\n"
     ]
    },
    {
     "name": "stderr",
     "output_type": "stream",
     "text": [
      "100%|██████████| 10/10 [00:00<00:00, 45.90it/s]\n"
     ]
    },
    {
     "name": "stdout",
     "output_type": "stream",
     "text": [
      "Loading data from dataloader\n"
     ]
    },
    {
     "name": "stderr",
     "output_type": "stream",
     "text": [
      "100%|██████████| 6/6 [00:00<00:00, 35.35it/s]\n"
     ]
    },
    {
     "name": "stdout",
     "output_type": "stream",
     "text": [
      "Loading data from dataloader\n"
     ]
    },
    {
     "name": "stderr",
     "output_type": "stream",
     "text": [
      "100%|██████████| 6/6 [00:00<00:00, 37.02it/s]\n"
     ]
    },
    {
     "name": "stdout",
     "output_type": "stream",
     "text": [
      "Loading data from dataloader\n"
     ]
    },
    {
     "name": "stderr",
     "output_type": "stream",
     "text": [
      "100%|██████████| 11/11 [00:00<00:00, 48.84it/s]\n"
     ]
    },
    {
     "name": "stdout",
     "output_type": "stream",
     "text": [
      "Loading data from dataloader\n"
     ]
    },
    {
     "name": "stderr",
     "output_type": "stream",
     "text": [
      "100%|██████████| 12/12 [00:00<00:00, 51.45it/s]\n"
     ]
    },
    {
     "name": "stdout",
     "output_type": "stream",
     "text": [
      "Loading data from dataloader\n"
     ]
    },
    {
     "name": "stderr",
     "output_type": "stream",
     "text": [
      "100%|██████████| 12/12 [00:00<00:00, 50.18it/s]\n"
     ]
    },
    {
     "name": "stdout",
     "output_type": "stream",
     "text": [
      "Loading data from dataloader\n"
     ]
    },
    {
     "name": "stderr",
     "output_type": "stream",
     "text": [
      "100%|██████████| 12/12 [00:00<00:00, 50.00it/s]\n"
     ]
    },
    {
     "name": "stdout",
     "output_type": "stream",
     "text": [
      "Drift detected, retraining\n",
      "An error occurred: Invalid classes inferred from unique values of `y`.  Expected: [  0   1   2   3   4   5   6   7   8   9  10  11  12  13  14  15  16  17\n",
      "  18  19  20  21  22  23  24  25  26  27  28  29  30  31  32  33  34  35\n",
      "  36  37  38  39  40  41  42  43  44  45  46  47  48  49  50  51  52  53\n",
      "  54  55  56  57  58  59  60  61  62  63  64  65  66  67  68  69  70  71\n",
      "  72  73  74  75  76  77  78  79  80  81  82  83  84  85  86  87  88  89\n",
      "  90  91  92  93  94  95  96  97  98  99 100 101 102 103 104 105 106 107\n",
      " 108 109 110 111 112 113 114 115 116 117 118 119 120 121 122 123 124 125\n",
      " 126 127 128 129 130 131 132 133 134 135 136 137 138 139 140 141 142 143\n",
      " 144 145 146 147 148 149 150 151 152 153 154 155], got [  0   1   2   3   4   5   6   7   8   9  10  11  12  13  14  15  16  17\n",
      "  18  19  20  21  22  23  24  25  26  27  28  29  30  31  32  33  34  35\n",
      "  36  37  38  39  40  41  42  43  44  45  46  47  48  49  50  51  52  53\n",
      "  54  55  56  57  58  59  60  61  62  63  64  65  66  67  68  69  70  71\n",
      "  72  73  74  75  76  77  78  79  80  81  82  83  84  85  86  87  88  89\n",
      "  90  91  92  93  94  95  96  97  98  99 100 101 102 103 104 105 106 107\n",
      " 108 109 110 111 112 113 114 115 116 117 118 119 120 121 122 123 124 125\n",
      " 126 127 129 130 131 132 133 134 135 136 137 138 139 140 141 142 143 144\n",
      " 145 146 147 148 149 150 151 152 153 154 155 156]\n",
      "2022-08-11 00:00:00 missing from the dataset\n",
      "Loading data from dataloader\n"
     ]
    },
    {
     "name": "stderr",
     "output_type": "stream",
     "text": [
      "100%|██████████| 11/11 [00:00<00:00, 52.10it/s]\n"
     ]
    },
    {
     "name": "stdout",
     "output_type": "stream",
     "text": [
      "Loading data from dataloader\n"
     ]
    },
    {
     "name": "stderr",
     "output_type": "stream",
     "text": [
      "100%|██████████| 6/6 [00:00<00:00, 37.87it/s]\n"
     ]
    },
    {
     "name": "stdout",
     "output_type": "stream",
     "text": [
      "Loading data from dataloader\n"
     ]
    },
    {
     "name": "stderr",
     "output_type": "stream",
     "text": [
      "100%|██████████| 6/6 [00:00<00:00, 35.28it/s]\n"
     ]
    },
    {
     "name": "stdout",
     "output_type": "stream",
     "text": [
      "Loading data from dataloader\n"
     ]
    },
    {
     "name": "stderr",
     "output_type": "stream",
     "text": [
      "100%|██████████| 11/11 [00:00<00:00, 51.38it/s]\n"
     ]
    },
    {
     "name": "stdout",
     "output_type": "stream",
     "text": [
      "Loading data from dataloader\n"
     ]
    },
    {
     "name": "stderr",
     "output_type": "stream",
     "text": [
      "100%|██████████| 12/12 [00:00<00:00, 49.06it/s]\n"
     ]
    },
    {
     "name": "stdout",
     "output_type": "stream",
     "text": [
      "Loading data from dataloader\n"
     ]
    },
    {
     "name": "stderr",
     "output_type": "stream",
     "text": [
      "100%|██████████| 12/12 [00:00<00:00, 53.29it/s]\n"
     ]
    },
    {
     "name": "stdout",
     "output_type": "stream",
     "text": [
      "Loading data from dataloader\n"
     ]
    },
    {
     "name": "stderr",
     "output_type": "stream",
     "text": [
      "100%|██████████| 12/12 [00:00<00:00, 49.31it/s]\n"
     ]
    },
    {
     "name": "stdout",
     "output_type": "stream",
     "text": [
      "Loading data from dataloader\n"
     ]
    },
    {
     "name": "stderr",
     "output_type": "stream",
     "text": [
      "100%|██████████| 11/11 [00:00<00:00, 51.42it/s]\n"
     ]
    },
    {
     "name": "stdout",
     "output_type": "stream",
     "text": [
      "Loading data from dataloader\n"
     ]
    },
    {
     "name": "stderr",
     "output_type": "stream",
     "text": [
      "100%|██████████| 6/6 [00:00<00:00, 34.97it/s]\n"
     ]
    },
    {
     "name": "stdout",
     "output_type": "stream",
     "text": [
      "Loading data from dataloader\n"
     ]
    },
    {
     "name": "stderr",
     "output_type": "stream",
     "text": [
      "100%|██████████| 6/6 [00:00<00:00, 36.74it/s]\n"
     ]
    },
    {
     "name": "stdout",
     "output_type": "stream",
     "text": [
      "Loading data from dataloader\n"
     ]
    },
    {
     "name": "stderr",
     "output_type": "stream",
     "text": [
      "100%|██████████| 13/13 [00:00<00:00, 51.58it/s]\n"
     ]
    },
    {
     "name": "stdout",
     "output_type": "stream",
     "text": [
      "Loading data from dataloader\n"
     ]
    },
    {
     "name": "stderr",
     "output_type": "stream",
     "text": [
      "100%|██████████| 13/13 [00:00<00:00, 52.08it/s]\n"
     ]
    },
    {
     "name": "stdout",
     "output_type": "stream",
     "text": [
      "Loading data from dataloader\n"
     ]
    },
    {
     "name": "stderr",
     "output_type": "stream",
     "text": [
      "100%|██████████| 13/13 [00:00<00:00, 54.77it/s]\n"
     ]
    },
    {
     "name": "stdout",
     "output_type": "stream",
     "text": [
      "Loading data from dataloader\n"
     ]
    },
    {
     "name": "stderr",
     "output_type": "stream",
     "text": [
      "100%|██████████| 13/13 [00:00<00:00, 53.72it/s]\n"
     ]
    },
    {
     "name": "stdout",
     "output_type": "stream",
     "text": [
      "Loading data from dataloader\n"
     ]
    },
    {
     "name": "stderr",
     "output_type": "stream",
     "text": [
      "100%|██████████| 12/12 [00:00<00:00, 53.35it/s]\n"
     ]
    },
    {
     "name": "stdout",
     "output_type": "stream",
     "text": [
      "Loading data from dataloader\n"
     ]
    },
    {
     "name": "stderr",
     "output_type": "stream",
     "text": [
      "100%|██████████| 6/6 [00:00<00:00, 38.18it/s]\n"
     ]
    },
    {
     "name": "stdout",
     "output_type": "stream",
     "text": [
      "Loading data from dataloader\n"
     ]
    },
    {
     "name": "stderr",
     "output_type": "stream",
     "text": [
      "100%|██████████| 6/6 [00:00<00:00, 36.56it/s]\n"
     ]
    },
    {
     "name": "stdout",
     "output_type": "stream",
     "text": [
      "Loading data from dataloader\n"
     ]
    },
    {
     "name": "stderr",
     "output_type": "stream",
     "text": [
      "100%|██████████| 13/13 [00:00<00:00, 54.47it/s]\n"
     ]
    },
    {
     "name": "stdout",
     "output_type": "stream",
     "text": [
      "Loading data from dataloader\n"
     ]
    },
    {
     "name": "stderr",
     "output_type": "stream",
     "text": [
      "100%|██████████| 14/14 [00:00<00:00, 56.61it/s]\n"
     ]
    },
    {
     "name": "stdout",
     "output_type": "stream",
     "text": [
      "Loading data from dataloader\n"
     ]
    },
    {
     "name": "stderr",
     "output_type": "stream",
     "text": [
      "100%|██████████| 14/14 [00:00<00:00, 55.49it/s]\n"
     ]
    },
    {
     "name": "stdout",
     "output_type": "stream",
     "text": [
      "Loading data from dataloader\n"
     ]
    },
    {
     "name": "stderr",
     "output_type": "stream",
     "text": [
      "100%|██████████| 13/13 [00:00<00:00, 53.29it/s]\n"
     ]
    },
    {
     "name": "stdout",
     "output_type": "stream",
     "text": [
      "Loading data from dataloader\n"
     ]
    },
    {
     "name": "stderr",
     "output_type": "stream",
     "text": [
      "100%|██████████| 12/12 [00:00<00:00, 50.99it/s]\n"
     ]
    },
    {
     "name": "stdout",
     "output_type": "stream",
     "text": [
      "Loading data from dataloader\n"
     ]
    },
    {
     "name": "stderr",
     "output_type": "stream",
     "text": [
      "100%|██████████| 6/6 [00:00<00:00, 38.64it/s]\n"
     ]
    },
    {
     "name": "stdout",
     "output_type": "stream",
     "text": [
      "Loading data from dataloader\n"
     ]
    },
    {
     "name": "stderr",
     "output_type": "stream",
     "text": [
      "100%|██████████| 6/6 [00:00<00:00, 38.10it/s]\n"
     ]
    },
    {
     "name": "stdout",
     "output_type": "stream",
     "text": [
      "Loading data from dataloader\n"
     ]
    },
    {
     "name": "stderr",
     "output_type": "stream",
     "text": [
      "100%|██████████| 15/15 [00:00<00:00, 57.37it/s]\n"
     ]
    },
    {
     "name": "stdout",
     "output_type": "stream",
     "text": [
      "Loading data from dataloader\n"
     ]
    },
    {
     "name": "stderr",
     "output_type": "stream",
     "text": [
      "100%|██████████| 16/16 [00:00<00:00, 58.78it/s]\n"
     ]
    },
    {
     "name": "stdout",
     "output_type": "stream",
     "text": [
      "Loading data from dataloader\n"
     ]
    },
    {
     "name": "stderr",
     "output_type": "stream",
     "text": [
      "100%|██████████| 17/17 [00:00<00:00, 56.18it/s]\n"
     ]
    },
    {
     "name": "stdout",
     "output_type": "stream",
     "text": [
      "Loading data from dataloader\n"
     ]
    },
    {
     "name": "stderr",
     "output_type": "stream",
     "text": [
      "100%|██████████| 16/16 [00:00<00:00, 57.66it/s]\n"
     ]
    },
    {
     "name": "stdout",
     "output_type": "stream",
     "text": [
      "Loading data from dataloader\n"
     ]
    },
    {
     "name": "stderr",
     "output_type": "stream",
     "text": [
      "100%|██████████| 14/14 [00:00<00:00, 54.27it/s]\n"
     ]
    },
    {
     "name": "stdout",
     "output_type": "stream",
     "text": [
      "Loading data from dataloader\n"
     ]
    },
    {
     "name": "stderr",
     "output_type": "stream",
     "text": [
      "100%|██████████| 6/6 [00:00<00:00, 36.00it/s]\n"
     ]
    },
    {
     "name": "stdout",
     "output_type": "stream",
     "text": [
      "Loading data from dataloader\n"
     ]
    },
    {
     "name": "stderr",
     "output_type": "stream",
     "text": [
      "100%|██████████| 6/6 [00:00<00:00, 33.42it/s]\n"
     ]
    },
    {
     "name": "stdout",
     "output_type": "stream",
     "text": [
      "Loading data from dataloader\n"
     ]
    },
    {
     "name": "stderr",
     "output_type": "stream",
     "text": [
      "100%|██████████| 16/16 [00:00<00:00, 55.87it/s]\n"
     ]
    },
    {
     "name": "stdout",
     "output_type": "stream",
     "text": [
      "Loading data from dataloader\n"
     ]
    },
    {
     "name": "stderr",
     "output_type": "stream",
     "text": [
      "100%|██████████| 16/16 [00:00<00:00, 58.17it/s]\n"
     ]
    },
    {
     "name": "stdout",
     "output_type": "stream",
     "text": [
      "Loading data from dataloader\n"
     ]
    },
    {
     "name": "stderr",
     "output_type": "stream",
     "text": [
      "100%|██████████| 18/18 [00:00<00:00, 60.33it/s]\n"
     ]
    },
    {
     "name": "stdout",
     "output_type": "stream",
     "text": [
      "Loading data from dataloader\n"
     ]
    },
    {
     "name": "stderr",
     "output_type": "stream",
     "text": [
      "100%|██████████| 17/17 [00:00<00:00, 55.36it/s]\n"
     ]
    },
    {
     "name": "stdout",
     "output_type": "stream",
     "text": [
      "Loading data from dataloader\n"
     ]
    },
    {
     "name": "stderr",
     "output_type": "stream",
     "text": [
      "100%|██████████| 14/14 [00:00<00:00, 56.86it/s]\n"
     ]
    },
    {
     "name": "stdout",
     "output_type": "stream",
     "text": [
      "Loading data from dataloader\n"
     ]
    },
    {
     "name": "stderr",
     "output_type": "stream",
     "text": [
      "100%|██████████| 6/6 [00:00<00:00, 36.13it/s]\n"
     ]
    },
    {
     "name": "stdout",
     "output_type": "stream",
     "text": [
      "Drift detected, retraining\n",
      "Loading data from dataloader\n"
     ]
    },
    {
     "name": "stderr",
     "output_type": "stream",
     "text": [
      "100%|██████████| 6/6 [00:00<00:00, 34.32it/s]\n"
     ]
    },
    {
     "name": "stdout",
     "output_type": "stream",
     "text": [
      "Drift detected, retraining\n",
      "Loading data from dataloader\n"
     ]
    },
    {
     "name": "stderr",
     "output_type": "stream",
     "text": [
      "100%|██████████| 17/17 [00:00<00:00, 58.49it/s]\n"
     ]
    },
    {
     "name": "stdout",
     "output_type": "stream",
     "text": [
      "Loading data from dataloader\n"
     ]
    },
    {
     "name": "stderr",
     "output_type": "stream",
     "text": [
      "100%|██████████| 18/18 [00:00<00:00, 60.29it/s]\n"
     ]
    },
    {
     "name": "stdout",
     "output_type": "stream",
     "text": [
      "Loading data from dataloader\n"
     ]
    },
    {
     "name": "stderr",
     "output_type": "stream",
     "text": [
      "100%|██████████| 17/17 [00:00<00:00, 60.32it/s]\n"
     ]
    },
    {
     "name": "stdout",
     "output_type": "stream",
     "text": [
      "Loading data from dataloader\n"
     ]
    },
    {
     "name": "stderr",
     "output_type": "stream",
     "text": [
      "100%|██████████| 17/17 [00:00<00:00, 55.49it/s]\n"
     ]
    },
    {
     "name": "stdout",
     "output_type": "stream",
     "text": [
      "Loading data from dataloader\n"
     ]
    },
    {
     "name": "stderr",
     "output_type": "stream",
     "text": [
      "100%|██████████| 14/14 [00:00<00:00, 55.82it/s]\n"
     ]
    },
    {
     "name": "stdout",
     "output_type": "stream",
     "text": [
      "Loading data from dataloader\n"
     ]
    },
    {
     "name": "stderr",
     "output_type": "stream",
     "text": [
      "100%|██████████| 7/7 [00:00<00:00, 39.46it/s]\n"
     ]
    },
    {
     "name": "stdout",
     "output_type": "stream",
     "text": [
      "Loading data from dataloader\n"
     ]
    },
    {
     "name": "stderr",
     "output_type": "stream",
     "text": [
      "100%|██████████| 7/7 [00:00<00:00, 35.83it/s]\n"
     ]
    },
    {
     "name": "stdout",
     "output_type": "stream",
     "text": [
      "Loading data from dataloader\n"
     ]
    },
    {
     "name": "stderr",
     "output_type": "stream",
     "text": [
      "100%|██████████| 18/18 [00:00<00:00, 56.31it/s]\n"
     ]
    },
    {
     "name": "stdout",
     "output_type": "stream",
     "text": [
      "Loading data from dataloader\n"
     ]
    },
    {
     "name": "stderr",
     "output_type": "stream",
     "text": [
      "100%|██████████| 18/18 [00:00<00:00, 59.81it/s]\n"
     ]
    },
    {
     "name": "stdout",
     "output_type": "stream",
     "text": [
      "Loading data from dataloader\n"
     ]
    },
    {
     "name": "stderr",
     "output_type": "stream",
     "text": [
      "100%|██████████| 9/9 [00:00<00:00, 44.74it/s]\n"
     ]
    },
    {
     "name": "stdout",
     "output_type": "stream",
     "text": [
      "Loading data from dataloader\n"
     ]
    },
    {
     "name": "stderr",
     "output_type": "stream",
     "text": [
      "100%|██████████| 17/17 [00:00<00:00, 56.18it/s]\n"
     ]
    },
    {
     "name": "stdout",
     "output_type": "stream",
     "text": [
      "Loading data from dataloader\n"
     ]
    },
    {
     "name": "stderr",
     "output_type": "stream",
     "text": [
      "100%|██████████| 14/14 [00:00<00:00, 55.87it/s]\n"
     ]
    },
    {
     "name": "stdout",
     "output_type": "stream",
     "text": [
      "Loading data from dataloader\n"
     ]
    },
    {
     "name": "stderr",
     "output_type": "stream",
     "text": [
      "100%|██████████| 7/7 [00:00<00:00, 40.09it/s]\n"
     ]
    },
    {
     "name": "stdout",
     "output_type": "stream",
     "text": [
      "Loading data from dataloader\n"
     ]
    },
    {
     "name": "stderr",
     "output_type": "stream",
     "text": [
      "100%|██████████| 8/8 [00:00<00:00, 44.09it/s]\n"
     ]
    },
    {
     "name": "stdout",
     "output_type": "stream",
     "text": [
      "Loading data from dataloader\n"
     ]
    },
    {
     "name": "stderr",
     "output_type": "stream",
     "text": [
      "100%|██████████| 20/20 [00:00<00:00, 63.63it/s]\n"
     ]
    },
    {
     "name": "stdout",
     "output_type": "stream",
     "text": [
      "Loading data from dataloader\n"
     ]
    },
    {
     "name": "stderr",
     "output_type": "stream",
     "text": [
      "100%|██████████| 19/19 [00:00<00:00, 62.83it/s]\n"
     ]
    },
    {
     "name": "stdout",
     "output_type": "stream",
     "text": [
      "Loading data from dataloader\n"
     ]
    },
    {
     "name": "stderr",
     "output_type": "stream",
     "text": [
      "100%|██████████| 19/19 [00:00<00:00, 60.37it/s]\n"
     ]
    },
    {
     "name": "stdout",
     "output_type": "stream",
     "text": [
      "Loading data from dataloader\n"
     ]
    },
    {
     "name": "stderr",
     "output_type": "stream",
     "text": [
      "100%|██████████| 17/17 [00:00<00:00, 60.62it/s]\n"
     ]
    },
    {
     "name": "stdout",
     "output_type": "stream",
     "text": [
      "Loading data from dataloader\n"
     ]
    },
    {
     "name": "stderr",
     "output_type": "stream",
     "text": [
      "100%|██████████| 13/13 [00:00<00:00, 52.79it/s]\n"
     ]
    },
    {
     "name": "stdout",
     "output_type": "stream",
     "text": [
      "Loading data from dataloader\n"
     ]
    },
    {
     "name": "stderr",
     "output_type": "stream",
     "text": [
      "100%|██████████| 6/6 [00:00<00:00, 34.31it/s]\n"
     ]
    },
    {
     "name": "stdout",
     "output_type": "stream",
     "text": [
      "Loading data from dataloader\n"
     ]
    },
    {
     "name": "stderr",
     "output_type": "stream",
     "text": [
      "100%|██████████| 7/7 [00:00<00:00, 36.43it/s]\n"
     ]
    },
    {
     "name": "stdout",
     "output_type": "stream",
     "text": [
      "Loading data from dataloader\n"
     ]
    },
    {
     "name": "stderr",
     "output_type": "stream",
     "text": [
      "100%|██████████| 19/19 [00:00<00:00, 59.65it/s]\n"
     ]
    },
    {
     "name": "stdout",
     "output_type": "stream",
     "text": [
      "Loading data from dataloader\n"
     ]
    },
    {
     "name": "stderr",
     "output_type": "stream",
     "text": [
      "100%|██████████| 20/20 [00:00<00:00, 62.50it/s]\n"
     ]
    },
    {
     "name": "stdout",
     "output_type": "stream",
     "text": [
      "Loading data from dataloader\n"
     ]
    },
    {
     "name": "stderr",
     "output_type": "stream",
     "text": [
      "100%|██████████| 19/19 [00:00<00:00, 59.64it/s]\n"
     ]
    },
    {
     "name": "stdout",
     "output_type": "stream",
     "text": [
      "Loading data from dataloader\n"
     ]
    },
    {
     "name": "stderr",
     "output_type": "stream",
     "text": [
      "100%|██████████| 18/18 [00:00<00:00, 59.60it/s]\n"
     ]
    },
    {
     "name": "stdout",
     "output_type": "stream",
     "text": [
      "Loading data from dataloader\n"
     ]
    },
    {
     "name": "stderr",
     "output_type": "stream",
     "text": [
      "100%|██████████| 14/14 [00:00<00:00, 54.17it/s]\n"
     ]
    },
    {
     "name": "stdout",
     "output_type": "stream",
     "text": [
      "Loading data from dataloader\n"
     ]
    },
    {
     "name": "stderr",
     "output_type": "stream",
     "text": [
      "100%|██████████| 7/7 [00:00<00:00, 41.37it/s]\n"
     ]
    },
    {
     "name": "stdout",
     "output_type": "stream",
     "text": [
      "Loading data from dataloader\n"
     ]
    },
    {
     "name": "stderr",
     "output_type": "stream",
     "text": [
      "100%|██████████| 8/8 [00:00<00:00, 43.27it/s]\n"
     ]
    },
    {
     "name": "stdout",
     "output_type": "stream",
     "text": [
      "Loading data from dataloader\n"
     ]
    },
    {
     "name": "stderr",
     "output_type": "stream",
     "text": [
      "100%|██████████| 19/19 [00:00<00:00, 60.92it/s]\n"
     ]
    },
    {
     "name": "stdout",
     "output_type": "stream",
     "text": [
      "Loading data from dataloader\n"
     ]
    },
    {
     "name": "stderr",
     "output_type": "stream",
     "text": [
      "100%|██████████| 19/19 [00:00<00:00, 60.78it/s]\n"
     ]
    },
    {
     "name": "stdout",
     "output_type": "stream",
     "text": [
      "Loading data from dataloader\n"
     ]
    },
    {
     "name": "stderr",
     "output_type": "stream",
     "text": [
      "100%|██████████| 20/20 [00:00<00:00, 66.19it/s]\n"
     ]
    },
    {
     "name": "stdout",
     "output_type": "stream",
     "text": [
      "Loading data from dataloader\n"
     ]
    },
    {
     "name": "stderr",
     "output_type": "stream",
     "text": [
      "100%|██████████| 19/19 [00:00<00:00, 64.33it/s]\n"
     ]
    },
    {
     "name": "stdout",
     "output_type": "stream",
     "text": [
      "Loading data from dataloader\n"
     ]
    },
    {
     "name": "stderr",
     "output_type": "stream",
     "text": [
      "100%|██████████| 15/15 [00:00<00:00, 57.82it/s]\n"
     ]
    },
    {
     "name": "stdout",
     "output_type": "stream",
     "text": [
      "Loading data from dataloader\n"
     ]
    },
    {
     "name": "stderr",
     "output_type": "stream",
     "text": [
      "100%|██████████| 7/7 [00:00<00:00, 41.18it/s]\n"
     ]
    },
    {
     "name": "stdout",
     "output_type": "stream",
     "text": [
      "Loading data from dataloader\n"
     ]
    },
    {
     "name": "stderr",
     "output_type": "stream",
     "text": [
      "100%|██████████| 8/8 [00:00<00:00, 45.40it/s]\n"
     ]
    },
    {
     "name": "stdout",
     "output_type": "stream",
     "text": [
      "Loading data from dataloader\n"
     ]
    },
    {
     "name": "stderr",
     "output_type": "stream",
     "text": [
      "100%|██████████| 19/19 [00:00<00:00, 61.79it/s]\n"
     ]
    },
    {
     "name": "stdout",
     "output_type": "stream",
     "text": [
      "Loading data from dataloader\n"
     ]
    },
    {
     "name": "stderr",
     "output_type": "stream",
     "text": [
      "100%|██████████| 19/19 [00:00<00:00, 57.43it/s]\n"
     ]
    },
    {
     "name": "stdout",
     "output_type": "stream",
     "text": [
      "Loading data from dataloader\n"
     ]
    },
    {
     "name": "stderr",
     "output_type": "stream",
     "text": [
      "100%|██████████| 17/17 [00:00<00:00, 59.49it/s]\n"
     ]
    },
    {
     "name": "stdout",
     "output_type": "stream",
     "text": [
      "Loading data from dataloader\n"
     ]
    },
    {
     "name": "stderr",
     "output_type": "stream",
     "text": [
      "100%|██████████| 13/13 [00:00<00:00, 53.80it/s]\n"
     ]
    },
    {
     "name": "stdout",
     "output_type": "stream",
     "text": [
      "Loading data from dataloader\n"
     ]
    },
    {
     "name": "stderr",
     "output_type": "stream",
     "text": [
      "100%|██████████| 6/6 [00:00<00:00, 34.20it/s]\n"
     ]
    },
    {
     "name": "stdout",
     "output_type": "stream",
     "text": [
      "Loading data from dataloader\n"
     ]
    },
    {
     "name": "stderr",
     "output_type": "stream",
     "text": [
      "100%|██████████| 5/5 [00:00<00:00, 31.52it/s]\n"
     ]
    },
    {
     "name": "stdout",
     "output_type": "stream",
     "text": [
      "Loading data from dataloader\n"
     ]
    },
    {
     "name": "stderr",
     "output_type": "stream",
     "text": [
      "100%|██████████| 7/7 [00:00<00:00, 42.32it/s]\n"
     ]
    },
    {
     "name": "stdout",
     "output_type": "stream",
     "text": [
      "Loading data from dataloader\n"
     ]
    },
    {
     "name": "stderr",
     "output_type": "stream",
     "text": [
      "100%|██████████| 16/16 [00:00<00:00, 57.02it/s]\n"
     ]
    },
    {
     "name": "stdout",
     "output_type": "stream",
     "text": [
      "Loading data from dataloader\n"
     ]
    },
    {
     "name": "stderr",
     "output_type": "stream",
     "text": [
      "100%|██████████| 17/17 [00:00<00:00, 62.38it/s]\n"
     ]
    },
    {
     "name": "stdout",
     "output_type": "stream",
     "text": [
      "Loading data from dataloader\n"
     ]
    },
    {
     "name": "stderr",
     "output_type": "stream",
     "text": [
      "100%|██████████| 20/20 [00:00<00:00, 60.06it/s]\n"
     ]
    },
    {
     "name": "stdout",
     "output_type": "stream",
     "text": [
      "Loading data from dataloader\n"
     ]
    },
    {
     "name": "stderr",
     "output_type": "stream",
     "text": [
      "100%|██████████| 19/19 [00:00<00:00, 61.33it/s]\n"
     ]
    },
    {
     "name": "stdout",
     "output_type": "stream",
     "text": [
      "Loading data from dataloader\n"
     ]
    },
    {
     "name": "stderr",
     "output_type": "stream",
     "text": [
      "100%|██████████| 15/15 [00:00<00:00, 56.87it/s]\n"
     ]
    },
    {
     "name": "stdout",
     "output_type": "stream",
     "text": [
      "Loading data from dataloader\n"
     ]
    },
    {
     "name": "stderr",
     "output_type": "stream",
     "text": [
      "100%|██████████| 7/7 [00:00<00:00, 37.35it/s]\n"
     ]
    },
    {
     "name": "stdout",
     "output_type": "stream",
     "text": [
      "Loading data from dataloader\n"
     ]
    },
    {
     "name": "stderr",
     "output_type": "stream",
     "text": [
      "100%|██████████| 8/8 [00:00<00:00, 40.81it/s]\n"
     ]
    },
    {
     "name": "stdout",
     "output_type": "stream",
     "text": [
      "Loading data from dataloader\n"
     ]
    },
    {
     "name": "stderr",
     "output_type": "stream",
     "text": [
      "100%|██████████| 21/21 [00:00<00:00, 66.35it/s]\n"
     ]
    },
    {
     "name": "stdout",
     "output_type": "stream",
     "text": [
      "Loading data from dataloader\n"
     ]
    },
    {
     "name": "stderr",
     "output_type": "stream",
     "text": [
      "100%|██████████| 20/20 [00:00<00:00, 61.79it/s]\n"
     ]
    },
    {
     "name": "stdout",
     "output_type": "stream",
     "text": [
      "Loading data from dataloader\n"
     ]
    },
    {
     "name": "stderr",
     "output_type": "stream",
     "text": [
      "100%|██████████| 20/20 [00:00<00:00, 61.39it/s]\n"
     ]
    },
    {
     "name": "stdout",
     "output_type": "stream",
     "text": [
      "Loading data from dataloader\n"
     ]
    },
    {
     "name": "stderr",
     "output_type": "stream",
     "text": [
      "100%|██████████| 19/19 [00:00<00:00, 63.79it/s]\n"
     ]
    },
    {
     "name": "stdout",
     "output_type": "stream",
     "text": [
      "Loading data from dataloader\n"
     ]
    },
    {
     "name": "stderr",
     "output_type": "stream",
     "text": [
      "100%|██████████| 15/15 [00:00<00:00, 54.94it/s]\n"
     ]
    },
    {
     "name": "stdout",
     "output_type": "stream",
     "text": [
      "Loading data from dataloader\n"
     ]
    },
    {
     "name": "stderr",
     "output_type": "stream",
     "text": [
      "100%|██████████| 6/6 [00:00<00:00, 35.21it/s]\n"
     ]
    },
    {
     "name": "stdout",
     "output_type": "stream",
     "text": [
      "Loading data from dataloader\n"
     ]
    },
    {
     "name": "stderr",
     "output_type": "stream",
     "text": [
      "100%|██████████| 7/7 [00:00<00:00, 13.34it/s]\n"
     ]
    },
    {
     "name": "stdout",
     "output_type": "stream",
     "text": [
      "Loading data from dataloader\n"
     ]
    },
    {
     "name": "stderr",
     "output_type": "stream",
     "text": [
      "100%|██████████| 20/20 [00:00<00:00, 62.56it/s]\n"
     ]
    },
    {
     "name": "stdout",
     "output_type": "stream",
     "text": [
      "Loading data from dataloader\n"
     ]
    },
    {
     "name": "stderr",
     "output_type": "stream",
     "text": [
      "100%|██████████| 20/20 [00:00<00:00, 63.45it/s]\n"
     ]
    },
    {
     "name": "stdout",
     "output_type": "stream",
     "text": [
      "Loading data from dataloader\n"
     ]
    },
    {
     "name": "stderr",
     "output_type": "stream",
     "text": [
      "100%|██████████| 18/18 [00:00<00:00, 60.66it/s]\n"
     ]
    },
    {
     "name": "stdout",
     "output_type": "stream",
     "text": [
      "Loading data from dataloader\n"
     ]
    },
    {
     "name": "stderr",
     "output_type": "stream",
     "text": [
      "100%|██████████| 8/8 [00:00<00:00, 42.83it/s]\n"
     ]
    },
    {
     "name": "stdout",
     "output_type": "stream",
     "text": [
      "Loading data from dataloader\n"
     ]
    },
    {
     "name": "stderr",
     "output_type": "stream",
     "text": [
      "100%|██████████| 11/11 [00:00<00:00, 49.10it/s]\n"
     ]
    },
    {
     "name": "stdout",
     "output_type": "stream",
     "text": [
      "Loading data from dataloader\n"
     ]
    },
    {
     "name": "stderr",
     "output_type": "stream",
     "text": [
      "100%|██████████| 7/7 [00:00<00:00, 41.35it/s]\n"
     ]
    },
    {
     "name": "stdout",
     "output_type": "stream",
     "text": [
      "Loading data from dataloader\n"
     ]
    },
    {
     "name": "stderr",
     "output_type": "stream",
     "text": [
      "100%|██████████| 8/8 [00:00<00:00, 44.31it/s]\n"
     ]
    },
    {
     "name": "stdout",
     "output_type": "stream",
     "text": [
      "Loading data from dataloader\n"
     ]
    },
    {
     "name": "stderr",
     "output_type": "stream",
     "text": [
      "100%|██████████| 20/20 [00:00<00:00, 61.66it/s]\n"
     ]
    },
    {
     "name": "stdout",
     "output_type": "stream",
     "text": [
      "Loading data from dataloader\n"
     ]
    },
    {
     "name": "stderr",
     "output_type": "stream",
     "text": [
      "100%|██████████| 20/20 [00:00<00:00, 62.48it/s]\n"
     ]
    },
    {
     "name": "stdout",
     "output_type": "stream",
     "text": [
      "Loading data from dataloader\n"
     ]
    },
    {
     "name": "stderr",
     "output_type": "stream",
     "text": [
      "100%|██████████| 20/20 [00:00<00:00, 63.05it/s]\n"
     ]
    },
    {
     "name": "stdout",
     "output_type": "stream",
     "text": [
      "Loading data from dataloader\n"
     ]
    },
    {
     "name": "stderr",
     "output_type": "stream",
     "text": [
      "100%|██████████| 19/19 [00:00<00:00, 61.66it/s]\n"
     ]
    },
    {
     "name": "stdout",
     "output_type": "stream",
     "text": [
      "Loading data from dataloader\n"
     ]
    },
    {
     "name": "stderr",
     "output_type": "stream",
     "text": [
      "100%|██████████| 15/15 [00:00<00:00, 58.49it/s]\n"
     ]
    },
    {
     "name": "stdout",
     "output_type": "stream",
     "text": [
      "Loading data from dataloader\n"
     ]
    },
    {
     "name": "stderr",
     "output_type": "stream",
     "text": [
      "100%|██████████| 7/7 [00:00<00:00, 39.31it/s]\n"
     ]
    },
    {
     "name": "stdout",
     "output_type": "stream",
     "text": [
      "Loading data from dataloader\n"
     ]
    },
    {
     "name": "stderr",
     "output_type": "stream",
     "text": [
      "100%|██████████| 8/8 [00:00<00:00, 44.22it/s]\n"
     ]
    },
    {
     "name": "stdout",
     "output_type": "stream",
     "text": [
      "Loading data from dataloader\n"
     ]
    },
    {
     "name": "stderr",
     "output_type": "stream",
     "text": [
      "100%|██████████| 19/19 [00:00<00:00, 57.54it/s]\n"
     ]
    },
    {
     "name": "stdout",
     "output_type": "stream",
     "text": [
      "Loading data from dataloader\n"
     ]
    },
    {
     "name": "stderr",
     "output_type": "stream",
     "text": [
      "100%|██████████| 19/19 [00:00<00:00, 62.19it/s]\n"
     ]
    },
    {
     "name": "stdout",
     "output_type": "stream",
     "text": [
      "Loading data from dataloader\n"
     ]
    },
    {
     "name": "stderr",
     "output_type": "stream",
     "text": [
      "100%|██████████| 20/20 [00:00<00:00, 63.08it/s]\n"
     ]
    },
    {
     "name": "stdout",
     "output_type": "stream",
     "text": [
      "Loading data from dataloader\n"
     ]
    },
    {
     "name": "stderr",
     "output_type": "stream",
     "text": [
      "100%|██████████| 18/18 [00:00<00:00, 60.41it/s]\n"
     ]
    },
    {
     "name": "stdout",
     "output_type": "stream",
     "text": [
      "Loading data from dataloader\n"
     ]
    },
    {
     "name": "stderr",
     "output_type": "stream",
     "text": [
      "100%|██████████| 15/15 [00:00<00:00, 55.44it/s]\n"
     ]
    },
    {
     "name": "stdout",
     "output_type": "stream",
     "text": [
      "Loading data from dataloader\n"
     ]
    },
    {
     "name": "stderr",
     "output_type": "stream",
     "text": [
      "100%|██████████| 7/7 [00:00<00:00, 39.23it/s]\n"
     ]
    },
    {
     "name": "stdout",
     "output_type": "stream",
     "text": [
      "Loading data from dataloader\n"
     ]
    },
    {
     "name": "stderr",
     "output_type": "stream",
     "text": [
      "100%|██████████| 8/8 [00:00<00:00, 44.43it/s]\n"
     ]
    },
    {
     "name": "stdout",
     "output_type": "stream",
     "text": [
      "Loading data from dataloader\n"
     ]
    },
    {
     "name": "stderr",
     "output_type": "stream",
     "text": [
      "100%|██████████| 18/18 [00:00<00:00, 58.14it/s]\n"
     ]
    },
    {
     "name": "stdout",
     "output_type": "stream",
     "text": [
      "Loading data from dataloader\n"
     ]
    },
    {
     "name": "stderr",
     "output_type": "stream",
     "text": [
      "100%|██████████| 19/19 [00:00<00:00, 63.14it/s]\n"
     ]
    },
    {
     "name": "stdout",
     "output_type": "stream",
     "text": [
      "Loading data from dataloader\n"
     ]
    },
    {
     "name": "stderr",
     "output_type": "stream",
     "text": [
      "100%|██████████| 19/19 [00:00<00:00, 64.19it/s]\n"
     ]
    },
    {
     "name": "stdout",
     "output_type": "stream",
     "text": [
      "Loading data from dataloader\n"
     ]
    },
    {
     "name": "stderr",
     "output_type": "stream",
     "text": [
      "100%|██████████| 18/18 [00:00<00:00, 58.52it/s]\n"
     ]
    },
    {
     "name": "stdout",
     "output_type": "stream",
     "text": [
      "Loading data from dataloader\n"
     ]
    },
    {
     "name": "stderr",
     "output_type": "stream",
     "text": [
      "100%|██████████| 13/13 [00:00<00:00, 52.27it/s]\n"
     ]
    },
    {
     "name": "stdout",
     "output_type": "stream",
     "text": [
      "Loading data from dataloader\n"
     ]
    },
    {
     "name": "stderr",
     "output_type": "stream",
     "text": [
      "100%|██████████| 7/7 [00:00<00:00, 40.70it/s]\n"
     ]
    },
    {
     "name": "stdout",
     "output_type": "stream",
     "text": [
      "Loading data from dataloader\n"
     ]
    },
    {
     "name": "stderr",
     "output_type": "stream",
     "text": [
      "100%|██████████| 5/5 [00:00<00:00, 33.16it/s]\n"
     ]
    },
    {
     "name": "stdout",
     "output_type": "stream",
     "text": [
      "An error occurred: 1 validation error for DatasetConfig\n",
      "  Value error, Bad test dates ['20221212']. Use dates available in dataset.available_dates (collection period 1.1.2022 - 31.12.2022). These dates are missing from the dataset collection period ['20220128', '20220129', '20220130', '20221212', '20221213', '20221229', '20221230', '20221231'] [type=value_error, input_value=ArgsKwargs((), {'dataset'...t_dates': ['20221212']}), input_type=ArgsKwargs]\n",
      "    For further information visit https://errors.pydantic.dev/2.6/v/value_error\n",
      "2022-12-12 00:00:00 missing from the dataset\n",
      "An error occurred: 1 validation error for DatasetConfig\n",
      "  Value error, Bad test dates ['20221213']. Use dates available in dataset.available_dates (collection period 1.1.2022 - 31.12.2022). These dates are missing from the dataset collection period ['20220128', '20220129', '20220130', '20221212', '20221213', '20221229', '20221230', '20221231'] [type=value_error, input_value=ArgsKwargs((), {'dataset'...t_dates': ['20221213']}), input_type=ArgsKwargs]\n",
      "    For further information visit https://errors.pydantic.dev/2.6/v/value_error\n",
      "2022-12-13 00:00:00 missing from the dataset\n",
      "Loading data from dataloader\n"
     ]
    },
    {
     "name": "stderr",
     "output_type": "stream",
     "text": [
      "100%|██████████| 9/9 [00:00<00:00, 45.34it/s]\n"
     ]
    },
    {
     "name": "stdout",
     "output_type": "stream",
     "text": [
      "An error occurred: Distribution can't be empty.\n",
      "2022-12-14 00:00:00 missing from the dataset\n",
      "Loading data from dataloader\n"
     ]
    },
    {
     "name": "stderr",
     "output_type": "stream",
     "text": [
      "100%|██████████| 14/14 [00:00<00:00, 55.52it/s]\n"
     ]
    },
    {
     "name": "stdout",
     "output_type": "stream",
     "text": [
      "An error occurred: Distribution can't be empty.\n",
      "2022-12-15 00:00:00 missing from the dataset\n",
      "Loading data from dataloader\n"
     ]
    },
    {
     "name": "stderr",
     "output_type": "stream",
     "text": [
      "100%|██████████| 11/11 [00:00<00:00, 48.01it/s]\n"
     ]
    },
    {
     "name": "stdout",
     "output_type": "stream",
     "text": [
      "Loading data from dataloader\n"
     ]
    },
    {
     "name": "stderr",
     "output_type": "stream",
     "text": [
      "100%|██████████| 6/6 [00:00<00:00, 36.68it/s]\n"
     ]
    },
    {
     "name": "stdout",
     "output_type": "stream",
     "text": [
      "Loading data from dataloader\n"
     ]
    },
    {
     "name": "stderr",
     "output_type": "stream",
     "text": [
      "100%|██████████| 6/6 [00:00<00:00, 34.83it/s]\n"
     ]
    },
    {
     "name": "stdout",
     "output_type": "stream",
     "text": [
      "Loading data from dataloader\n"
     ]
    },
    {
     "name": "stderr",
     "output_type": "stream",
     "text": [
      "100%|██████████| 14/14 [00:00<00:00, 54.94it/s]\n"
     ]
    },
    {
     "name": "stdout",
     "output_type": "stream",
     "text": [
      "Loading data from dataloader\n"
     ]
    },
    {
     "name": "stderr",
     "output_type": "stream",
     "text": [
      "100%|██████████| 13/13 [00:00<00:00, 55.50it/s]\n"
     ]
    },
    {
     "name": "stdout",
     "output_type": "stream",
     "text": [
      "Loading data from dataloader\n"
     ]
    },
    {
     "name": "stderr",
     "output_type": "stream",
     "text": [
      "100%|██████████| 12/12 [00:00<00:00, 48.22it/s]\n"
     ]
    },
    {
     "name": "stdout",
     "output_type": "stream",
     "text": [
      "Loading data from dataloader\n"
     ]
    },
    {
     "name": "stderr",
     "output_type": "stream",
     "text": [
      "100%|██████████| 8/8 [00:00<00:00, 42.58it/s]\n"
     ]
    },
    {
     "name": "stdout",
     "output_type": "stream",
     "text": [
      "Loading data from dataloader\n"
     ]
    },
    {
     "name": "stderr",
     "output_type": "stream",
     "text": [
      "100%|██████████| 6/6 [00:00<00:00, 37.45it/s]\n"
     ]
    },
    {
     "name": "stdout",
     "output_type": "stream",
     "text": [
      "Drift detected, retraining\n",
      "Loading data from dataloader\n"
     ]
    },
    {
     "name": "stderr",
     "output_type": "stream",
     "text": [
      "100%|██████████| 4/4 [00:00<00:00, 27.68it/s]\n"
     ]
    },
    {
     "name": "stdout",
     "output_type": "stream",
     "text": [
      "Drift detected, retraining\n",
      "Loading data from dataloader\n"
     ]
    },
    {
     "name": "stderr",
     "output_type": "stream",
     "text": [
      "100%|██████████| 4/4 [00:00<00:00, 26.74it/s]\n"
     ]
    },
    {
     "name": "stdout",
     "output_type": "stream",
     "text": [
      "Loading data from dataloader\n"
     ]
    },
    {
     "name": "stderr",
     "output_type": "stream",
     "text": [
      "100%|██████████| 4/4 [00:00<00:00, 28.30it/s]\n"
     ]
    },
    {
     "name": "stdout",
     "output_type": "stream",
     "text": [
      "Drift detected, retraining\n",
      "Loading data from dataloader\n"
     ]
    },
    {
     "name": "stderr",
     "output_type": "stream",
     "text": [
      "100%|██████████| 6/6 [00:00<00:00, 36.27it/s]\n"
     ]
    },
    {
     "name": "stdout",
     "output_type": "stream",
     "text": [
      "Loading data from dataloader\n"
     ]
    },
    {
     "name": "stderr",
     "output_type": "stream",
     "text": [
      "100%|██████████| 3/3 [00:00<00:00, 23.61it/s]\n"
     ]
    },
    {
     "name": "stdout",
     "output_type": "stream",
     "text": [
      "An error occurred: 1 validation error for DatasetConfig\n",
      "  Value error, Bad test dates ['20221229']. Use dates available in dataset.available_dates (collection period 1.1.2022 - 31.12.2022). These dates are missing from the dataset collection period ['20220128', '20220129', '20220130', '20221212', '20221213', '20221229', '20221230', '20221231'] [type=value_error, input_value=ArgsKwargs((), {'dataset'...t_dates': ['20221229']}), input_type=ArgsKwargs]\n",
      "    For further information visit https://errors.pydantic.dev/2.6/v/value_error\n",
      "2022-12-29 00:00:00 missing from the dataset\n",
      "An error occurred: 1 validation error for DatasetConfig\n",
      "  Value error, Bad test dates ['20221230']. Use dates available in dataset.available_dates (collection period 1.1.2022 - 31.12.2022). These dates are missing from the dataset collection period ['20220128', '20220129', '20220130', '20221212', '20221213', '20221229', '20221230', '20221231'] [type=value_error, input_value=ArgsKwargs((), {'dataset'...t_dates': ['20221230']}), input_type=ArgsKwargs]\n",
      "    For further information visit https://errors.pydantic.dev/2.6/v/value_error\n",
      "2022-12-30 00:00:00 missing from the dataset\n",
      "An error occurred: 1 validation error for DatasetConfig\n",
      "  Value error, Bad test dates ['20221231']. Use dates available in dataset.available_dates (collection period 1.1.2022 - 31.12.2022). These dates are missing from the dataset collection period ['20220128', '20220129', '20220130', '20221212', '20221213', '20221229', '20221230', '20221231'] [type=value_error, input_value=ArgsKwargs((), {'dataset'...t_dates': ['20221231']}), input_type=ArgsKwargs]\n",
      "    For further information visit https://errors.pydantic.dev/2.6/v/value_error\n",
      "2022-12-31 00:00:00 missing from the dataset\n"
     ]
    }
   ],
   "source": [
    "from detector.detector import DriftDetector, Config\n",
    "from detector.logger import Logger\n",
    "from detector.test import KSTest, WassersteinTest\n",
    "from detector.analyser import LastWeekAnalyser\n",
    "\n",
    "feat_names = [col for col in ref_clf.feature_names_in_ if \"FLOW_\" not in col and  \"week\" not in col]\n",
    "\n",
    "global_config = Config(\n",
    "    chosen_features = feat_names,\n",
    "    feature_importances = pd.Series(ref_clf.feature_importances_,index = ref_clf.feature_names_in_),\n",
    "    drift_test=WassersteinTest(drift_threshold_global=0.05,drift_threshold_single = 0.1)\n",
    ")\n",
    "\n",
    "class_config = Config(\n",
    "    chosen_features = feat_names,\n",
    "    feature_importances = pd.Series(ref_clf.feature_importances_,index = ref_clf.feature_names_in_),\n",
    "    #drift_test=WassersteinTest(drift_threshold_global=0.05,drift_threshold_single = 0.1),\n",
    "    drift_test=KSTest(drift_threshold_global=0.475, drift_threshold_single = 0.05),\n",
    "    class_name=\"APP\"\n",
    ")\n",
    "\n",
    "analyser_config = Config(\n",
    "    chosen_features = feat_names,\n",
    "    feature_importances = pd.Series(ref_clf.feature_importances_,index = ref_clf.feature_names_in_),\n",
    "    drift_test=WassersteinTest(drift_threshold_global=0.04)\n",
    ")\n",
    "\n",
    "#Logger of the single reference model without retraining\n",
    "logger_ref = Logger()\n",
    "analyser_ref = LastWeekAnalyser(analyser_config)\n",
    "detector_ref = DriftDetector(global_config, class_config, logger=logger_ref, analyser=analyser_ref)\n",
    "\n",
    "#Loggers for the retrained models\n",
    "logger_drift = Logger()\n",
    "analyser_drift = LastWeekAnalyser(analyser_config)\n",
    "detector_drift = DriftDetector(global_config, class_config, logger=logger_drift, analyser=analyser_drift)\n",
    "\n",
    "test_data = CESNET_TLS_Year22(\"/home/dosoukup/Dataset/Thesis_contents/testing/datasets/TLS/\", size=\"XS\")\n",
    "common_params = {\n",
    "    \"dataset\": test_data,\n",
    "    \"train_period_name\": \"W-2022-1\",\n",
    "    \"use_packet_histograms\": True,\n",
    "}\n",
    "\n",
    "f1_no_retraining = []\n",
    "f1_drift_retraining = []\n",
    "\n",
    "retraining_clf = ref_clf\n",
    "old_clf = None\n",
    "\n",
    "ref_df = hist_df.copy()\n",
    "\n",
    "analysis_df = pd.DataFrame()\n",
    "feature_drift_df = pd.DataFrame()\n",
    "class_drift_df = pd.DataFrame()\n",
    "\n",
    "ret_feature_drift_df = pd.DataFrame()\n",
    "ret_class_drift_df = pd.DataFrame()\n",
    "\n",
    "current_date = datetime(2022, 1, 8)\n",
    "while current_date <= datetime(2022, 12, 31):\n",
    "    try:\n",
    "    #if(True):\n",
    "        #Get current data\n",
    "        dataset_config = DatasetConfig(**common_params, test_period_name=current_date.strftime(\"M-%Y-%m\"), test_dates=[current_date.strftime(\"%Y%m%d\")])\n",
    "        test_data.set_dataset_config_and_initialize(dataset_config)\n",
    "        test_df = test_data.get_test_df(flatten_ppi=True)\n",
    "\n",
    "        #Test model with no retraining\n",
    "        Xdata = test_df.drop(columns=[\"APP\"])\n",
    "        ydata = test_df.APP\n",
    "        y_pred_ref = ref_clf.predict(Xdata)\n",
    "        f1_no_retraining.append(f1_score(ydata,y_pred_ref, average = 'weighted'))     \n",
    "        detector_ref.detect(ref_df,test_df,current_date,f1 = f1_score(ydata,y_pred_ref, average = 'weighted'))\n",
    "\n",
    "        #Test retraining model\n",
    "        y_pred = retraining_clf.predict(Xdata)\n",
    "        f1_drift_retraining.append(f1_score(ydata,y_pred, average = 'weighted'))     \n",
    "        is_drifted = detector_drift.detect(hist_df,test_df,current_date,f1 = f1_score(ydata,y_pred, average = 'weighted'))\n",
    "\n",
    "        #Store predictions in analysis data frame\n",
    "        tmp_df = test_df.copy()\n",
    "        tmp_df[\"date\"] = current_date\n",
    "        tmp_df[\"ref_pred\"] = y_pred_ref\n",
    "        tmp_df[\"retrain_pred\"] = y_pred\n",
    "        analysis_df = pd.concat([analysis_df,tmp_df])\n",
    "\n",
    "        #Store additional test results for analysis\n",
    "        feature_drift_df = pd.concat([feature_drift_df, detector_ref.get_drifted_features().to_frame().T])\n",
    "        class_drift_df = pd.concat([class_drift_df, detector_ref.get_class_drift().drift_strength.to_frame().T])\n",
    "        ret_feature_drift_df = pd.concat([ret_feature_drift_df, detector_drift.get_drifted_features().to_frame().T])\n",
    "        ret_class_drift_df = pd.concat([ret_class_drift_df, detector_drift.get_class_drift().drift_strength.to_frame().T])\n",
    "\n",
    "        #Retrain the model if drift was detected\n",
    "        if is_drifted:\n",
    "            print(\"Drift detected, retraining\")\n",
    "\n",
    "            #Update training dataset\n",
    "            hist_df = hist_df.tail(len(hist_df)-len(test_df))\n",
    "            test_df[\"date\"] = current_date\n",
    "            hist_df = pd.concat([hist_df,test_df])\n",
    "            Xdata = hist_df.drop(columns=[\"APP\",\"date\"])\n",
    "            ydata = hist_df.APP\n",
    "            retraining_clf = XGBClassifier().fit(Xdata, ydata)\n",
    "\n",
    "    except Exception as error:\n",
    "        print(\"An error occurred:\", error)\n",
    "        print(f\"{current_date} missing from the dataset\")\n",
    "    current_date += timedelta(days=1)"
   ]
  },
  {
   "cell_type": "code",
   "execution_count": null,
   "metadata": {},
   "outputs": [],
   "source": [
    "#display(logger_ref.get_logs(log_type=\"global\")) # 0.05\n",
    "#display(logger_ref.get_logs(log_type=\"class\")) # drifted class 0.05\n",
    "#display(logger_ref.get_logs(log_type=\"feature\") > 0.1) # drifted feature"
   ]
  },
  {
   "cell_type": "markdown",
   "metadata": {},
   "source": [
    "# Visualise global experiment result"
   ]
  },
  {
   "cell_type": "code",
   "execution_count": 21,
   "metadata": {},
   "outputs": [],
   "source": [
    "import pickle\n",
    "with open('logs-tls-ppi.pkl', 'wb') as outp:\n",
    "    pickle.dump(logger_drift, outp, pickle.HIGHEST_PROTOCOL)\n",
    "    pickle.dump(logger_ref, outp, pickle.HIGHEST_PROTOCOL)\n",
    "\n",
    "#with open('logs.pkl', 'rb') as inp:\n",
    "#    logger_drift = pickle.load(inp)\n",
    "#    logger_ref = pickle.load(inp)"
   ]
  },
  {
   "cell_type": "code",
   "execution_count": 23,
   "metadata": {},
   "outputs": [],
   "source": [
    "with open('logs-tls-ppi.pkl', 'rb') as inp:\n",
    "    logger_drift = pickle.load(inp)\n",
    "    logger_ref = pickle.load(inp)"
   ]
  },
  {
   "cell_type": "code",
   "execution_count": 52,
   "metadata": {},
   "outputs": [],
   "source": [
    "xx = logger_ref.get_logs()[\"is_drifted\"]\n",
    "yy =  logger_drift.get_logs()[\"is_drifted\"]"
   ]
  },
  {
   "cell_type": "code",
   "execution_count": 60,
   "metadata": {},
   "outputs": [],
   "source": [
    "pd.set_option('display.max_rows', 500)"
   ]
  },
  {
   "cell_type": "code",
   "execution_count": 63,
   "metadata": {},
   "outputs": [
    {
     "data": {
      "text/plain": [
       "False"
      ]
     },
     "execution_count": 63,
     "metadata": {},
     "output_type": "execute_result"
    }
   ],
   "source": []
  },
  {
   "cell_type": "code",
   "execution_count": 62,
   "metadata": {},
   "outputs": [
    {
     "data": {
      "text/plain": [
       "2022-01-08    False\n",
       "2022-01-09    False\n",
       "2022-01-10    False\n",
       "2022-01-11    False\n",
       "2022-01-12    False\n",
       "2022-01-13    False\n",
       "2022-01-14    False\n",
       "2022-01-15    False\n",
       "2022-01-16    False\n",
       "2022-01-17    False\n",
       "2022-01-18    False\n",
       "2022-01-19    False\n",
       "2022-01-20    False\n",
       "2022-01-21    False\n",
       "2022-01-22     True\n",
       "2022-01-23    False\n",
       "2022-01-24    False\n",
       "2022-01-25    False\n",
       "2022-01-26    False\n",
       "2022-01-27    False\n",
       "2022-02-01     True\n",
       "2022-02-02     True\n",
       "2022-02-03     True\n",
       "2022-02-04     True\n",
       "2022-02-05     True\n",
       "2022-02-06     True\n",
       "2022-02-07     True\n",
       "2022-02-08    False\n",
       "2022-02-09     True\n",
       "2022-02-10     True\n",
       "2022-02-11     True\n",
       "2022-02-12     True\n",
       "2022-02-13     True\n",
       "2022-02-14     True\n",
       "2022-02-15    False\n",
       "2022-02-16    False\n",
       "2022-02-17     True\n",
       "2022-02-18    False\n",
       "2022-02-19     True\n",
       "2022-02-20    False\n",
       "2022-02-21    False\n",
       "2022-02-22    False\n",
       "2022-02-23    False\n",
       "2022-02-24    False\n",
       "2022-02-25    False\n",
       "2022-02-26     True\n",
       "2022-02-27    False\n",
       "2022-02-28     True\n",
       "2022-03-01     True\n",
       "2022-03-02    False\n",
       "2022-03-03     True\n",
       "2022-03-04     True\n",
       "2022-03-05     True\n",
       "2022-03-06     True\n",
       "2022-03-07     True\n",
       "2022-03-08     True\n",
       "2022-03-09     True\n",
       "2022-03-10     True\n",
       "2022-03-11     True\n",
       "2022-03-12     True\n",
       "2022-03-13     True\n",
       "2022-03-14     True\n",
       "2022-03-15     True\n",
       "2022-03-16     True\n",
       "2022-03-17     True\n",
       "2022-03-18     True\n",
       "2022-03-19     True\n",
       "2022-03-20     True\n",
       "2022-03-21     True\n",
       "2022-03-22     True\n",
       "2022-03-23     True\n",
       "2022-03-24     True\n",
       "2022-03-25     True\n",
       "2022-03-26     True\n",
       "2022-03-27     True\n",
       "2022-03-28     True\n",
       "2022-03-29     True\n",
       "2022-03-30     True\n",
       "2022-03-31     True\n",
       "2022-04-01     True\n",
       "2022-04-02     True\n",
       "2022-04-03     True\n",
       "2022-04-04     True\n",
       "2022-04-05     True\n",
       "2022-04-06     True\n",
       "2022-04-07     True\n",
       "2022-04-08     True\n",
       "2022-04-09     True\n",
       "2022-04-10     True\n",
       "2022-04-11     True\n",
       "2022-04-12     True\n",
       "2022-04-13     True\n",
       "2022-04-14     True\n",
       "2022-04-15     True\n",
       "2022-04-16     True\n",
       "2022-04-17     True\n",
       "2022-04-18     True\n",
       "2022-04-19     True\n",
       "2022-04-20     True\n",
       "2022-04-21     True\n",
       "2022-04-22     True\n",
       "2022-04-23     True\n",
       "2022-04-24     True\n",
       "2022-04-25     True\n",
       "2022-04-26     True\n",
       "2022-04-27     True\n",
       "2022-04-28     True\n",
       "2022-04-29     True\n",
       "2022-04-30     True\n",
       "2022-05-01     True\n",
       "2022-05-02     True\n",
       "2022-05-03     True\n",
       "2022-05-04     True\n",
       "2022-05-05     True\n",
       "2022-05-06     True\n",
       "2022-05-07     True\n",
       "2022-05-08     True\n",
       "2022-05-09     True\n",
       "2022-05-10     True\n",
       "2022-05-11     True\n",
       "2022-05-12     True\n",
       "2022-05-13     True\n",
       "2022-05-14     True\n",
       "2022-05-15     True\n",
       "2022-05-16     True\n",
       "2022-05-17     True\n",
       "2022-05-18     True\n",
       "2022-05-19     True\n",
       "2022-05-20     True\n",
       "2022-05-21     True\n",
       "2022-05-22     True\n",
       "2022-05-23     True\n",
       "2022-05-24     True\n",
       "2022-05-25     True\n",
       "2022-05-26     True\n",
       "2022-05-27     True\n",
       "2022-05-28     True\n",
       "2022-05-29     True\n",
       "2022-05-30     True\n",
       "2022-05-31     True\n",
       "2022-06-01     True\n",
       "2022-06-02     True\n",
       "2022-06-03     True\n",
       "2022-06-04     True\n",
       "2022-06-05     True\n",
       "2022-06-06     True\n",
       "2022-06-07     True\n",
       "2022-06-08     True\n",
       "2022-06-09     True\n",
       "2022-06-10     True\n",
       "2022-06-11     True\n",
       "2022-06-12     True\n",
       "2022-06-13     True\n",
       "2022-06-14     True\n",
       "2022-06-15     True\n",
       "2022-06-16     True\n",
       "2022-06-17     True\n",
       "2022-06-18     True\n",
       "2022-06-19     True\n",
       "2022-06-20     True\n",
       "2022-06-21     True\n",
       "2022-06-22     True\n",
       "2022-06-23     True\n",
       "2022-06-24     True\n",
       "2022-06-25     True\n",
       "2022-06-26     True\n",
       "2022-06-27     True\n",
       "2022-06-28     True\n",
       "2022-06-29     True\n",
       "2022-06-30     True\n",
       "2022-07-01     True\n",
       "2022-07-02     True\n",
       "2022-07-03     True\n",
       "2022-07-04     True\n",
       "2022-07-05     True\n",
       "2022-07-06     True\n",
       "2022-07-07     True\n",
       "2022-07-08     True\n",
       "2022-07-09     True\n",
       "2022-07-10     True\n",
       "2022-07-11     True\n",
       "2022-07-12     True\n",
       "2022-07-13     True\n",
       "2022-07-14     True\n",
       "2022-07-15     True\n",
       "2022-07-16     True\n",
       "2022-07-17     True\n",
       "2022-07-18     True\n",
       "2022-07-19     True\n",
       "2022-07-20     True\n",
       "2022-07-21     True\n",
       "2022-07-22     True\n",
       "2022-07-23     True\n",
       "2022-07-24     True\n",
       "2022-07-25     True\n",
       "2022-07-26     True\n",
       "2022-07-27     True\n",
       "2022-07-28     True\n",
       "2022-07-29     True\n",
       "2022-07-30     True\n",
       "2022-07-31     True\n",
       "2022-08-01     True\n",
       "2022-08-02     True\n",
       "2022-08-03     True\n",
       "2022-08-04     True\n",
       "2022-08-05     True\n",
       "2022-08-06     True\n",
       "2022-08-07     True\n",
       "2022-08-08     True\n",
       "2022-08-09     True\n",
       "2022-08-10     True\n",
       "2022-08-11     True\n",
       "2022-08-12     True\n",
       "2022-08-13     True\n",
       "2022-08-14     True\n",
       "2022-08-15     True\n",
       "2022-08-16     True\n",
       "2022-08-17     True\n",
       "2022-08-18     True\n",
       "2022-08-19     True\n",
       "2022-08-20     True\n",
       "2022-08-21     True\n",
       "2022-08-22     True\n",
       "2022-08-23     True\n",
       "2022-08-24     True\n",
       "2022-08-25     True\n",
       "2022-08-26     True\n",
       "2022-08-27     True\n",
       "2022-08-28     True\n",
       "2022-08-29     True\n",
       "2022-08-30     True\n",
       "2022-08-31     True\n",
       "2022-09-01     True\n",
       "2022-09-02     True\n",
       "2022-09-03     True\n",
       "2022-09-04     True\n",
       "2022-09-05     True\n",
       "2022-09-06     True\n",
       "2022-09-07     True\n",
       "2022-09-08     True\n",
       "2022-09-09     True\n",
       "2022-09-10     True\n",
       "2022-09-11     True\n",
       "2022-09-12     True\n",
       "2022-09-13     True\n",
       "2022-09-14     True\n",
       "2022-09-15     True\n",
       "2022-09-16     True\n",
       "2022-09-17     True\n",
       "2022-09-18     True\n",
       "2022-09-19     True\n",
       "2022-09-20     True\n",
       "2022-09-21     True\n",
       "2022-09-22     True\n",
       "2022-09-23     True\n",
       "2022-09-24     True\n",
       "2022-09-25     True\n",
       "2022-09-26     True\n",
       "2022-09-27     True\n",
       "2022-09-28     True\n",
       "2022-09-29     True\n",
       "2022-09-30     True\n",
       "2022-10-01     True\n",
       "2022-10-02     True\n",
       "2022-10-03     True\n",
       "2022-10-04     True\n",
       "2022-10-05     True\n",
       "2022-10-06     True\n",
       "2022-10-07     True\n",
       "2022-10-08     True\n",
       "2022-10-09     True\n",
       "2022-10-10     True\n",
       "2022-10-11     True\n",
       "2022-10-12     True\n",
       "2022-10-13     True\n",
       "2022-10-14     True\n",
       "2022-10-15     True\n",
       "2022-10-16     True\n",
       "2022-10-17     True\n",
       "2022-10-18     True\n",
       "2022-10-19     True\n",
       "2022-10-20     True\n",
       "2022-10-21     True\n",
       "2022-10-22     True\n",
       "2022-10-23     True\n",
       "2022-10-24     True\n",
       "2022-10-25     True\n",
       "2022-10-26     True\n",
       "2022-10-27     True\n",
       "2022-10-28     True\n",
       "2022-10-29     True\n",
       "2022-10-30     True\n",
       "2022-10-31     True\n",
       "2022-11-01     True\n",
       "2022-11-02     True\n",
       "2022-11-03     True\n",
       "2022-11-04     True\n",
       "2022-11-05     True\n",
       "2022-11-06     True\n",
       "2022-11-07     True\n",
       "2022-11-08     True\n",
       "2022-11-09     True\n",
       "2022-11-10     True\n",
       "2022-11-11     True\n",
       "2022-11-12     True\n",
       "2022-11-13     True\n",
       "2022-11-14     True\n",
       "2022-11-15     True\n",
       "2022-11-16     True\n",
       "2022-11-17     True\n",
       "2022-11-18     True\n",
       "2022-11-19     True\n",
       "2022-11-20     True\n",
       "2022-11-21     True\n",
       "2022-11-22     True\n",
       "2022-11-23     True\n",
       "2022-11-24     True\n",
       "2022-11-25     True\n",
       "2022-11-26     True\n",
       "2022-11-27     True\n",
       "2022-11-28     True\n",
       "2022-11-29     True\n",
       "2022-11-30     True\n",
       "2022-12-01     True\n",
       "2022-12-02     True\n",
       "2022-12-03     True\n",
       "2022-12-04     True\n",
       "2022-12-05     True\n",
       "2022-12-06     True\n",
       "2022-12-07     True\n",
       "2022-12-08     True\n",
       "2022-12-09     True\n",
       "2022-12-10     True\n",
       "2022-12-11     True\n",
       "2022-12-15     True\n",
       "2022-12-16     True\n",
       "2022-12-17     True\n",
       "2022-12-18     True\n",
       "2022-12-19     True\n",
       "2022-12-20     True\n",
       "2022-12-21     True\n",
       "2022-12-22     True\n",
       "2022-12-23     True\n",
       "2022-12-24     True\n",
       "2022-12-25     True\n",
       "2022-12-26     True\n",
       "2022-12-27     True\n",
       "2022-12-28     True\n",
       "Name: is_drifted, dtype: bool"
      ]
     },
     "execution_count": 62,
     "metadata": {},
     "output_type": "execute_result"
    }
   ],
   "source": [
    "xx"
   ]
  },
  {
   "cell_type": "code",
   "execution_count": 66,
   "metadata": {},
   "outputs": [
    {
     "ename": "Exception",
     "evalue": "The indexes of all experiments have to be the same",
     "output_type": "error",
     "traceback": [
      "\u001b[0;31m---------------------------------------------------------------------------\u001b[0m",
      "\u001b[0;31mException\u001b[0m                                 Traceback (most recent call last)",
      "Cell \u001b[0;32mIn[66], line 2\u001b[0m\n\u001b[1;32m      1\u001b[0m \u001b[38;5;28;01mfrom\u001b[39;00m \u001b[38;5;21;01mdetector\u001b[39;00m\u001b[38;5;21;01m.\u001b[39;00m\u001b[38;5;21;01mreporter\u001b[39;00m \u001b[38;5;28;01mimport\u001b[39;00m Reporter\n\u001b[0;32m----> 2\u001b[0m reporter \u001b[38;5;241m=\u001b[39m \u001b[43mReporter\u001b[49m\u001b[43m(\u001b[49m\u001b[43m[\u001b[49m\u001b[43mlogger_drift\u001b[49m\u001b[43m,\u001b[49m\u001b[43mlogger_ref\u001b[49m\u001b[43m]\u001b[49m\u001b[43m,\u001b[49m\u001b[43m \u001b[49m\u001b[43m[\u001b[49m\u001b[38;5;124;43m\"\u001b[39;49m\u001b[38;5;124;43mRetraining model\u001b[39;49m\u001b[38;5;124;43m\"\u001b[39;49m\u001b[43m,\u001b[49m\u001b[43m \u001b[49m\u001b[38;5;124;43m\"\u001b[39;49m\u001b[38;5;124;43mReference model\u001b[39;49m\u001b[38;5;124;43m\"\u001b[39;49m\u001b[43m]\u001b[49m\u001b[43m,\u001b[49m\u001b[43m \u001b[49m\u001b[43mchunk_length\u001b[49m\u001b[38;5;241;43m=\u001b[39;49m\u001b[38;5;241;43m7\u001b[39;49m\u001b[43m)\u001b[49m\n\u001b[1;32m      3\u001b[0m reporter\u001b[38;5;241m.\u001b[39mget_global_results()\n",
      "File \u001b[0;32m~/Dataset/drift-v3/distrubution-behavior-analysis/detector/reporter.py:26\u001b[0m, in \u001b[0;36mReporter.__init__\u001b[0;34m(self, loggers, experiment_names, chunk_length, global_features)\u001b[0m\n\u001b[1;32m     24\u001b[0m \u001b[38;5;28;01mfor\u001b[39;00m logger \u001b[38;5;129;01min\u001b[39;00m loggers:\n\u001b[1;32m     25\u001b[0m     \u001b[38;5;28;01mif\u001b[39;00m(\u001b[38;5;129;01mnot\u001b[39;00m (logger\u001b[38;5;241m.\u001b[39mget_logs()\u001b[38;5;241m.\u001b[39mindex\u001b[38;5;241m.\u001b[39mequals(\u001b[38;5;28mself\u001b[39m\u001b[38;5;241m.\u001b[39mlog_index))):\n\u001b[0;32m---> 26\u001b[0m         \u001b[38;5;28;01mraise\u001b[39;00m \u001b[38;5;167;01mException\u001b[39;00m(\u001b[38;5;124m\"\u001b[39m\u001b[38;5;124mThe indexes of all experiments have to be the same\u001b[39m\u001b[38;5;124m\"\u001b[39m)\n",
      "\u001b[0;31mException\u001b[0m: The indexes of all experiments have to be the same"
     ]
    }
   ],
   "source": [
    "from detector.reporter import Reporter\n",
    "reporter = Reporter([logger_drift,logger_ref], [\"Retraining model\", \"Reference model\"], chunk_length=7)\n",
    "reporter.get_global_results()"
   ]
  },
  {
   "cell_type": "code",
   "execution_count": 17,
   "metadata": {},
   "outputs": [
    {
     "ename": "NameError",
     "evalue": "name 'reporter' is not defined",
     "output_type": "error",
     "traceback": [
      "\u001b[0;31m---------------------------------------------------------------------------\u001b[0m",
      "\u001b[0;31mNameError\u001b[0m                                 Traceback (most recent call last)",
      "Cell \u001b[0;32mIn[17], line 1\u001b[0m\n\u001b[0;32m----> 1\u001b[0m figure \u001b[38;5;241m=\u001b[39m \u001b[43mreporter\u001b[49m\u001b[38;5;241m.\u001b[39mplot_global_results(detection_threshold \u001b[38;5;241m=\u001b[39m \u001b[38;5;241m0.05\u001b[39m,\n\u001b[1;32m      2\u001b[0m     severity_style \u001b[38;5;241m=\u001b[39m [{\u001b[38;5;124m\"\u001b[39m\u001b[38;5;124mline\u001b[39m\u001b[38;5;124m\"\u001b[39m: \u001b[38;5;124m\"\u001b[39m\u001b[38;5;124mdotted\u001b[39m\u001b[38;5;124m\"\u001b[39m, \u001b[38;5;124m\"\u001b[39m\u001b[38;5;124mcolor\u001b[39m\u001b[38;5;124m\"\u001b[39m: \u001b[38;5;124m\"\u001b[39m\u001b[38;5;124mblue\u001b[39m\u001b[38;5;124m\"\u001b[39m, \u001b[38;5;124m\"\u001b[39m\u001b[38;5;124malpha\u001b[39m\u001b[38;5;124m\"\u001b[39m: \u001b[38;5;241m0.5\u001b[39m},\n\u001b[1;32m      3\u001b[0m                       {\u001b[38;5;124m\"\u001b[39m\u001b[38;5;124mline\u001b[39m\u001b[38;5;124m\"\u001b[39m: \u001b[38;5;124m\"\u001b[39m\u001b[38;5;124msolid\u001b[39m\u001b[38;5;124m\"\u001b[39m, \u001b[38;5;124m\"\u001b[39m\u001b[38;5;124mcolor\u001b[39m\u001b[38;5;124m\"\u001b[39m: \u001b[38;5;124m\"\u001b[39m\u001b[38;5;124mblue\u001b[39m\u001b[38;5;124m\"\u001b[39m, \u001b[38;5;124m\"\u001b[39m\u001b[38;5;124malpha\u001b[39m\u001b[38;5;124m\"\u001b[39m: \u001b[38;5;241m0.5\u001b[39m}],\n\u001b[1;32m      4\u001b[0m     f1_style \u001b[38;5;241m=\u001b[39m [{\u001b[38;5;124m\"\u001b[39m\u001b[38;5;124mline\u001b[39m\u001b[38;5;124m\"\u001b[39m: \u001b[38;5;124m\"\u001b[39m\u001b[38;5;124mdotted\u001b[39m\u001b[38;5;124m\"\u001b[39m, \u001b[38;5;124m\"\u001b[39m\u001b[38;5;124mcolor\u001b[39m\u001b[38;5;124m\"\u001b[39m: \u001b[38;5;124m\"\u001b[39m\u001b[38;5;124mred\u001b[39m\u001b[38;5;124m\"\u001b[39m, \u001b[38;5;124m\"\u001b[39m\u001b[38;5;124malpha\u001b[39m\u001b[38;5;124m\"\u001b[39m: \u001b[38;5;241m0.5\u001b[39m},\n\u001b[1;32m      5\u001b[0m                 {\u001b[38;5;124m\"\u001b[39m\u001b[38;5;124mline\u001b[39m\u001b[38;5;124m\"\u001b[39m: \u001b[38;5;124m\"\u001b[39m\u001b[38;5;124msolid\u001b[39m\u001b[38;5;124m\"\u001b[39m, \u001b[38;5;124m\"\u001b[39m\u001b[38;5;124mcolor\u001b[39m\u001b[38;5;124m\"\u001b[39m: \u001b[38;5;124m\"\u001b[39m\u001b[38;5;124mred\u001b[39m\u001b[38;5;124m\"\u001b[39m, \u001b[38;5;124m\"\u001b[39m\u001b[38;5;124malpha\u001b[39m\u001b[38;5;124m\"\u001b[39m: \u001b[38;5;241m0.5\u001b[39m}],\n\u001b[1;32m      6\u001b[0m     detection_style \u001b[38;5;241m=\u001b[39m [{\u001b[38;5;124m\"\u001b[39m\u001b[38;5;124mline\u001b[39m\u001b[38;5;124m\"\u001b[39m: \u001b[38;5;124m\"\u001b[39m\u001b[38;5;124msolid\u001b[39m\u001b[38;5;124m\"\u001b[39m, \u001b[38;5;124m\"\u001b[39m\u001b[38;5;124mcolor\u001b[39m\u001b[38;5;124m\"\u001b[39m: \u001b[38;5;124m\"\u001b[39m\u001b[38;5;124my\u001b[39m\u001b[38;5;124m\"\u001b[39m, \u001b[38;5;124m\"\u001b[39m\u001b[38;5;124malpha\u001b[39m\u001b[38;5;124m\"\u001b[39m: \u001b[38;5;241m0.5\u001b[39m},\n\u001b[1;32m      7\u001b[0m                        {\u001b[38;5;124m\"\u001b[39m\u001b[38;5;124mline\u001b[39m\u001b[38;5;124m\"\u001b[39m: \u001b[38;5;124m\"\u001b[39m\u001b[38;5;124mdotted\u001b[39m\u001b[38;5;124m\"\u001b[39m, \u001b[38;5;124m\"\u001b[39m\u001b[38;5;124mcolor\u001b[39m\u001b[38;5;124m\"\u001b[39m: \u001b[38;5;124m\"\u001b[39m\u001b[38;5;124mcyan\u001b[39m\u001b[38;5;124m\"\u001b[39m, \u001b[38;5;124m\"\u001b[39m\u001b[38;5;124malpha\u001b[39m\u001b[38;5;124m\"\u001b[39m: \u001b[38;5;241m0.25\u001b[39m}]\n\u001b[1;32m      8\u001b[0m )\n\u001b[1;32m      9\u001b[0m plt\u001b[38;5;241m.\u001b[39mshow()\n",
      "\u001b[0;31mNameError\u001b[0m: name 'reporter' is not defined"
     ]
    }
   ],
   "source": [
    "figure = reporter.plot_global_results(detection_threshold = 0.05,\n",
    "    severity_style = [{\"line\": \"dotted\", \"color\": \"blue\", \"alpha\": 0.5},\n",
    "                      {\"line\": \"solid\", \"color\": \"blue\", \"alpha\": 0.5}],\n",
    "    f1_style = [{\"line\": \"dotted\", \"color\": \"red\", \"alpha\": 0.5},\n",
    "                {\"line\": \"solid\", \"color\": \"red\", \"alpha\": 0.5}],\n",
    "    detection_style = [{\"line\": \"solid\", \"color\": \"y\", \"alpha\": 0.5},\n",
    "                       {\"line\": \"dotted\", \"color\": \"cyan\", \"alpha\": 0.25}]\n",
    ")\n",
    "plt.show()"
   ]
  },
  {
   "cell_type": "code",
   "execution_count": 8,
   "metadata": {},
   "outputs": [
    {
     "name": "stdout",
     "output_type": "stream",
     "text": [
      "Analysis results of Retraining model experiment:\n",
      "Drift_type\n",
      "No_drift             31\n",
      "Unknown_drift         7\n",
      "Periodic_drift        4\n",
      "Incremental_drift     3\n",
      "Sudden_drift          2\n",
      "Name: count, dtype: int64\n"
     ]
    },
    {
     "data": {
      "image/png": "[encoded data removed]",
      "text/plain": [
       "<Figure size 800x400 with 2 Axes>"
      ]
     },
     "metadata": {},
     "output_type": "display_data"
    },
    {
     "name": "stdout",
     "output_type": "stream",
     "text": [
      "Analysis results of Reference model experiment:\n",
      "Drift_type\n",
      "No_drift             31\n",
      "Unknown_drift         7\n",
      "Periodic_drift        4\n",
      "Incremental_drift     3\n",
      "Sudden_drift          2\n",
      "Name: count, dtype: int64\n"
     ]
    },
    {
     "data": {
      "image/png": "[encoded data removed]",
      "text/plain": [
       "<Figure size 800x400 with 2 Axes>"
      ]
     },
     "metadata": {},
     "output_type": "display_data"
    }
   ],
   "source": [
    "reporter.plot_analysis_results(detection_threshold = 0.05)"
   ]
  },
  {
   "cell_type": "code",
   "execution_count": 9,
   "metadata": {},
   "outputs": [
    {
     "data": {
      "text/html": [
       "<div>\n",
       "<style scoped>\n",
       "    .dataframe tbody tr th:only-of-type {\n",
       "        vertical-align: middle;\n",
       "    }\n",
       "\n",
       "    .dataframe tbody tr th {\n",
       "        vertical-align: top;\n",
       "    }\n",
       "\n",
       "    .dataframe thead th {\n",
       "        text-align: right;\n",
       "    }\n",
       "</style>\n",
       "<table border=\"1\" class=\"dataframe\">\n",
       "  <thead>\n",
       "    <tr style=\"text-align: right;\">\n",
       "      <th></th>\n",
       "      <th>Ratio_of_drift_detections</th>\n",
       "      <th>Mean_drift_strength</th>\n",
       "      <th>Mean_ratio_of_drifted_features</th>\n",
       "      <th>Mean_f1_score</th>\n",
       "    </tr>\n",
       "    <tr>\n",
       "      <th>Chunk</th>\n",
       "      <th></th>\n",
       "      <th></th>\n",
       "      <th></th>\n",
       "      <th></th>\n",
       "    </tr>\n",
       "  </thead>\n",
       "  <tbody>\n",
       "    <tr>\n",
       "      <th>0</th>\n",
       "      <td>0.000000</td>\n",
       "      <td>0.021933</td>\n",
       "      <td>0.000000</td>\n",
       "      <td>0.847732</td>\n",
       "    </tr>\n",
       "    <tr>\n",
       "      <th>1</th>\n",
       "      <td>0.000000</td>\n",
       "      <td>0.019384</td>\n",
       "      <td>0.000000</td>\n",
       "      <td>0.840695</td>\n",
       "    </tr>\n",
       "    <tr>\n",
       "      <th>2</th>\n",
       "      <td>0.000000</td>\n",
       "      <td>0.023449</td>\n",
       "      <td>0.003297</td>\n",
       "      <td>0.840199</td>\n",
       "    </tr>\n",
       "    <tr>\n",
       "      <th>3</th>\n",
       "      <td>0.285714</td>\n",
       "      <td>0.041000</td>\n",
       "      <td>0.032967</td>\n",
       "      <td>0.819489</td>\n",
       "    </tr>\n",
       "    <tr>\n",
       "      <th>4</th>\n",
       "      <td>0.142857</td>\n",
       "      <td>0.022722</td>\n",
       "      <td>0.023077</td>\n",
       "      <td>0.870280</td>\n",
       "    </tr>\n",
       "    <tr>\n",
       "      <th>5</th>\n",
       "      <td>0.000000</td>\n",
       "      <td>0.019269</td>\n",
       "      <td>0.002198</td>\n",
       "      <td>0.862404</td>\n",
       "    </tr>\n",
       "    <tr>\n",
       "      <th>6</th>\n",
       "      <td>0.000000</td>\n",
       "      <td>0.016599</td>\n",
       "      <td>0.000000</td>\n",
       "      <td>0.840737</td>\n",
       "    </tr>\n",
       "  </tbody>\n",
       "</table>\n",
       "</div>"
      ],
      "text/plain": [
       "       Ratio_of_drift_detections  Mean_drift_strength  \\\n",
       "Chunk                                                   \n",
       "0                       0.000000             0.021933   \n",
       "1                       0.000000             0.019384   \n",
       "2                       0.000000             0.023449   \n",
       "3                       0.285714             0.041000   \n",
       "4                       0.142857             0.022722   \n",
       "5                       0.000000             0.019269   \n",
       "6                       0.000000             0.016599   \n",
       "\n",
       "       Mean_ratio_of_drifted_features  Mean_f1_score  \n",
       "Chunk                                                 \n",
       "0                            0.000000       0.847732  \n",
       "1                            0.000000       0.840695  \n",
       "2                            0.003297       0.840199  \n",
       "3                            0.032967       0.819489  \n",
       "4                            0.023077       0.870280  \n",
       "5                            0.002198       0.862404  \n",
       "6                            0.000000       0.840737  "
      ]
     },
     "metadata": {},
     "output_type": "display_data"
    },
    {
     "data": {
      "text/html": [
       "<div>\n",
       "<style scoped>\n",
       "    .dataframe tbody tr th:only-of-type {\n",
       "        vertical-align: middle;\n",
       "    }\n",
       "\n",
       "    .dataframe tbody tr th {\n",
       "        vertical-align: top;\n",
       "    }\n",
       "\n",
       "    .dataframe thead th {\n",
       "        text-align: right;\n",
       "    }\n",
       "</style>\n",
       "<table border=\"1\" class=\"dataframe\">\n",
       "  <thead>\n",
       "    <tr style=\"text-align: right;\">\n",
       "      <th></th>\n",
       "      <th>Ratio_of_drift_detections</th>\n",
       "      <th>Mean_drift_strength</th>\n",
       "      <th>Mean_ratio_of_drifted_features</th>\n",
       "      <th>Mean_f1_score</th>\n",
       "    </tr>\n",
       "    <tr>\n",
       "      <th>Chunk</th>\n",
       "      <th></th>\n",
       "      <th></th>\n",
       "      <th></th>\n",
       "      <th></th>\n",
       "    </tr>\n",
       "  </thead>\n",
       "  <tbody>\n",
       "    <tr>\n",
       "      <th>0</th>\n",
       "      <td>0.000000</td>\n",
       "      <td>0.021933</td>\n",
       "      <td>0.000000</td>\n",
       "      <td>0.847732</td>\n",
       "    </tr>\n",
       "    <tr>\n",
       "      <th>1</th>\n",
       "      <td>0.000000</td>\n",
       "      <td>0.019384</td>\n",
       "      <td>0.000000</td>\n",
       "      <td>0.840695</td>\n",
       "    </tr>\n",
       "    <tr>\n",
       "      <th>2</th>\n",
       "      <td>0.000000</td>\n",
       "      <td>0.023449</td>\n",
       "      <td>0.003297</td>\n",
       "      <td>0.840199</td>\n",
       "    </tr>\n",
       "    <tr>\n",
       "      <th>3</th>\n",
       "      <td>0.714286</td>\n",
       "      <td>0.089527</td>\n",
       "      <td>0.190110</td>\n",
       "      <td>0.659919</td>\n",
       "    </tr>\n",
       "    <tr>\n",
       "      <th>4</th>\n",
       "      <td>1.000000</td>\n",
       "      <td>0.123087</td>\n",
       "      <td>0.296703</td>\n",
       "      <td>0.579835</td>\n",
       "    </tr>\n",
       "    <tr>\n",
       "      <th>5</th>\n",
       "      <td>1.000000</td>\n",
       "      <td>0.122669</td>\n",
       "      <td>0.306593</td>\n",
       "      <td>0.572543</td>\n",
       "    </tr>\n",
       "    <tr>\n",
       "      <th>6</th>\n",
       "      <td>1.000000</td>\n",
       "      <td>0.116815</td>\n",
       "      <td>0.280000</td>\n",
       "      <td>0.556611</td>\n",
       "    </tr>\n",
       "  </tbody>\n",
       "</table>\n",
       "</div>"
      ],
      "text/plain": [
       "       Ratio_of_drift_detections  Mean_drift_strength  \\\n",
       "Chunk                                                   \n",
       "0                       0.000000             0.021933   \n",
       "1                       0.000000             0.019384   \n",
       "2                       0.000000             0.023449   \n",
       "3                       0.714286             0.089527   \n",
       "4                       1.000000             0.123087   \n",
       "5                       1.000000             0.122669   \n",
       "6                       1.000000             0.116815   \n",
       "\n",
       "       Mean_ratio_of_drifted_features  Mean_f1_score  \n",
       "Chunk                                                 \n",
       "0                            0.000000       0.847732  \n",
       "1                            0.000000       0.840695  \n",
       "2                            0.003297       0.840199  \n",
       "3                            0.190110       0.659919  \n",
       "4                            0.296703       0.579835  \n",
       "5                            0.306593       0.572543  \n",
       "6                            0.280000       0.556611  "
      ]
     },
     "metadata": {},
     "output_type": "display_data"
    },
    {
     "name": "stdout",
     "output_type": "stream",
     "text": [
      "Sorted by ratio of drift detections\n"
     ]
    },
    {
     "data": {
      "text/html": [
       "<div>\n",
       "<style scoped>\n",
       "    .dataframe tbody tr th:only-of-type {\n",
       "        vertical-align: middle;\n",
       "    }\n",
       "\n",
       "    .dataframe tbody tr th {\n",
       "        vertical-align: top;\n",
       "    }\n",
       "\n",
       "    .dataframe thead th {\n",
       "        text-align: right;\n",
       "    }\n",
       "</style>\n",
       "<table border=\"1\" class=\"dataframe\">\n",
       "  <thead>\n",
       "    <tr style=\"text-align: right;\">\n",
       "      <th></th>\n",
       "      <th>Ratio_of_drift_detections</th>\n",
       "      <th>Mean_drift_strength</th>\n",
       "      <th>Mean_ratio_of_drifted_features</th>\n",
       "      <th>Mean_f1_score</th>\n",
       "    </tr>\n",
       "    <tr>\n",
       "      <th>Chunk</th>\n",
       "      <th></th>\n",
       "      <th></th>\n",
       "      <th></th>\n",
       "      <th></th>\n",
       "    </tr>\n",
       "  </thead>\n",
       "  <tbody>\n",
       "    <tr>\n",
       "      <th>3</th>\n",
       "      <td>0.285714</td>\n",
       "      <td>0.041000</td>\n",
       "      <td>0.032967</td>\n",
       "      <td>0.819489</td>\n",
       "    </tr>\n",
       "    <tr>\n",
       "      <th>4</th>\n",
       "      <td>0.142857</td>\n",
       "      <td>0.022722</td>\n",
       "      <td>0.023077</td>\n",
       "      <td>0.870280</td>\n",
       "    </tr>\n",
       "    <tr>\n",
       "      <th>0</th>\n",
       "      <td>0.000000</td>\n",
       "      <td>0.021933</td>\n",
       "      <td>0.000000</td>\n",
       "      <td>0.847732</td>\n",
       "    </tr>\n",
       "    <tr>\n",
       "      <th>1</th>\n",
       "      <td>0.000000</td>\n",
       "      <td>0.019384</td>\n",
       "      <td>0.000000</td>\n",
       "      <td>0.840695</td>\n",
       "    </tr>\n",
       "    <tr>\n",
       "      <th>2</th>\n",
       "      <td>0.000000</td>\n",
       "      <td>0.023449</td>\n",
       "      <td>0.003297</td>\n",
       "      <td>0.840199</td>\n",
       "    </tr>\n",
       "    <tr>\n",
       "      <th>5</th>\n",
       "      <td>0.000000</td>\n",
       "      <td>0.019269</td>\n",
       "      <td>0.002198</td>\n",
       "      <td>0.862404</td>\n",
       "    </tr>\n",
       "    <tr>\n",
       "      <th>6</th>\n",
       "      <td>0.000000</td>\n",
       "      <td>0.016599</td>\n",
       "      <td>0.000000</td>\n",
       "      <td>0.840737</td>\n",
       "    </tr>\n",
       "  </tbody>\n",
       "</table>\n",
       "</div>"
      ],
      "text/plain": [
       "       Ratio_of_drift_detections  Mean_drift_strength  \\\n",
       "Chunk                                                   \n",
       "3                       0.285714             0.041000   \n",
       "4                       0.142857             0.022722   \n",
       "0                       0.000000             0.021933   \n",
       "1                       0.000000             0.019384   \n",
       "2                       0.000000             0.023449   \n",
       "5                       0.000000             0.019269   \n",
       "6                       0.000000             0.016599   \n",
       "\n",
       "       Mean_ratio_of_drifted_features  Mean_f1_score  \n",
       "Chunk                                                 \n",
       "3                            0.032967       0.819489  \n",
       "4                            0.023077       0.870280  \n",
       "0                            0.000000       0.847732  \n",
       "1                            0.000000       0.840695  \n",
       "2                            0.003297       0.840199  \n",
       "5                            0.002198       0.862404  \n",
       "6                            0.000000       0.840737  "
      ]
     },
     "metadata": {},
     "output_type": "display_data"
    },
    {
     "data": {
      "text/html": [
       "<div>\n",
       "<style scoped>\n",
       "    .dataframe tbody tr th:only-of-type {\n",
       "        vertical-align: middle;\n",
       "    }\n",
       "\n",
       "    .dataframe tbody tr th {\n",
       "        vertical-align: top;\n",
       "    }\n",
       "\n",
       "    .dataframe thead th {\n",
       "        text-align: right;\n",
       "    }\n",
       "</style>\n",
       "<table border=\"1\" class=\"dataframe\">\n",
       "  <thead>\n",
       "    <tr style=\"text-align: right;\">\n",
       "      <th></th>\n",
       "      <th>Ratio_of_drift_detections</th>\n",
       "      <th>Mean_drift_strength</th>\n",
       "      <th>Mean_ratio_of_drifted_features</th>\n",
       "      <th>Mean_f1_score</th>\n",
       "    </tr>\n",
       "    <tr>\n",
       "      <th>Chunk</th>\n",
       "      <th></th>\n",
       "      <th></th>\n",
       "      <th></th>\n",
       "      <th></th>\n",
       "    </tr>\n",
       "  </thead>\n",
       "  <tbody>\n",
       "    <tr>\n",
       "      <th>4</th>\n",
       "      <td>1.000000</td>\n",
       "      <td>0.123087</td>\n",
       "      <td>0.296703</td>\n",
       "      <td>0.579835</td>\n",
       "    </tr>\n",
       "    <tr>\n",
       "      <th>5</th>\n",
       "      <td>1.000000</td>\n",
       "      <td>0.122669</td>\n",
       "      <td>0.306593</td>\n",
       "      <td>0.572543</td>\n",
       "    </tr>\n",
       "    <tr>\n",
       "      <th>6</th>\n",
       "      <td>1.000000</td>\n",
       "      <td>0.116815</td>\n",
       "      <td>0.280000</td>\n",
       "      <td>0.556611</td>\n",
       "    </tr>\n",
       "    <tr>\n",
       "      <th>3</th>\n",
       "      <td>0.714286</td>\n",
       "      <td>0.089527</td>\n",
       "      <td>0.190110</td>\n",
       "      <td>0.659919</td>\n",
       "    </tr>\n",
       "    <tr>\n",
       "      <th>0</th>\n",
       "      <td>0.000000</td>\n",
       "      <td>0.021933</td>\n",
       "      <td>0.000000</td>\n",
       "      <td>0.847732</td>\n",
       "    </tr>\n",
       "    <tr>\n",
       "      <th>1</th>\n",
       "      <td>0.000000</td>\n",
       "      <td>0.019384</td>\n",
       "      <td>0.000000</td>\n",
       "      <td>0.840695</td>\n",
       "    </tr>\n",
       "    <tr>\n",
       "      <th>2</th>\n",
       "      <td>0.000000</td>\n",
       "      <td>0.023449</td>\n",
       "      <td>0.003297</td>\n",
       "      <td>0.840199</td>\n",
       "    </tr>\n",
       "  </tbody>\n",
       "</table>\n",
       "</div>"
      ],
      "text/plain": [
       "       Ratio_of_drift_detections  Mean_drift_strength  \\\n",
       "Chunk                                                   \n",
       "4                       1.000000             0.123087   \n",
       "5                       1.000000             0.122669   \n",
       "6                       1.000000             0.116815   \n",
       "3                       0.714286             0.089527   \n",
       "0                       0.000000             0.021933   \n",
       "1                       0.000000             0.019384   \n",
       "2                       0.000000             0.023449   \n",
       "\n",
       "       Mean_ratio_of_drifted_features  Mean_f1_score  \n",
       "Chunk                                                 \n",
       "4                            0.296703       0.579835  \n",
       "5                            0.306593       0.572543  \n",
       "6                            0.280000       0.556611  \n",
       "3                            0.190110       0.659919  \n",
       "0                            0.000000       0.847732  \n",
       "1                            0.000000       0.840695  \n",
       "2                            0.003297       0.840199  "
      ]
     },
     "metadata": {},
     "output_type": "display_data"
    }
   ],
   "source": [
    "for r in reporter.get_chunk_results():\n",
    "    display(r)\n",
    "\n",
    "print(\"Sorted by ratio of drift detections\")\n",
    "\n",
    "for r in reporter.get_chunk_results(sort_by=\"Ratio_of_drift_detections\", ascending = False):\n",
    "    display(r)"
   ]
  },
  {
   "cell_type": "code",
   "execution_count": null,
   "metadata": {},
   "outputs": [],
   "source": []
  },
  {
   "cell_type": "code",
   "execution_count": null,
   "metadata": {},
   "outputs": [],
   "source": []
  },
  {
   "cell_type": "markdown",
   "metadata": {},
   "source": [
    "# Examine fauture and class drift statistics"
   ]
  },
  {
   "cell_type": "code",
   "execution_count": 27,
   "metadata": {},
   "outputs": [
    {
     "data": {
      "text/html": [
       "<div>\n",
       "<style scoped>\n",
       "    .dataframe tbody tr th:only-of-type {\n",
       "        vertical-align: middle;\n",
       "    }\n",
       "\n",
       "    .dataframe tbody tr th {\n",
       "        vertical-align: top;\n",
       "    }\n",
       "\n",
       "    .dataframe thead th {\n",
       "        text-align: right;\n",
       "    }\n",
       "</style>\n",
       "<table border=\"1\" class=\"dataframe\">\n",
       "  <thead>\n",
       "    <tr style=\"text-align: right;\">\n",
       "      <th></th>\n",
       "      <th>Class_0</th>\n",
       "      <th>Class_1</th>\n",
       "      <th>Class_10</th>\n",
       "      <th>Class_100</th>\n",
       "      <th>Class_101</th>\n",
       "      <th>Class_102</th>\n",
       "      <th>Class_103</th>\n",
       "      <th>Class_104</th>\n",
       "      <th>Class_105</th>\n",
       "      <th>Class_106</th>\n",
       "      <th>...</th>\n",
       "      <th>Class_90</th>\n",
       "      <th>Class_91</th>\n",
       "      <th>Class_92</th>\n",
       "      <th>Class_93</th>\n",
       "      <th>Class_94</th>\n",
       "      <th>Class_95</th>\n",
       "      <th>Class_96</th>\n",
       "      <th>Class_97</th>\n",
       "      <th>Class_98</th>\n",
       "      <th>Class_99</th>\n",
       "    </tr>\n",
       "  </thead>\n",
       "  <tbody>\n",
       "    <tr>\n",
       "      <th>2022-01-08</th>\n",
       "      <td>0.898345</td>\n",
       "      <td>0.845363</td>\n",
       "      <td>0.491773</td>\n",
       "      <td>0.911374</td>\n",
       "      <td>0.897915</td>\n",
       "      <td>0.941974</td>\n",
       "      <td>0.452541</td>\n",
       "      <td>0.749502</td>\n",
       "      <td>0.802867</td>\n",
       "      <td>0.775565</td>\n",
       "      <td>...</td>\n",
       "      <td>0.913708</td>\n",
       "      <td>0.814841</td>\n",
       "      <td>0.795366</td>\n",
       "      <td>0.790776</td>\n",
       "      <td>0.944054</td>\n",
       "      <td>0.923175</td>\n",
       "      <td>0.835245</td>\n",
       "      <td>0.670456</td>\n",
       "      <td>0.562181</td>\n",
       "      <td>0.710516</td>\n",
       "    </tr>\n",
       "    <tr>\n",
       "      <th>2022-01-09</th>\n",
       "      <td>0.883531</td>\n",
       "      <td>0.788473</td>\n",
       "      <td>0.493380</td>\n",
       "      <td>0.663478</td>\n",
       "      <td>0.903901</td>\n",
       "      <td>0.939907</td>\n",
       "      <td>0.601560</td>\n",
       "      <td>0.714714</td>\n",
       "      <td>0.756602</td>\n",
       "      <td>0.725417</td>\n",
       "      <td>...</td>\n",
       "      <td>0.856118</td>\n",
       "      <td>0.897960</td>\n",
       "      <td>0.820659</td>\n",
       "      <td>0.915141</td>\n",
       "      <td>0.914783</td>\n",
       "      <td>0.894706</td>\n",
       "      <td>0.891099</td>\n",
       "      <td>0.816439</td>\n",
       "      <td>0.487247</td>\n",
       "      <td>0.619502</td>\n",
       "    </tr>\n",
       "    <tr>\n",
       "      <th>2022-01-10</th>\n",
       "      <td>0.689843</td>\n",
       "      <td>0.793899</td>\n",
       "      <td>0.260308</td>\n",
       "      <td>0.850183</td>\n",
       "      <td>0.881068</td>\n",
       "      <td>0.921485</td>\n",
       "      <td>0.331758</td>\n",
       "      <td>0.414458</td>\n",
       "      <td>0.702211</td>\n",
       "      <td>0.714502</td>\n",
       "      <td>...</td>\n",
       "      <td>0.720674</td>\n",
       "      <td>0.522243</td>\n",
       "      <td>0.751339</td>\n",
       "      <td>0.828143</td>\n",
       "      <td>0.891412</td>\n",
       "      <td>0.816358</td>\n",
       "      <td>0.729024</td>\n",
       "      <td>0.779757</td>\n",
       "      <td>0.548802</td>\n",
       "      <td>0.779396</td>\n",
       "    </tr>\n",
       "    <tr>\n",
       "      <th>2022-01-11</th>\n",
       "      <td>0.812219</td>\n",
       "      <td>0.802938</td>\n",
       "      <td>0.346574</td>\n",
       "      <td>0.784914</td>\n",
       "      <td>0.892822</td>\n",
       "      <td>0.938990</td>\n",
       "      <td>0.543193</td>\n",
       "      <td>0.551585</td>\n",
       "      <td>0.655903</td>\n",
       "      <td>0.493497</td>\n",
       "      <td>...</td>\n",
       "      <td>0.773527</td>\n",
       "      <td>0.852149</td>\n",
       "      <td>0.762482</td>\n",
       "      <td>0.822980</td>\n",
       "      <td>0.918216</td>\n",
       "      <td>0.854336</td>\n",
       "      <td>0.680546</td>\n",
       "      <td>0.768513</td>\n",
       "      <td>0.555032</td>\n",
       "      <td>0.827362</td>\n",
       "    </tr>\n",
       "    <tr>\n",
       "      <th>2022-01-12</th>\n",
       "      <td>0.866515</td>\n",
       "      <td>0.814088</td>\n",
       "      <td>0.403942</td>\n",
       "      <td>0.873323</td>\n",
       "      <td>0.910755</td>\n",
       "      <td>0.931586</td>\n",
       "      <td>0.615660</td>\n",
       "      <td>0.661715</td>\n",
       "      <td>0.821251</td>\n",
       "      <td>0.626594</td>\n",
       "      <td>...</td>\n",
       "      <td>0.887416</td>\n",
       "      <td>0.511747</td>\n",
       "      <td>0.745334</td>\n",
       "      <td>0.756634</td>\n",
       "      <td>0.945795</td>\n",
       "      <td>0.929578</td>\n",
       "      <td>0.746067</td>\n",
       "      <td>0.772217</td>\n",
       "      <td>0.628672</td>\n",
       "      <td>0.846445</td>\n",
       "    </tr>\n",
       "    <tr>\n",
       "      <th>2022-01-13</th>\n",
       "      <td>0.819832</td>\n",
       "      <td>0.748922</td>\n",
       "      <td>0.330632</td>\n",
       "      <td>0.910512</td>\n",
       "      <td>0.916304</td>\n",
       "      <td>0.896480</td>\n",
       "      <td>0.503251</td>\n",
       "      <td>0.681731</td>\n",
       "      <td>0.585719</td>\n",
       "      <td>0.674159</td>\n",
       "      <td>...</td>\n",
       "      <td>0.781080</td>\n",
       "      <td>0.589405</td>\n",
       "      <td>0.740325</td>\n",
       "      <td>0.747916</td>\n",
       "      <td>0.800169</td>\n",
       "      <td>0.762022</td>\n",
       "      <td>0.706820</td>\n",
       "      <td>0.720183</td>\n",
       "      <td>0.453988</td>\n",
       "      <td>0.836860</td>\n",
       "    </tr>\n",
       "    <tr>\n",
       "      <th>2022-01-14</th>\n",
       "      <td>0.812615</td>\n",
       "      <td>0.798750</td>\n",
       "      <td>0.603170</td>\n",
       "      <td>0.755830</td>\n",
       "      <td>0.904073</td>\n",
       "      <td>0.912600</td>\n",
       "      <td>0.539001</td>\n",
       "      <td>0.810731</td>\n",
       "      <td>0.682882</td>\n",
       "      <td>0.641498</td>\n",
       "      <td>...</td>\n",
       "      <td>0.903562</td>\n",
       "      <td>0.793525</td>\n",
       "      <td>0.652202</td>\n",
       "      <td>0.807244</td>\n",
       "      <td>0.884184</td>\n",
       "      <td>0.872160</td>\n",
       "      <td>0.836735</td>\n",
       "      <td>0.851378</td>\n",
       "      <td>0.595288</td>\n",
       "      <td>0.870153</td>\n",
       "    </tr>\n",
       "    <tr>\n",
       "      <th>2022-01-15</th>\n",
       "      <td>0.900426</td>\n",
       "      <td>0.813684</td>\n",
       "      <td>0.568144</td>\n",
       "      <td>0.869112</td>\n",
       "      <td>0.857490</td>\n",
       "      <td>0.941168</td>\n",
       "      <td>0.661777</td>\n",
       "      <td>0.816931</td>\n",
       "      <td>0.829225</td>\n",
       "      <td>0.647251</td>\n",
       "      <td>...</td>\n",
       "      <td>0.885784</td>\n",
       "      <td>0.922691</td>\n",
       "      <td>0.795742</td>\n",
       "      <td>0.711233</td>\n",
       "      <td>0.855799</td>\n",
       "      <td>0.867177</td>\n",
       "      <td>0.721431</td>\n",
       "      <td>0.852356</td>\n",
       "      <td>0.496931</td>\n",
       "      <td>0.928347</td>\n",
       "    </tr>\n",
       "    <tr>\n",
       "      <th>2022-01-16</th>\n",
       "      <td>0.876742</td>\n",
       "      <td>0.738544</td>\n",
       "      <td>0.687976</td>\n",
       "      <td>0.819105</td>\n",
       "      <td>0.891525</td>\n",
       "      <td>0.906031</td>\n",
       "      <td>0.739526</td>\n",
       "      <td>0.759920</td>\n",
       "      <td>0.731552</td>\n",
       "      <td>0.677631</td>\n",
       "      <td>...</td>\n",
       "      <td>0.892901</td>\n",
       "      <td>0.755785</td>\n",
       "      <td>0.811838</td>\n",
       "      <td>0.824975</td>\n",
       "      <td>0.892933</td>\n",
       "      <td>0.933122</td>\n",
       "      <td>0.761773</td>\n",
       "      <td>0.650869</td>\n",
       "      <td>0.740203</td>\n",
       "      <td>0.831830</td>\n",
       "    </tr>\n",
       "    <tr>\n",
       "      <th>2022-01-17</th>\n",
       "      <td>0.862516</td>\n",
       "      <td>0.825267</td>\n",
       "      <td>0.381489</td>\n",
       "      <td>0.717056</td>\n",
       "      <td>0.895195</td>\n",
       "      <td>0.892316</td>\n",
       "      <td>0.478560</td>\n",
       "      <td>0.656565</td>\n",
       "      <td>0.749006</td>\n",
       "      <td>0.484079</td>\n",
       "      <td>...</td>\n",
       "      <td>0.910609</td>\n",
       "      <td>0.475099</td>\n",
       "      <td>0.740854</td>\n",
       "      <td>0.781670</td>\n",
       "      <td>0.944892</td>\n",
       "      <td>0.856599</td>\n",
       "      <td>0.622067</td>\n",
       "      <td>0.754869</td>\n",
       "      <td>0.404593</td>\n",
       "      <td>0.757554</td>\n",
       "    </tr>\n",
       "    <tr>\n",
       "      <th>2022-01-18</th>\n",
       "      <td>0.788326</td>\n",
       "      <td>0.832958</td>\n",
       "      <td>0.428713</td>\n",
       "      <td>0.849434</td>\n",
       "      <td>0.856619</td>\n",
       "      <td>0.916042</td>\n",
       "      <td>0.635192</td>\n",
       "      <td>0.643665</td>\n",
       "      <td>0.760896</td>\n",
       "      <td>0.731177</td>\n",
       "      <td>...</td>\n",
       "      <td>0.815459</td>\n",
       "      <td>0.635056</td>\n",
       "      <td>0.810943</td>\n",
       "      <td>0.826792</td>\n",
       "      <td>0.768421</td>\n",
       "      <td>0.938613</td>\n",
       "      <td>0.440367</td>\n",
       "      <td>0.710666</td>\n",
       "      <td>0.574750</td>\n",
       "      <td>0.939278</td>\n",
       "    </tr>\n",
       "    <tr>\n",
       "      <th>2022-01-19</th>\n",
       "      <td>0.753600</td>\n",
       "      <td>0.799083</td>\n",
       "      <td>0.307213</td>\n",
       "      <td>0.889907</td>\n",
       "      <td>0.803485</td>\n",
       "      <td>0.905415</td>\n",
       "      <td>0.279179</td>\n",
       "      <td>0.702387</td>\n",
       "      <td>0.588050</td>\n",
       "      <td>0.493335</td>\n",
       "      <td>...</td>\n",
       "      <td>0.912579</td>\n",
       "      <td>0.545657</td>\n",
       "      <td>0.768441</td>\n",
       "      <td>0.633108</td>\n",
       "      <td>0.908781</td>\n",
       "      <td>0.735307</td>\n",
       "      <td>0.281271</td>\n",
       "      <td>0.717814</td>\n",
       "      <td>0.389027</td>\n",
       "      <td>0.845148</td>\n",
       "    </tr>\n",
       "    <tr>\n",
       "      <th>2022-01-20</th>\n",
       "      <td>0.838464</td>\n",
       "      <td>0.660080</td>\n",
       "      <td>0.310086</td>\n",
       "      <td>0.684753</td>\n",
       "      <td>0.932728</td>\n",
       "      <td>0.901319</td>\n",
       "      <td>0.301139</td>\n",
       "      <td>0.618332</td>\n",
       "      <td>0.790765</td>\n",
       "      <td>0.494309</td>\n",
       "      <td>...</td>\n",
       "      <td>0.859466</td>\n",
       "      <td>0.627527</td>\n",
       "      <td>0.821542</td>\n",
       "      <td>0.600023</td>\n",
       "      <td>0.876267</td>\n",
       "      <td>0.833527</td>\n",
       "      <td>0.316192</td>\n",
       "      <td>0.631750</td>\n",
       "      <td>0.345081</td>\n",
       "      <td>0.664826</td>\n",
       "    </tr>\n",
       "    <tr>\n",
       "      <th>2022-01-21</th>\n",
       "      <td>0.693169</td>\n",
       "      <td>0.865396</td>\n",
       "      <td>0.573927</td>\n",
       "      <td>0.791716</td>\n",
       "      <td>0.825243</td>\n",
       "      <td>0.925547</td>\n",
       "      <td>0.350308</td>\n",
       "      <td>0.452493</td>\n",
       "      <td>0.607538</td>\n",
       "      <td>0.513769</td>\n",
       "      <td>...</td>\n",
       "      <td>0.784629</td>\n",
       "      <td>0.520839</td>\n",
       "      <td>0.687745</td>\n",
       "      <td>0.737238</td>\n",
       "      <td>0.814020</td>\n",
       "      <td>0.906852</td>\n",
       "      <td>0.326917</td>\n",
       "      <td>0.794582</td>\n",
       "      <td>0.606764</td>\n",
       "      <td>0.893177</td>\n",
       "    </tr>\n",
       "    <tr>\n",
       "      <th>2022-01-22</th>\n",
       "      <td>0.885255</td>\n",
       "      <td>0.792941</td>\n",
       "      <td>0.428614</td>\n",
       "      <td>0.905214</td>\n",
       "      <td>0.748611</td>\n",
       "      <td>0.855227</td>\n",
       "      <td>0.352890</td>\n",
       "      <td>0.712616</td>\n",
       "      <td>0.793360</td>\n",
       "      <td>0.726543</td>\n",
       "      <td>...</td>\n",
       "      <td>0.857428</td>\n",
       "      <td>0.564675</td>\n",
       "      <td>0.738908</td>\n",
       "      <td>0.685599</td>\n",
       "      <td>0.814906</td>\n",
       "      <td>0.841684</td>\n",
       "      <td>0.279416</td>\n",
       "      <td>0.894736</td>\n",
       "      <td>0.384933</td>\n",
       "      <td>0.821004</td>\n",
       "    </tr>\n",
       "    <tr>\n",
       "      <th>2022-01-23</th>\n",
       "      <td>0.910956</td>\n",
       "      <td>0.802915</td>\n",
       "      <td>0.363722</td>\n",
       "      <td>0.595577</td>\n",
       "      <td>0.860866</td>\n",
       "      <td>0.946170</td>\n",
       "      <td>0.266453</td>\n",
       "      <td>0.605897</td>\n",
       "      <td>0.838496</td>\n",
       "      <td>0.559769</td>\n",
       "      <td>...</td>\n",
       "      <td>0.765333</td>\n",
       "      <td>0.613172</td>\n",
       "      <td>0.623755</td>\n",
       "      <td>0.655665</td>\n",
       "      <td>0.875579</td>\n",
       "      <td>0.923094</td>\n",
       "      <td>0.282472</td>\n",
       "      <td>0.625121</td>\n",
       "      <td>0.411461</td>\n",
       "      <td>0.819244</td>\n",
       "    </tr>\n",
       "    <tr>\n",
       "      <th>2022-01-24</th>\n",
       "      <td>0.863206</td>\n",
       "      <td>0.721748</td>\n",
       "      <td>0.360744</td>\n",
       "      <td>0.895783</td>\n",
       "      <td>0.781167</td>\n",
       "      <td>0.936857</td>\n",
       "      <td>0.218245</td>\n",
       "      <td>0.615386</td>\n",
       "      <td>0.741979</td>\n",
       "      <td>0.465540</td>\n",
       "      <td>...</td>\n",
       "      <td>0.850329</td>\n",
       "      <td>0.575776</td>\n",
       "      <td>0.747437</td>\n",
       "      <td>0.625039</td>\n",
       "      <td>0.763728</td>\n",
       "      <td>0.926743</td>\n",
       "      <td>0.293476</td>\n",
       "      <td>0.767638</td>\n",
       "      <td>0.332490</td>\n",
       "      <td>0.881592</td>\n",
       "    </tr>\n",
       "    <tr>\n",
       "      <th>2022-01-25</th>\n",
       "      <td>0.729831</td>\n",
       "      <td>0.750556</td>\n",
       "      <td>0.363826</td>\n",
       "      <td>0.825042</td>\n",
       "      <td>0.807550</td>\n",
       "      <td>0.912388</td>\n",
       "      <td>0.286451</td>\n",
       "      <td>0.650535</td>\n",
       "      <td>0.613138</td>\n",
       "      <td>0.452431</td>\n",
       "      <td>...</td>\n",
       "      <td>0.860228</td>\n",
       "      <td>0.608142</td>\n",
       "      <td>0.710224</td>\n",
       "      <td>0.713499</td>\n",
       "      <td>0.814999</td>\n",
       "      <td>0.846195</td>\n",
       "      <td>0.300874</td>\n",
       "      <td>0.763306</td>\n",
       "      <td>0.505991</td>\n",
       "      <td>0.839905</td>\n",
       "    </tr>\n",
       "    <tr>\n",
       "      <th>2022-01-26</th>\n",
       "      <td>0.803920</td>\n",
       "      <td>0.779280</td>\n",
       "      <td>0.264556</td>\n",
       "      <td>0.913352</td>\n",
       "      <td>0.819613</td>\n",
       "      <td>0.848602</td>\n",
       "      <td>0.587693</td>\n",
       "      <td>0.569957</td>\n",
       "      <td>0.574850</td>\n",
       "      <td>0.632705</td>\n",
       "      <td>...</td>\n",
       "      <td>0.820301</td>\n",
       "      <td>0.839671</td>\n",
       "      <td>0.488723</td>\n",
       "      <td>NaN</td>\n",
       "      <td>0.863758</td>\n",
       "      <td>0.663059</td>\n",
       "      <td>0.489019</td>\n",
       "      <td>0.843416</td>\n",
       "      <td>0.296332</td>\n",
       "      <td>0.919457</td>\n",
       "    </tr>\n",
       "    <tr>\n",
       "      <th>2022-01-27</th>\n",
       "      <td>0.847794</td>\n",
       "      <td>0.816640</td>\n",
       "      <td>0.380404</td>\n",
       "      <td>0.890714</td>\n",
       "      <td>0.925207</td>\n",
       "      <td>0.913005</td>\n",
       "      <td>0.684914</td>\n",
       "      <td>0.660846</td>\n",
       "      <td>0.767992</td>\n",
       "      <td>0.758374</td>\n",
       "      <td>...</td>\n",
       "      <td>0.838040</td>\n",
       "      <td>0.899832</td>\n",
       "      <td>0.789372</td>\n",
       "      <td>NaN</td>\n",
       "      <td>0.795985</td>\n",
       "      <td>0.717319</td>\n",
       "      <td>0.716347</td>\n",
       "      <td>0.659591</td>\n",
       "      <td>0.367200</td>\n",
       "      <td>0.911178</td>\n",
       "    </tr>\n",
       "    <tr>\n",
       "      <th>2022-02-01</th>\n",
       "      <td>0.798979</td>\n",
       "      <td>0.795243</td>\n",
       "      <td>0.270543</td>\n",
       "      <td>0.798225</td>\n",
       "      <td>0.874833</td>\n",
       "      <td>0.877909</td>\n",
       "      <td>0.212115</td>\n",
       "      <td>0.481524</td>\n",
       "      <td>0.656736</td>\n",
       "      <td>0.405924</td>\n",
       "      <td>...</td>\n",
       "      <td>0.795232</td>\n",
       "      <td>0.568011</td>\n",
       "      <td>0.644470</td>\n",
       "      <td>0.523623</td>\n",
       "      <td>0.788244</td>\n",
       "      <td>0.890817</td>\n",
       "      <td>0.248281</td>\n",
       "      <td>0.718691</td>\n",
       "      <td>0.243954</td>\n",
       "      <td>0.701043</td>\n",
       "    </tr>\n",
       "    <tr>\n",
       "      <th>2022-02-02</th>\n",
       "      <td>0.721627</td>\n",
       "      <td>0.766504</td>\n",
       "      <td>0.345120</td>\n",
       "      <td>0.867074</td>\n",
       "      <td>0.805607</td>\n",
       "      <td>0.887589</td>\n",
       "      <td>0.226551</td>\n",
       "      <td>0.396360</td>\n",
       "      <td>0.764242</td>\n",
       "      <td>0.423928</td>\n",
       "      <td>...</td>\n",
       "      <td>0.833853</td>\n",
       "      <td>0.574914</td>\n",
       "      <td>0.697042</td>\n",
       "      <td>0.585964</td>\n",
       "      <td>0.784022</td>\n",
       "      <td>0.862259</td>\n",
       "      <td>0.255095</td>\n",
       "      <td>0.651373</td>\n",
       "      <td>0.330370</td>\n",
       "      <td>0.696332</td>\n",
       "    </tr>\n",
       "    <tr>\n",
       "      <th>2022-02-03</th>\n",
       "      <td>0.787041</td>\n",
       "      <td>0.864439</td>\n",
       "      <td>0.367425</td>\n",
       "      <td>0.739921</td>\n",
       "      <td>0.880297</td>\n",
       "      <td>0.863324</td>\n",
       "      <td>0.201122</td>\n",
       "      <td>0.408222</td>\n",
       "      <td>0.688845</td>\n",
       "      <td>0.439446</td>\n",
       "      <td>...</td>\n",
       "      <td>0.764558</td>\n",
       "      <td>0.552044</td>\n",
       "      <td>0.682056</td>\n",
       "      <td>0.546778</td>\n",
       "      <td>0.810748</td>\n",
       "      <td>0.898793</td>\n",
       "      <td>0.238876</td>\n",
       "      <td>0.685768</td>\n",
       "      <td>0.277464</td>\n",
       "      <td>0.700869</td>\n",
       "    </tr>\n",
       "    <tr>\n",
       "      <th>2022-02-04</th>\n",
       "      <td>0.813182</td>\n",
       "      <td>0.793328</td>\n",
       "      <td>0.425100</td>\n",
       "      <td>0.800580</td>\n",
       "      <td>0.721667</td>\n",
       "      <td>0.895759</td>\n",
       "      <td>0.191431</td>\n",
       "      <td>0.486314</td>\n",
       "      <td>0.751996</td>\n",
       "      <td>0.418013</td>\n",
       "      <td>...</td>\n",
       "      <td>0.832703</td>\n",
       "      <td>0.460798</td>\n",
       "      <td>0.781087</td>\n",
       "      <td>0.645055</td>\n",
       "      <td>0.780391</td>\n",
       "      <td>0.828159</td>\n",
       "      <td>0.210275</td>\n",
       "      <td>0.697092</td>\n",
       "      <td>0.330522</td>\n",
       "      <td>0.781411</td>\n",
       "    </tr>\n",
       "    <tr>\n",
       "      <th>2022-02-05</th>\n",
       "      <td>0.889999</td>\n",
       "      <td>0.760377</td>\n",
       "      <td>0.371065</td>\n",
       "      <td>0.896844</td>\n",
       "      <td>0.788802</td>\n",
       "      <td>0.865402</td>\n",
       "      <td>0.261886</td>\n",
       "      <td>0.541150</td>\n",
       "      <td>0.722824</td>\n",
       "      <td>0.553783</td>\n",
       "      <td>...</td>\n",
       "      <td>0.851777</td>\n",
       "      <td>0.555833</td>\n",
       "      <td>0.784097</td>\n",
       "      <td>0.594155</td>\n",
       "      <td>0.852165</td>\n",
       "      <td>0.921969</td>\n",
       "      <td>0.234011</td>\n",
       "      <td>0.763748</td>\n",
       "      <td>0.391808</td>\n",
       "      <td>0.808127</td>\n",
       "    </tr>\n",
       "    <tr>\n",
       "      <th>2022-02-06</th>\n",
       "      <td>0.882000</td>\n",
       "      <td>0.904325</td>\n",
       "      <td>0.390778</td>\n",
       "      <td>0.859997</td>\n",
       "      <td>0.783830</td>\n",
       "      <td>0.933513</td>\n",
       "      <td>0.199471</td>\n",
       "      <td>0.454110</td>\n",
       "      <td>0.828077</td>\n",
       "      <td>0.649016</td>\n",
       "      <td>...</td>\n",
       "      <td>0.765968</td>\n",
       "      <td>0.589427</td>\n",
       "      <td>0.635429</td>\n",
       "      <td>0.704336</td>\n",
       "      <td>0.826595</td>\n",
       "      <td>0.919144</td>\n",
       "      <td>0.245549</td>\n",
       "      <td>0.766784</td>\n",
       "      <td>0.336306</td>\n",
       "      <td>0.700206</td>\n",
       "    </tr>\n",
       "    <tr>\n",
       "      <th>2022-02-07</th>\n",
       "      <td>0.736813</td>\n",
       "      <td>0.785114</td>\n",
       "      <td>0.234340</td>\n",
       "      <td>0.802533</td>\n",
       "      <td>0.812270</td>\n",
       "      <td>0.905965</td>\n",
       "      <td>0.165392</td>\n",
       "      <td>0.535558</td>\n",
       "      <td>0.693189</td>\n",
       "      <td>0.412532</td>\n",
       "      <td>...</td>\n",
       "      <td>0.833745</td>\n",
       "      <td>0.580549</td>\n",
       "      <td>0.737196</td>\n",
       "      <td>0.526128</td>\n",
       "      <td>0.823983</td>\n",
       "      <td>0.898924</td>\n",
       "      <td>0.192685</td>\n",
       "      <td>0.678767</td>\n",
       "      <td>0.299868</td>\n",
       "      <td>0.922654</td>\n",
       "    </tr>\n",
       "    <tr>\n",
       "      <th>2022-02-08</th>\n",
       "      <td>0.771454</td>\n",
       "      <td>0.759243</td>\n",
       "      <td>0.308507</td>\n",
       "      <td>0.896950</td>\n",
       "      <td>0.823026</td>\n",
       "      <td>0.882289</td>\n",
       "      <td>0.206963</td>\n",
       "      <td>0.430068</td>\n",
       "      <td>0.659612</td>\n",
       "      <td>0.498738</td>\n",
       "      <td>...</td>\n",
       "      <td>0.734325</td>\n",
       "      <td>0.506279</td>\n",
       "      <td>0.644845</td>\n",
       "      <td>0.418506</td>\n",
       "      <td>0.823615</td>\n",
       "      <td>0.873740</td>\n",
       "      <td>0.164033</td>\n",
       "      <td>0.776368</td>\n",
       "      <td>0.471870</td>\n",
       "      <td>0.785143</td>\n",
       "    </tr>\n",
       "    <tr>\n",
       "      <th>2022-02-09</th>\n",
       "      <td>0.738405</td>\n",
       "      <td>0.759727</td>\n",
       "      <td>0.377245</td>\n",
       "      <td>0.732059</td>\n",
       "      <td>0.877046</td>\n",
       "      <td>0.895937</td>\n",
       "      <td>0.242531</td>\n",
       "      <td>0.500041</td>\n",
       "      <td>0.749735</td>\n",
       "      <td>0.506702</td>\n",
       "      <td>...</td>\n",
       "      <td>0.818119</td>\n",
       "      <td>0.675153</td>\n",
       "      <td>0.554563</td>\n",
       "      <td>0.581886</td>\n",
       "      <td>0.893513</td>\n",
       "      <td>0.860695</td>\n",
       "      <td>0.208769</td>\n",
       "      <td>0.619985</td>\n",
       "      <td>0.449944</td>\n",
       "      <td>0.675382</td>\n",
       "    </tr>\n",
       "    <tr>\n",
       "      <th>2022-02-10</th>\n",
       "      <td>0.848099</td>\n",
       "      <td>0.767585</td>\n",
       "      <td>0.294327</td>\n",
       "      <td>0.903247</td>\n",
       "      <td>0.858638</td>\n",
       "      <td>0.890794</td>\n",
       "      <td>0.294477</td>\n",
       "      <td>0.464772</td>\n",
       "      <td>0.688966</td>\n",
       "      <td>0.450910</td>\n",
       "      <td>...</td>\n",
       "      <td>0.862170</td>\n",
       "      <td>0.531844</td>\n",
       "      <td>0.545141</td>\n",
       "      <td>0.593446</td>\n",
       "      <td>0.743767</td>\n",
       "      <td>0.881429</td>\n",
       "      <td>0.198936</td>\n",
       "      <td>0.683314</td>\n",
       "      <td>0.434064</td>\n",
       "      <td>0.572175</td>\n",
       "    </tr>\n",
       "    <tr>\n",
       "      <th>2022-02-11</th>\n",
       "      <td>0.859598</td>\n",
       "      <td>0.579656</td>\n",
       "      <td>0.339273</td>\n",
       "      <td>0.845241</td>\n",
       "      <td>0.757223</td>\n",
       "      <td>0.871438</td>\n",
       "      <td>0.213517</td>\n",
       "      <td>0.521942</td>\n",
       "      <td>0.766011</td>\n",
       "      <td>0.531445</td>\n",
       "      <td>...</td>\n",
       "      <td>0.883794</td>\n",
       "      <td>0.488557</td>\n",
       "      <td>0.497784</td>\n",
       "      <td>0.586047</td>\n",
       "      <td>0.730538</td>\n",
       "      <td>0.848959</td>\n",
       "      <td>0.210489</td>\n",
       "      <td>0.344066</td>\n",
       "      <td>0.403285</td>\n",
       "      <td>0.520402</td>\n",
       "    </tr>\n",
       "    <tr>\n",
       "      <th>2022-02-12</th>\n",
       "      <td>0.830418</td>\n",
       "      <td>0.713061</td>\n",
       "      <td>0.373680</td>\n",
       "      <td>0.762865</td>\n",
       "      <td>0.750115</td>\n",
       "      <td>0.943900</td>\n",
       "      <td>0.238197</td>\n",
       "      <td>0.768902</td>\n",
       "      <td>0.701846</td>\n",
       "      <td>0.479945</td>\n",
       "      <td>...</td>\n",
       "      <td>0.845968</td>\n",
       "      <td>0.481676</td>\n",
       "      <td>0.463205</td>\n",
       "      <td>0.639055</td>\n",
       "      <td>0.746909</td>\n",
       "      <td>0.864387</td>\n",
       "      <td>0.255678</td>\n",
       "      <td>0.486818</td>\n",
       "      <td>0.397341</td>\n",
       "      <td>NaN</td>\n",
       "    </tr>\n",
       "    <tr>\n",
       "      <th>2022-02-13</th>\n",
       "      <td>0.808257</td>\n",
       "      <td>0.640880</td>\n",
       "      <td>0.331502</td>\n",
       "      <td>0.613461</td>\n",
       "      <td>0.842944</td>\n",
       "      <td>NaN</td>\n",
       "      <td>0.207634</td>\n",
       "      <td>0.814611</td>\n",
       "      <td>0.661182</td>\n",
       "      <td>0.709806</td>\n",
       "      <td>...</td>\n",
       "      <td>0.865657</td>\n",
       "      <td>0.538475</td>\n",
       "      <td>0.470063</td>\n",
       "      <td>0.561128</td>\n",
       "      <td>0.733919</td>\n",
       "      <td>0.855183</td>\n",
       "      <td>0.233258</td>\n",
       "      <td>0.562331</td>\n",
       "      <td>0.387250</td>\n",
       "      <td>NaN</td>\n",
       "    </tr>\n",
       "    <tr>\n",
       "      <th>2022-02-14</th>\n",
       "      <td>0.780801</td>\n",
       "      <td>0.640353</td>\n",
       "      <td>0.193466</td>\n",
       "      <td>0.706925</td>\n",
       "      <td>0.879622</td>\n",
       "      <td>0.897925</td>\n",
       "      <td>0.161926</td>\n",
       "      <td>0.594538</td>\n",
       "      <td>0.586940</td>\n",
       "      <td>0.467492</td>\n",
       "      <td>...</td>\n",
       "      <td>0.898979</td>\n",
       "      <td>0.564197</td>\n",
       "      <td>0.503360</td>\n",
       "      <td>0.723924</td>\n",
       "      <td>0.833788</td>\n",
       "      <td>0.829006</td>\n",
       "      <td>0.237946</td>\n",
       "      <td>0.568312</td>\n",
       "      <td>0.368029</td>\n",
       "      <td>NaN</td>\n",
       "    </tr>\n",
       "    <tr>\n",
       "      <th>2022-02-15</th>\n",
       "      <td>0.807661</td>\n",
       "      <td>0.632825</td>\n",
       "      <td>0.229195</td>\n",
       "      <td>0.660087</td>\n",
       "      <td>0.854057</td>\n",
       "      <td>0.865703</td>\n",
       "      <td>0.205685</td>\n",
       "      <td>0.633785</td>\n",
       "      <td>0.650841</td>\n",
       "      <td>0.429113</td>\n",
       "      <td>...</td>\n",
       "      <td>0.765751</td>\n",
       "      <td>0.584480</td>\n",
       "      <td>0.438988</td>\n",
       "      <td>0.492352</td>\n",
       "      <td>0.781953</td>\n",
       "      <td>0.863978</td>\n",
       "      <td>0.196861</td>\n",
       "      <td>0.685486</td>\n",
       "      <td>0.485510</td>\n",
       "      <td>0.748912</td>\n",
       "    </tr>\n",
       "    <tr>\n",
       "      <th>2022-02-16</th>\n",
       "      <td>0.819138</td>\n",
       "      <td>0.823504</td>\n",
       "      <td>0.245577</td>\n",
       "      <td>0.750719</td>\n",
       "      <td>0.775668</td>\n",
       "      <td>0.893687</td>\n",
       "      <td>0.242710</td>\n",
       "      <td>0.813697</td>\n",
       "      <td>0.689400</td>\n",
       "      <td>0.418467</td>\n",
       "      <td>...</td>\n",
       "      <td>0.775210</td>\n",
       "      <td>0.511360</td>\n",
       "      <td>0.763755</td>\n",
       "      <td>0.536466</td>\n",
       "      <td>0.816772</td>\n",
       "      <td>0.835997</td>\n",
       "      <td>0.206303</td>\n",
       "      <td>0.778054</td>\n",
       "      <td>0.403172</td>\n",
       "      <td>0.717044</td>\n",
       "    </tr>\n",
       "    <tr>\n",
       "      <th>2022-02-17</th>\n",
       "      <td>0.797470</td>\n",
       "      <td>0.818382</td>\n",
       "      <td>0.206069</td>\n",
       "      <td>0.723808</td>\n",
       "      <td>0.772014</td>\n",
       "      <td>0.777511</td>\n",
       "      <td>0.202639</td>\n",
       "      <td>0.580771</td>\n",
       "      <td>0.633186</td>\n",
       "      <td>0.433155</td>\n",
       "      <td>...</td>\n",
       "      <td>0.792459</td>\n",
       "      <td>0.605013</td>\n",
       "      <td>0.519989</td>\n",
       "      <td>0.443040</td>\n",
       "      <td>0.808016</td>\n",
       "      <td>0.847137</td>\n",
       "      <td>0.226646</td>\n",
       "      <td>0.862698</td>\n",
       "      <td>0.435973</td>\n",
       "      <td>0.681780</td>\n",
       "    </tr>\n",
       "    <tr>\n",
       "      <th>2022-02-18</th>\n",
       "      <td>0.801325</td>\n",
       "      <td>0.785689</td>\n",
       "      <td>0.335184</td>\n",
       "      <td>0.706052</td>\n",
       "      <td>0.706237</td>\n",
       "      <td>0.779494</td>\n",
       "      <td>0.270376</td>\n",
       "      <td>0.625963</td>\n",
       "      <td>0.777632</td>\n",
       "      <td>0.445101</td>\n",
       "      <td>...</td>\n",
       "      <td>0.834579</td>\n",
       "      <td>0.537730</td>\n",
       "      <td>0.809930</td>\n",
       "      <td>0.612723</td>\n",
       "      <td>0.798600</td>\n",
       "      <td>0.833990</td>\n",
       "      <td>0.250153</td>\n",
       "      <td>0.730522</td>\n",
       "      <td>0.555949</td>\n",
       "      <td>0.819131</td>\n",
       "    </tr>\n",
       "    <tr>\n",
       "      <th>2022-02-19</th>\n",
       "      <td>0.824520</td>\n",
       "      <td>0.587352</td>\n",
       "      <td>0.449738</td>\n",
       "      <td>0.853213</td>\n",
       "      <td>0.743065</td>\n",
       "      <td>0.803776</td>\n",
       "      <td>0.216603</td>\n",
       "      <td>0.751504</td>\n",
       "      <td>0.781534</td>\n",
       "      <td>0.704746</td>\n",
       "      <td>...</td>\n",
       "      <td>0.869506</td>\n",
       "      <td>0.384877</td>\n",
       "      <td>0.503921</td>\n",
       "      <td>0.539257</td>\n",
       "      <td>0.871402</td>\n",
       "      <td>0.841711</td>\n",
       "      <td>0.257823</td>\n",
       "      <td>0.795288</td>\n",
       "      <td>0.396353</td>\n",
       "      <td>0.587372</td>\n",
       "    </tr>\n",
       "    <tr>\n",
       "      <th>2022-02-20</th>\n",
       "      <td>0.856321</td>\n",
       "      <td>0.797916</td>\n",
       "      <td>0.373242</td>\n",
       "      <td>0.878249</td>\n",
       "      <td>0.741237</td>\n",
       "      <td>0.819048</td>\n",
       "      <td>0.219233</td>\n",
       "      <td>0.393653</td>\n",
       "      <td>0.772908</td>\n",
       "      <td>0.589829</td>\n",
       "      <td>...</td>\n",
       "      <td>0.830078</td>\n",
       "      <td>0.527419</td>\n",
       "      <td>0.555477</td>\n",
       "      <td>0.610865</td>\n",
       "      <td>0.783708</td>\n",
       "      <td>0.861835</td>\n",
       "      <td>0.253211</td>\n",
       "      <td>0.766689</td>\n",
       "      <td>0.392046</td>\n",
       "      <td>0.527179</td>\n",
       "    </tr>\n",
       "    <tr>\n",
       "      <th>2022-02-21</th>\n",
       "      <td>0.754980</td>\n",
       "      <td>0.665083</td>\n",
       "      <td>0.241901</td>\n",
       "      <td>0.772200</td>\n",
       "      <td>0.743757</td>\n",
       "      <td>0.788658</td>\n",
       "      <td>0.154051</td>\n",
       "      <td>0.720296</td>\n",
       "      <td>0.680258</td>\n",
       "      <td>0.413238</td>\n",
       "      <td>...</td>\n",
       "      <td>0.812140</td>\n",
       "      <td>0.519946</td>\n",
       "      <td>0.575266</td>\n",
       "      <td>0.561594</td>\n",
       "      <td>0.769846</td>\n",
       "      <td>0.673488</td>\n",
       "      <td>0.266011</td>\n",
       "      <td>0.630508</td>\n",
       "      <td>0.345058</td>\n",
       "      <td>0.628872</td>\n",
       "    </tr>\n",
       "    <tr>\n",
       "      <th>2022-02-22</th>\n",
       "      <td>0.685195</td>\n",
       "      <td>0.873904</td>\n",
       "      <td>0.256218</td>\n",
       "      <td>0.700249</td>\n",
       "      <td>0.712839</td>\n",
       "      <td>0.803495</td>\n",
       "      <td>0.199373</td>\n",
       "      <td>0.765865</td>\n",
       "      <td>0.761591</td>\n",
       "      <td>0.478394</td>\n",
       "      <td>...</td>\n",
       "      <td>0.726742</td>\n",
       "      <td>0.540800</td>\n",
       "      <td>0.635428</td>\n",
       "      <td>0.498758</td>\n",
       "      <td>0.756396</td>\n",
       "      <td>0.809056</td>\n",
       "      <td>0.273599</td>\n",
       "      <td>0.683717</td>\n",
       "      <td>0.318431</td>\n",
       "      <td>0.642224</td>\n",
       "    </tr>\n",
       "    <tr>\n",
       "      <th>2022-02-23</th>\n",
       "      <td>0.660737</td>\n",
       "      <td>0.854248</td>\n",
       "      <td>0.290922</td>\n",
       "      <td>0.822409</td>\n",
       "      <td>0.783895</td>\n",
       "      <td>0.839306</td>\n",
       "      <td>0.199911</td>\n",
       "      <td>0.690233</td>\n",
       "      <td>0.790202</td>\n",
       "      <td>0.463254</td>\n",
       "      <td>...</td>\n",
       "      <td>0.787335</td>\n",
       "      <td>0.588920</td>\n",
       "      <td>0.563979</td>\n",
       "      <td>0.482930</td>\n",
       "      <td>0.858921</td>\n",
       "      <td>0.803019</td>\n",
       "      <td>0.253745</td>\n",
       "      <td>0.735426</td>\n",
       "      <td>0.367741</td>\n",
       "      <td>0.853672</td>\n",
       "    </tr>\n",
       "    <tr>\n",
       "      <th>2022-02-24</th>\n",
       "      <td>0.704116</td>\n",
       "      <td>0.452778</td>\n",
       "      <td>0.438249</td>\n",
       "      <td>0.882430</td>\n",
       "      <td>0.733786</td>\n",
       "      <td>0.794945</td>\n",
       "      <td>0.312914</td>\n",
       "      <td>0.729261</td>\n",
       "      <td>0.821538</td>\n",
       "      <td>0.432026</td>\n",
       "      <td>...</td>\n",
       "      <td>0.883854</td>\n",
       "      <td>0.600925</td>\n",
       "      <td>0.520263</td>\n",
       "      <td>0.518538</td>\n",
       "      <td>0.786065</td>\n",
       "      <td>0.860403</td>\n",
       "      <td>0.215548</td>\n",
       "      <td>0.685214</td>\n",
       "      <td>0.516902</td>\n",
       "      <td>0.776802</td>\n",
       "    </tr>\n",
       "    <tr>\n",
       "      <th>2022-02-25</th>\n",
       "      <td>0.727674</td>\n",
       "      <td>0.521108</td>\n",
       "      <td>0.388748</td>\n",
       "      <td>0.476377</td>\n",
       "      <td>0.767100</td>\n",
       "      <td>0.843081</td>\n",
       "      <td>0.235130</td>\n",
       "      <td>0.716426</td>\n",
       "      <td>0.804208</td>\n",
       "      <td>0.477915</td>\n",
       "      <td>...</td>\n",
       "      <td>0.846948</td>\n",
       "      <td>0.496460</td>\n",
       "      <td>0.481595</td>\n",
       "      <td>0.505821</td>\n",
       "      <td>0.763353</td>\n",
       "      <td>0.854907</td>\n",
       "      <td>0.245785</td>\n",
       "      <td>0.794069</td>\n",
       "      <td>0.471580</td>\n",
       "      <td>0.732080</td>\n",
       "    </tr>\n",
       "    <tr>\n",
       "      <th>2022-02-26</th>\n",
       "      <td>0.710196</td>\n",
       "      <td>0.552164</td>\n",
       "      <td>0.349407</td>\n",
       "      <td>0.855081</td>\n",
       "      <td>0.777064</td>\n",
       "      <td>0.843460</td>\n",
       "      <td>0.172135</td>\n",
       "      <td>0.334028</td>\n",
       "      <td>0.801924</td>\n",
       "      <td>0.644973</td>\n",
       "      <td>...</td>\n",
       "      <td>0.847329</td>\n",
       "      <td>0.492884</td>\n",
       "      <td>0.436764</td>\n",
       "      <td>0.449976</td>\n",
       "      <td>0.850158</td>\n",
       "      <td>0.873151</td>\n",
       "      <td>0.232663</td>\n",
       "      <td>0.358044</td>\n",
       "      <td>0.408573</td>\n",
       "      <td>0.616552</td>\n",
       "    </tr>\n",
       "    <tr>\n",
       "      <th>2022-02-27</th>\n",
       "      <td>0.644167</td>\n",
       "      <td>0.496760</td>\n",
       "      <td>0.349436</td>\n",
       "      <td>0.855698</td>\n",
       "      <td>0.723612</td>\n",
       "      <td>0.835299</td>\n",
       "      <td>0.125145</td>\n",
       "      <td>0.538748</td>\n",
       "      <td>0.734392</td>\n",
       "      <td>0.601782</td>\n",
       "      <td>...</td>\n",
       "      <td>0.875698</td>\n",
       "      <td>0.414280</td>\n",
       "      <td>0.449805</td>\n",
       "      <td>0.555977</td>\n",
       "      <td>0.815295</td>\n",
       "      <td>0.869340</td>\n",
       "      <td>0.212815</td>\n",
       "      <td>0.307980</td>\n",
       "      <td>0.376387</td>\n",
       "      <td>0.571926</td>\n",
       "    </tr>\n",
       "    <tr>\n",
       "      <th>2022-02-28</th>\n",
       "      <td>0.575135</td>\n",
       "      <td>0.360887</td>\n",
       "      <td>0.195112</td>\n",
       "      <td>0.685557</td>\n",
       "      <td>0.781256</td>\n",
       "      <td>0.724750</td>\n",
       "      <td>0.137588</td>\n",
       "      <td>0.508342</td>\n",
       "      <td>0.671183</td>\n",
       "      <td>0.379309</td>\n",
       "      <td>...</td>\n",
       "      <td>0.900748</td>\n",
       "      <td>0.500131</td>\n",
       "      <td>0.392749</td>\n",
       "      <td>0.425029</td>\n",
       "      <td>0.824666</td>\n",
       "      <td>0.741637</td>\n",
       "      <td>0.194109</td>\n",
       "      <td>0.494730</td>\n",
       "      <td>0.346527</td>\n",
       "      <td>0.867448</td>\n",
       "    </tr>\n",
       "    <tr>\n",
       "      <th>2022-03-01</th>\n",
       "      <td>0.578620</td>\n",
       "      <td>0.388648</td>\n",
       "      <td>0.261463</td>\n",
       "      <td>0.742165</td>\n",
       "      <td>0.777817</td>\n",
       "      <td>0.753729</td>\n",
       "      <td>0.125208</td>\n",
       "      <td>0.635424</td>\n",
       "      <td>0.668145</td>\n",
       "      <td>0.384416</td>\n",
       "      <td>...</td>\n",
       "      <td>0.729122</td>\n",
       "      <td>0.528426</td>\n",
       "      <td>0.417724</td>\n",
       "      <td>0.385996</td>\n",
       "      <td>0.771928</td>\n",
       "      <td>0.823903</td>\n",
       "      <td>0.217400</td>\n",
       "      <td>0.577606</td>\n",
       "      <td>0.270906</td>\n",
       "      <td>0.598864</td>\n",
       "    </tr>\n",
       "    <tr>\n",
       "      <th>2022-03-02</th>\n",
       "      <td>0.585973</td>\n",
       "      <td>0.324372</td>\n",
       "      <td>0.311781</td>\n",
       "      <td>0.620304</td>\n",
       "      <td>0.797769</td>\n",
       "      <td>0.791220</td>\n",
       "      <td>0.179596</td>\n",
       "      <td>0.648780</td>\n",
       "      <td>0.511040</td>\n",
       "      <td>0.467099</td>\n",
       "      <td>...</td>\n",
       "      <td>0.848444</td>\n",
       "      <td>0.531702</td>\n",
       "      <td>0.469120</td>\n",
       "      <td>0.494256</td>\n",
       "      <td>0.795482</td>\n",
       "      <td>0.822013</td>\n",
       "      <td>0.224761</td>\n",
       "      <td>0.492810</td>\n",
       "      <td>0.342177</td>\n",
       "      <td>0.787355</td>\n",
       "    </tr>\n",
       "  </tbody>\n",
       "</table>\n",
       "<p>50 rows × 157 columns</p>\n",
       "</div>"
      ],
      "text/plain": [
       "             Class_0   Class_1  Class_10  Class_100  Class_101  Class_102  \\\n",
       "2022-01-08  0.898345  0.845363  0.491773   0.911374   0.897915   0.941974   \n",
       "2022-01-09  0.883531  0.788473  0.493380   0.663478   0.903901   0.939907   \n",
       "2022-01-10  0.689843  0.793899  0.260308   0.850183   0.881068   0.921485   \n",
       "2022-01-11  0.812219  0.802938  0.346574   0.784914   0.892822   0.938990   \n",
       "2022-01-12  0.866515  0.814088  0.403942   0.873323   0.910755   0.931586   \n",
       "2022-01-13  0.819832  0.748922  0.330632   0.910512   0.916304   0.896480   \n",
       "2022-01-14  0.812615  0.798750  0.603170   0.755830   0.904073   0.912600   \n",
       "2022-01-15  0.900426  0.813684  0.568144   0.869112   0.857490   0.941168   \n",
       "2022-01-16  0.876742  0.738544  0.687976   0.819105   0.891525   0.906031   \n",
       "2022-01-17  0.862516  0.825267  0.381489   0.717056   0.895195   0.892316   \n",
       "2022-01-18  0.788326  0.832958  0.428713   0.849434   0.856619   0.916042   \n",
       "2022-01-19  0.753600  0.799083  0.307213   0.889907   0.803485   0.905415   \n",
       "2022-01-20  0.838464  0.660080  0.310086   0.684753   0.932728   0.901319   \n",
       "2022-01-21  0.693169  0.865396  0.573927   0.791716   0.825243   0.925547   \n",
       "2022-01-22  0.885255  0.792941  0.428614   0.905214   0.748611   0.855227   \n",
       "2022-01-23  0.910956  0.802915  0.363722   0.595577   0.860866   0.946170   \n",
       "2022-01-24  0.863206  0.721748  0.360744   0.895783   0.781167   0.936857   \n",
       "2022-01-25  0.729831  0.750556  0.363826   0.825042   0.807550   0.912388   \n",
       "2022-01-26  0.803920  0.779280  0.264556   0.913352   0.819613   0.848602   \n",
       "2022-01-27  0.847794  0.816640  0.380404   0.890714   0.925207   0.913005   \n",
       "2022-02-01  0.798979  0.795243  0.270543   0.798225   0.874833   0.877909   \n",
       "2022-02-02  0.721627  0.766504  0.345120   0.867074   0.805607   0.887589   \n",
       "2022-02-03  0.787041  0.864439  0.367425   0.739921   0.880297   0.863324   \n",
       "2022-02-04  0.813182  0.793328  0.425100   0.800580   0.721667   0.895759   \n",
       "2022-02-05  0.889999  0.760377  0.371065   0.896844   0.788802   0.865402   \n",
       "2022-02-06  0.882000  0.904325  0.390778   0.859997   0.783830   0.933513   \n",
       "2022-02-07  0.736813  0.785114  0.234340   0.802533   0.812270   0.905965   \n",
       "2022-02-08  0.771454  0.759243  0.308507   0.896950   0.823026   0.882289   \n",
       "2022-02-09  0.738405  0.759727  0.377245   0.732059   0.877046   0.895937   \n",
       "2022-02-10  0.848099  0.767585  0.294327   0.903247   0.858638   0.890794   \n",
       "2022-02-11  0.859598  0.579656  0.339273   0.845241   0.757223   0.871438   \n",
       "2022-02-12  0.830418  0.713061  0.373680   0.762865   0.750115   0.943900   \n",
       "2022-02-13  0.808257  0.640880  0.331502   0.613461   0.842944        NaN   \n",
       "2022-02-14  0.780801  0.640353  0.193466   0.706925   0.879622   0.897925   \n",
       "2022-02-15  0.807661  0.632825  0.229195   0.660087   0.854057   0.865703   \n",
       "2022-02-16  0.819138  0.823504  0.245577   0.750719   0.775668   0.893687   \n",
       "2022-02-17  0.797470  0.818382  0.206069   0.723808   0.772014   0.777511   \n",
       "2022-02-18  0.801325  0.785689  0.335184   0.706052   0.706237   0.779494   \n",
       "2022-02-19  0.824520  0.587352  0.449738   0.853213   0.743065   0.803776   \n",
       "2022-02-20  0.856321  0.797916  0.373242   0.878249   0.741237   0.819048   \n",
       "2022-02-21  0.754980  0.665083  0.241901   0.772200   0.743757   0.788658   \n",
       "2022-02-22  0.685195  0.873904  0.256218   0.700249   0.712839   0.803495   \n",
       "2022-02-23  0.660737  0.854248  0.290922   0.822409   0.783895   0.839306   \n",
       "2022-02-24  0.704116  0.452778  0.438249   0.882430   0.733786   0.794945   \n",
       "2022-02-25  0.727674  0.521108  0.388748   0.476377   0.767100   0.843081   \n",
       "2022-02-26  0.710196  0.552164  0.349407   0.855081   0.777064   0.843460   \n",
       "2022-02-27  0.644167  0.496760  0.349436   0.855698   0.723612   0.835299   \n",
       "2022-02-28  0.575135  0.360887  0.195112   0.685557   0.781256   0.724750   \n",
       "2022-03-01  0.578620  0.388648  0.261463   0.742165   0.777817   0.753729   \n",
       "2022-03-02  0.585973  0.324372  0.311781   0.620304   0.797769   0.791220   \n",
       "\n",
       "            Class_103  Class_104  Class_105  Class_106  ...  Class_90  \\\n",
       "2022-01-08   0.452541   0.749502   0.802867   0.775565  ...  0.913708   \n",
       "2022-01-09   0.601560   0.714714   0.756602   0.725417  ...  0.856118   \n",
       "2022-01-10   0.331758   0.414458   0.702211   0.714502  ...  0.720674   \n",
       "2022-01-11   0.543193   0.551585   0.655903   0.493497  ...  0.773527   \n",
       "2022-01-12   0.615660   0.661715   0.821251   0.626594  ...  0.887416   \n",
       "2022-01-13   0.503251   0.681731   0.585719   0.674159  ...  0.781080   \n",
       "2022-01-14   0.539001   0.810731   0.682882   0.641498  ...  0.903562   \n",
       "2022-01-15   0.661777   0.816931   0.829225   0.647251  ...  0.885784   \n",
       "2022-01-16   0.739526   0.759920   0.731552   0.677631  ...  0.892901   \n",
       "2022-01-17   0.478560   0.656565   0.749006   0.484079  ...  0.910609   \n",
       "2022-01-18   0.635192   0.643665   0.760896   0.731177  ...  0.815459   \n",
       "2022-01-19   0.279179   0.702387   0.588050   0.493335  ...  0.912579   \n",
       "2022-01-20   0.301139   0.618332   0.790765   0.494309  ...  0.859466   \n",
       "2022-01-21   0.350308   0.452493   0.607538   0.513769  ...  0.784629   \n",
       "2022-01-22   0.352890   0.712616   0.793360   0.726543  ...  0.857428   \n",
       "2022-01-23   0.266453   0.605897   0.838496   0.559769  ...  0.765333   \n",
       "2022-01-24   0.218245   0.615386   0.741979   0.465540  ...  0.850329   \n",
       "2022-01-25   0.286451   0.650535   0.613138   0.452431  ...  0.860228   \n",
       "2022-01-26   0.587693   0.569957   0.574850   0.632705  ...  0.820301   \n",
       "2022-01-27   0.684914   0.660846   0.767992   0.758374  ...  0.838040   \n",
       "2022-02-01   0.212115   0.481524   0.656736   0.405924  ...  0.795232   \n",
       "2022-02-02   0.226551   0.396360   0.764242   0.423928  ...  0.833853   \n",
       "2022-02-03   0.201122   0.408222   0.688845   0.439446  ...  0.764558   \n",
       "2022-02-04   0.191431   0.486314   0.751996   0.418013  ...  0.832703   \n",
       "2022-02-05   0.261886   0.541150   0.722824   0.553783  ...  0.851777   \n",
       "2022-02-06   0.199471   0.454110   0.828077   0.649016  ...  0.765968   \n",
       "2022-02-07   0.165392   0.535558   0.693189   0.412532  ...  0.833745   \n",
       "2022-02-08   0.206963   0.430068   0.659612   0.498738  ...  0.734325   \n",
       "2022-02-09   0.242531   0.500041   0.749735   0.506702  ...  0.818119   \n",
       "2022-02-10   0.294477   0.464772   0.688966   0.450910  ...  0.862170   \n",
       "2022-02-11   0.213517   0.521942   0.766011   0.531445  ...  0.883794   \n",
       "2022-02-12   0.238197   0.768902   0.701846   0.479945  ...  0.845968   \n",
       "2022-02-13   0.207634   0.814611   0.661182   0.709806  ...  0.865657   \n",
       "2022-02-14   0.161926   0.594538   0.586940   0.467492  ...  0.898979   \n",
       "2022-02-15   0.205685   0.633785   0.650841   0.429113  ...  0.765751   \n",
       "2022-02-16   0.242710   0.813697   0.689400   0.418467  ...  0.775210   \n",
       "2022-02-17   0.202639   0.580771   0.633186   0.433155  ...  0.792459   \n",
       "2022-02-18   0.270376   0.625963   0.777632   0.445101  ...  0.834579   \n",
       "2022-02-19   0.216603   0.751504   0.781534   0.704746  ...  0.869506   \n",
       "2022-02-20   0.219233   0.393653   0.772908   0.589829  ...  0.830078   \n",
       "2022-02-21   0.154051   0.720296   0.680258   0.413238  ...  0.812140   \n",
       "2022-02-22   0.199373   0.765865   0.761591   0.478394  ...  0.726742   \n",
       "2022-02-23   0.199911   0.690233   0.790202   0.463254  ...  0.787335   \n",
       "2022-02-24   0.312914   0.729261   0.821538   0.432026  ...  0.883854   \n",
       "2022-02-25   0.235130   0.716426   0.804208   0.477915  ...  0.846948   \n",
       "2022-02-26   0.172135   0.334028   0.801924   0.644973  ...  0.847329   \n",
       "2022-02-27   0.125145   0.538748   0.734392   0.601782  ...  0.875698   \n",
       "2022-02-28   0.137588   0.508342   0.671183   0.379309  ...  0.900748   \n",
       "2022-03-01   0.125208   0.635424   0.668145   0.384416  ...  0.729122   \n",
       "2022-03-02   0.179596   0.648780   0.511040   0.467099  ...  0.848444   \n",
       "\n",
       "            Class_91  Class_92  Class_93  Class_94  Class_95  Class_96  \\\n",
       "2022-01-08  0.814841  0.795366  0.790776  0.944054  0.923175  0.835245   \n",
       "2022-01-09  0.897960  0.820659  0.915141  0.914783  0.894706  0.891099   \n",
       "2022-01-10  0.522243  0.751339  0.828143  0.891412  0.816358  0.729024   \n",
       "2022-01-11  0.852149  0.762482  0.822980  0.918216  0.854336  0.680546   \n",
       "2022-01-12  0.511747  0.745334  0.756634  0.945795  0.929578  0.746067   \n",
       "2022-01-13  0.589405  0.740325  0.747916  0.800169  0.762022  0.706820   \n",
       "2022-01-14  0.793525  0.652202  0.807244  0.884184  0.872160  0.836735   \n",
       "2022-01-15  0.922691  0.795742  0.711233  0.855799  0.867177  0.721431   \n",
       "2022-01-16  0.755785  0.811838  0.824975  0.892933  0.933122  0.761773   \n",
       "2022-01-17  0.475099  0.740854  0.781670  0.944892  0.856599  0.622067   \n",
       "2022-01-18  0.635056  0.810943  0.826792  0.768421  0.938613  0.440367   \n",
       "2022-01-19  0.545657  0.768441  0.633108  0.908781  0.735307  0.281271   \n",
       "2022-01-20  0.627527  0.821542  0.600023  0.876267  0.833527  0.316192   \n",
       "2022-01-21  0.520839  0.687745  0.737238  0.814020  0.906852  0.326917   \n",
       "2022-01-22  0.564675  0.738908  0.685599  0.814906  0.841684  0.279416   \n",
       "2022-01-23  0.613172  0.623755  0.655665  0.875579  0.923094  0.282472   \n",
       "2022-01-24  0.575776  0.747437  0.625039  0.763728  0.926743  0.293476   \n",
       "2022-01-25  0.608142  0.710224  0.713499  0.814999  0.846195  0.300874   \n",
       "2022-01-26  0.839671  0.488723       NaN  0.863758  0.663059  0.489019   \n",
       "2022-01-27  0.899832  0.789372       NaN  0.795985  0.717319  0.716347   \n",
       "2022-02-01  0.568011  0.644470  0.523623  0.788244  0.890817  0.248281   \n",
       "2022-02-02  0.574914  0.697042  0.585964  0.784022  0.862259  0.255095   \n",
       "2022-02-03  0.552044  0.682056  0.546778  0.810748  0.898793  0.238876   \n",
       "2022-02-04  0.460798  0.781087  0.645055  0.780391  0.828159  0.210275   \n",
       "2022-02-05  0.555833  0.784097  0.594155  0.852165  0.921969  0.234011   \n",
       "2022-02-06  0.589427  0.635429  0.704336  0.826595  0.919144  0.245549   \n",
       "2022-02-07  0.580549  0.737196  0.526128  0.823983  0.898924  0.192685   \n",
       "2022-02-08  0.506279  0.644845  0.418506  0.823615  0.873740  0.164033   \n",
       "2022-02-09  0.675153  0.554563  0.581886  0.893513  0.860695  0.208769   \n",
       "2022-02-10  0.531844  0.545141  0.593446  0.743767  0.881429  0.198936   \n",
       "2022-02-11  0.488557  0.497784  0.586047  0.730538  0.848959  0.210489   \n",
       "2022-02-12  0.481676  0.463205  0.639055  0.746909  0.864387  0.255678   \n",
       "2022-02-13  0.538475  0.470063  0.561128  0.733919  0.855183  0.233258   \n",
       "2022-02-14  0.564197  0.503360  0.723924  0.833788  0.829006  0.237946   \n",
       "2022-02-15  0.584480  0.438988  0.492352  0.781953  0.863978  0.196861   \n",
       "2022-02-16  0.511360  0.763755  0.536466  0.816772  0.835997  0.206303   \n",
       "2022-02-17  0.605013  0.519989  0.443040  0.808016  0.847137  0.226646   \n",
       "2022-02-18  0.537730  0.809930  0.612723  0.798600  0.833990  0.250153   \n",
       "2022-02-19  0.384877  0.503921  0.539257  0.871402  0.841711  0.257823   \n",
       "2022-02-20  0.527419  0.555477  0.610865  0.783708  0.861835  0.253211   \n",
       "2022-02-21  0.519946  0.575266  0.561594  0.769846  0.673488  0.266011   \n",
       "2022-02-22  0.540800  0.635428  0.498758  0.756396  0.809056  0.273599   \n",
       "2022-02-23  0.588920  0.563979  0.482930  0.858921  0.803019  0.253745   \n",
       "2022-02-24  0.600925  0.520263  0.518538  0.786065  0.860403  0.215548   \n",
       "2022-02-25  0.496460  0.481595  0.505821  0.763353  0.854907  0.245785   \n",
       "2022-02-26  0.492884  0.436764  0.449976  0.850158  0.873151  0.232663   \n",
       "2022-02-27  0.414280  0.449805  0.555977  0.815295  0.869340  0.212815   \n",
       "2022-02-28  0.500131  0.392749  0.425029  0.824666  0.741637  0.194109   \n",
       "2022-03-01  0.528426  0.417724  0.385996  0.771928  0.823903  0.217400   \n",
       "2022-03-02  0.531702  0.469120  0.494256  0.795482  0.822013  0.224761   \n",
       "\n",
       "            Class_97  Class_98  Class_99  \n",
       "2022-01-08  0.670456  0.562181  0.710516  \n",
       "2022-01-09  0.816439  0.487247  0.619502  \n",
       "2022-01-10  0.779757  0.548802  0.779396  \n",
       "2022-01-11  0.768513  0.555032  0.827362  \n",
       "2022-01-12  0.772217  0.628672  0.846445  \n",
       "2022-01-13  0.720183  0.453988  0.836860  \n",
       "2022-01-14  0.851378  0.595288  0.870153  \n",
       "2022-01-15  0.852356  0.496931  0.928347  \n",
       "2022-01-16  0.650869  0.740203  0.831830  \n",
       "2022-01-17  0.754869  0.404593  0.757554  \n",
       "2022-01-18  0.710666  0.574750  0.939278  \n",
       "2022-01-19  0.717814  0.389027  0.845148  \n",
       "2022-01-20  0.631750  0.345081  0.664826  \n",
       "2022-01-21  0.794582  0.606764  0.893177  \n",
       "2022-01-22  0.894736  0.384933  0.821004  \n",
       "2022-01-23  0.625121  0.411461  0.819244  \n",
       "2022-01-24  0.767638  0.332490  0.881592  \n",
       "2022-01-25  0.763306  0.505991  0.839905  \n",
       "2022-01-26  0.843416  0.296332  0.919457  \n",
       "2022-01-27  0.659591  0.367200  0.911178  \n",
       "2022-02-01  0.718691  0.243954  0.701043  \n",
       "2022-02-02  0.651373  0.330370  0.696332  \n",
       "2022-02-03  0.685768  0.277464  0.700869  \n",
       "2022-02-04  0.697092  0.330522  0.781411  \n",
       "2022-02-05  0.763748  0.391808  0.808127  \n",
       "2022-02-06  0.766784  0.336306  0.700206  \n",
       "2022-02-07  0.678767  0.299868  0.922654  \n",
       "2022-02-08  0.776368  0.471870  0.785143  \n",
       "2022-02-09  0.619985  0.449944  0.675382  \n",
       "2022-02-10  0.683314  0.434064  0.572175  \n",
       "2022-02-11  0.344066  0.403285  0.520402  \n",
       "2022-02-12  0.486818  0.397341       NaN  \n",
       "2022-02-13  0.562331  0.387250       NaN  \n",
       "2022-02-14  0.568312  0.368029       NaN  \n",
       "2022-02-15  0.685486  0.485510  0.748912  \n",
       "2022-02-16  0.778054  0.403172  0.717044  \n",
       "2022-02-17  0.862698  0.435973  0.681780  \n",
       "2022-02-18  0.730522  0.555949  0.819131  \n",
       "2022-02-19  0.795288  0.396353  0.587372  \n",
       "2022-02-20  0.766689  0.392046  0.527179  \n",
       "2022-02-21  0.630508  0.345058  0.628872  \n",
       "2022-02-22  0.683717  0.318431  0.642224  \n",
       "2022-02-23  0.735426  0.367741  0.853672  \n",
       "2022-02-24  0.685214  0.516902  0.776802  \n",
       "2022-02-25  0.794069  0.471580  0.732080  \n",
       "2022-02-26  0.358044  0.408573  0.616552  \n",
       "2022-02-27  0.307980  0.376387  0.571926  \n",
       "2022-02-28  0.494730  0.346527  0.867448  \n",
       "2022-03-01  0.577606  0.270906  0.598864  \n",
       "2022-03-02  0.492810  0.342177  0.787355  \n",
       "\n",
       "[50 rows x 157 columns]"
      ]
     },
     "metadata": {},
     "output_type": "display_data"
    },
    {
     "data": {
      "text/html": [
       "<div>\n",
       "<style scoped>\n",
       "    .dataframe tbody tr th:only-of-type {\n",
       "        vertical-align: middle;\n",
       "    }\n",
       "\n",
       "    .dataframe tbody tr th {\n",
       "        vertical-align: top;\n",
       "    }\n",
       "\n",
       "    .dataframe thead th {\n",
       "        text-align: right;\n",
       "    }\n",
       "</style>\n",
       "<table border=\"1\" class=\"dataframe\">\n",
       "  <thead>\n",
       "    <tr style=\"text-align: right;\">\n",
       "      <th></th>\n",
       "      <th>BYTES</th>\n",
       "      <th>BYTES_REV</th>\n",
       "      <th>DIR_1</th>\n",
       "      <th>DIR_10</th>\n",
       "      <th>DIR_11</th>\n",
       "      <th>DIR_12</th>\n",
       "      <th>DIR_13</th>\n",
       "      <th>DIR_14</th>\n",
       "      <th>DIR_15</th>\n",
       "      <th>DIR_16</th>\n",
       "      <th>...</th>\n",
       "      <th>SIZE_28</th>\n",
       "      <th>SIZE_29</th>\n",
       "      <th>SIZE_3</th>\n",
       "      <th>SIZE_30</th>\n",
       "      <th>SIZE_4</th>\n",
       "      <th>SIZE_5</th>\n",
       "      <th>SIZE_6</th>\n",
       "      <th>SIZE_7</th>\n",
       "      <th>SIZE_8</th>\n",
       "      <th>SIZE_9</th>\n",
       "    </tr>\n",
       "  </thead>\n",
       "  <tbody>\n",
       "    <tr>\n",
       "      <th>2022-01-08</th>\n",
       "      <td>0.006885</td>\n",
       "      <td>0.007310</td>\n",
       "      <td>0.0</td>\n",
       "      <td>0.062048</td>\n",
       "      <td>0.057196</td>\n",
       "      <td>0.051053</td>\n",
       "      <td>0.052187</td>\n",
       "      <td>0.040354</td>\n",
       "      <td>0.037907</td>\n",
       "      <td>0.034368</td>\n",
       "      <td>...</td>\n",
       "      <td>0.012182</td>\n",
       "      <td>0.012175</td>\n",
       "      <td>0.034764</td>\n",
       "      <td>0.010823</td>\n",
       "      <td>0.059978</td>\n",
       "      <td>0.027241</td>\n",
       "      <td>0.020406</td>\n",
       "      <td>0.053578</td>\n",
       "      <td>0.028229</td>\n",
       "      <td>0.042848</td>\n",
       "    </tr>\n",
       "    <tr>\n",
       "      <th>2022-01-09</th>\n",
       "      <td>0.014045</td>\n",
       "      <td>0.008151</td>\n",
       "      <td>0.0</td>\n",
       "      <td>0.046310</td>\n",
       "      <td>0.050533</td>\n",
       "      <td>0.056329</td>\n",
       "      <td>0.057665</td>\n",
       "      <td>0.053782</td>\n",
       "      <td>0.053246</td>\n",
       "      <td>0.052488</td>\n",
       "      <td>...</td>\n",
       "      <td>0.017690</td>\n",
       "      <td>0.021278</td>\n",
       "      <td>0.014838</td>\n",
       "      <td>0.019525</td>\n",
       "      <td>0.054623</td>\n",
       "      <td>0.033559</td>\n",
       "      <td>0.017033</td>\n",
       "      <td>0.059760</td>\n",
       "      <td>0.011341</td>\n",
       "      <td>0.039736</td>\n",
       "    </tr>\n",
       "    <tr>\n",
       "      <th>2022-01-10</th>\n",
       "      <td>0.007497</td>\n",
       "      <td>0.009042</td>\n",
       "      <td>0.0</td>\n",
       "      <td>0.074244</td>\n",
       "      <td>0.073234</td>\n",
       "      <td>0.063494</td>\n",
       "      <td>0.048756</td>\n",
       "      <td>0.025353</td>\n",
       "      <td>0.021071</td>\n",
       "      <td>0.019860</td>\n",
       "      <td>...</td>\n",
       "      <td>0.004483</td>\n",
       "      <td>0.007970</td>\n",
       "      <td>0.024071</td>\n",
       "      <td>0.004945</td>\n",
       "      <td>0.037481</td>\n",
       "      <td>0.037680</td>\n",
       "      <td>0.045554</td>\n",
       "      <td>0.034840</td>\n",
       "      <td>0.073872</td>\n",
       "      <td>0.108845</td>\n",
       "    </tr>\n",
       "    <tr>\n",
       "      <th>2022-01-11</th>\n",
       "      <td>0.007276</td>\n",
       "      <td>0.021256</td>\n",
       "      <td>0.0</td>\n",
       "      <td>0.053472</td>\n",
       "      <td>0.048668</td>\n",
       "      <td>0.041251</td>\n",
       "      <td>0.029901</td>\n",
       "      <td>0.011107</td>\n",
       "      <td>0.019097</td>\n",
       "      <td>0.009346</td>\n",
       "      <td>...</td>\n",
       "      <td>0.012526</td>\n",
       "      <td>0.017775</td>\n",
       "      <td>0.030605</td>\n",
       "      <td>0.009800</td>\n",
       "      <td>0.027183</td>\n",
       "      <td>0.031536</td>\n",
       "      <td>0.073920</td>\n",
       "      <td>0.038827</td>\n",
       "      <td>0.063162</td>\n",
       "      <td>0.083038</td>\n",
       "    </tr>\n",
       "    <tr>\n",
       "      <th>2022-01-12</th>\n",
       "      <td>0.014260</td>\n",
       "      <td>0.011232</td>\n",
       "      <td>0.0</td>\n",
       "      <td>0.074473</td>\n",
       "      <td>0.079591</td>\n",
       "      <td>0.070042</td>\n",
       "      <td>0.059088</td>\n",
       "      <td>0.038896</td>\n",
       "      <td>0.035119</td>\n",
       "      <td>0.028101</td>\n",
       "      <td>...</td>\n",
       "      <td>0.014348</td>\n",
       "      <td>0.013194</td>\n",
       "      <td>0.093268</td>\n",
       "      <td>0.009772</td>\n",
       "      <td>0.058640</td>\n",
       "      <td>0.020560</td>\n",
       "      <td>0.030743</td>\n",
       "      <td>0.049996</td>\n",
       "      <td>0.028669</td>\n",
       "      <td>0.075458</td>\n",
       "    </tr>\n",
       "  </tbody>\n",
       "</table>\n",
       "<p>5 rows × 130 columns</p>\n",
       "</div>"
      ],
      "text/plain": [
       "               BYTES  BYTES_REV  DIR_1    DIR_10    DIR_11    DIR_12  \\\n",
       "2022-01-08  0.006885   0.007310    0.0  0.062048  0.057196  0.051053   \n",
       "2022-01-09  0.014045   0.008151    0.0  0.046310  0.050533  0.056329   \n",
       "2022-01-10  0.007497   0.009042    0.0  0.074244  0.073234  0.063494   \n",
       "2022-01-11  0.007276   0.021256    0.0  0.053472  0.048668  0.041251   \n",
       "2022-01-12  0.014260   0.011232    0.0  0.074473  0.079591  0.070042   \n",
       "\n",
       "              DIR_13    DIR_14    DIR_15    DIR_16  ...   SIZE_28   SIZE_29  \\\n",
       "2022-01-08  0.052187  0.040354  0.037907  0.034368  ...  0.012182  0.012175   \n",
       "2022-01-09  0.057665  0.053782  0.053246  0.052488  ...  0.017690  0.021278   \n",
       "2022-01-10  0.048756  0.025353  0.021071  0.019860  ...  0.004483  0.007970   \n",
       "2022-01-11  0.029901  0.011107  0.019097  0.009346  ...  0.012526  0.017775   \n",
       "2022-01-12  0.059088  0.038896  0.035119  0.028101  ...  0.014348  0.013194   \n",
       "\n",
       "              SIZE_3   SIZE_30    SIZE_4    SIZE_5    SIZE_6    SIZE_7  \\\n",
       "2022-01-08  0.034764  0.010823  0.059978  0.027241  0.020406  0.053578   \n",
       "2022-01-09  0.014838  0.019525  0.054623  0.033559  0.017033  0.059760   \n",
       "2022-01-10  0.024071  0.004945  0.037481  0.037680  0.045554  0.034840   \n",
       "2022-01-11  0.030605  0.009800  0.027183  0.031536  0.073920  0.038827   \n",
       "2022-01-12  0.093268  0.009772  0.058640  0.020560  0.030743  0.049996   \n",
       "\n",
       "              SIZE_8    SIZE_9  \n",
       "2022-01-08  0.028229  0.042848  \n",
       "2022-01-09  0.011341  0.039736  \n",
       "2022-01-10  0.073872  0.108845  \n",
       "2022-01-11  0.063162  0.083038  \n",
       "2022-01-12  0.028669  0.075458  \n",
       "\n",
       "[5 rows x 130 columns]"
      ]
     },
     "metadata": {},
     "output_type": "display_data"
    }
   ],
   "source": [
    "class_drift_df = logger_ref.get_logs(log_type=\"class\")\n",
    "feature_drift_df = logger_ref.get_logs(log_type=\"feature\")\n",
    "ret_class_drift_df = logger_drift.get_logs(log_type=\"class\")\n",
    "ret_feature_drift_df = logger_drift.get_logs(log_type=\"feature\")\n",
    "display(class_drift_df.head(50))\n",
    "display(feature_drift_df.head())"
   ]
  },
  {
   "cell_type": "code",
   "execution_count": 11,
   "metadata": {},
   "outputs": [],
   "source": [
    "class_drift_df.to_csv('statistics/tls-ppi/TLS23_class_drift.csv', index=False) \n",
    "feature_drift_df.to_csv('statistics/tls-ppi/TLS23_feature_drift.csv', index=False) \n",
    "ret_class_drift_df.to_csv('statistics/tls-ppi/TLS23_class_drift_retraining.csv', index=False) \n",
    "ret_feature_drift_df.to_csv('statistics/tls-ppi/TLS23_feature_drift_retraining.csv', index=False) \n",
    "logger_ref.get_logs().to_csv('statistics/tls-ppi/TLS23_drift.csv', index=False) "
   ]
  },
  {
   "cell_type": "markdown",
   "metadata": {},
   "source": [
    "### Most drifted features/classes on average"
   ]
  },
  {
   "cell_type": "code",
   "execution_count": 28,
   "metadata": {},
   "outputs": [
    {
     "name": "stdout",
     "output_type": "stream",
     "text": [
      "Without retraining\n",
      "\n",
      "Class_130    0.133814\n",
      "Class_82     0.148784\n",
      "Class_103    0.149197\n",
      "Class_114    0.156531\n",
      "Class_117    0.195664\n",
      "               ...   \n",
      "Class_126    0.803568\n",
      "Class_152    0.805357\n",
      "Class_23     0.811982\n",
      "Class_45     0.826228\n",
      "Class_31     0.884679\n",
      "Length: 157, dtype: float64\n",
      "\n",
      "\n",
      "Retraining\n",
      "\n",
      "Class_82     0.345993\n",
      "Class_154    0.361154\n",
      "Class_130    0.368276\n",
      "Class_78     0.434609\n",
      "Class_123    0.437952\n",
      "               ...   \n",
      "Class_52     0.881999\n",
      "Class_95     0.894520\n",
      "Class_31     0.921551\n",
      "Class_45     0.935262\n",
      "Class_126    0.946119\n",
      "Length: 157, dtype: float64\n"
     ]
    }
   ],
   "source": [
    "print(\"Without retraining\\n\")\n",
    "print(class_drift_df.mean().sort_values())\n",
    "print(\"\\n\\nRetraining\\n\")\n",
    "print(ret_class_drift_df.mean().sort_values())"
   ]
  },
  {
   "cell_type": "code",
   "execution_count": 19,
   "metadata": {},
   "outputs": [
    {
     "data": {
      "image/png": "[encoded data removed]",
      "text/plain": [
       "<Figure size 640x480 with 1 Axes>"
      ]
     },
     "metadata": {},
     "output_type": "display_data"
    }
   ],
   "source": [
    "dates = logger_ref.get_logs().index\n",
    "plt.plot(dates, class_drift_df.Class_130, label = \"Class_130\")\n",
    "plt.plot(dates, class_drift_df.Class_31, label = \"Class_31\")\n",
    "plt.legend()\n",
    "plt.show()"
   ]
  },
  {
   "cell_type": "code",
   "execution_count": 29,
   "metadata": {},
   "outputs": [
    {
     "name": "stdout",
     "output_type": "stream",
     "text": [
      "Without retraining\n",
      "\n",
      "DIR_4         0.501412\n",
      "SIZE_4        0.463509\n",
      "SIZE_5        0.345841\n",
      "SIZE_3        0.326712\n",
      "DIR_6         0.255425\n",
      "                ...   \n",
      "BYTES         0.008523\n",
      "IPT_BIN1      0.008292\n",
      "PSIZE_BIN8    0.007800\n",
      "IPT_1         0.000000\n",
      "DIR_1         0.000000\n",
      "Length: 130, dtype: float64\n",
      "\n",
      "\n",
      "Retraining\n",
      "\n",
      "SIZE_1            0.084852\n",
      "DIR_4             0.058716\n",
      "SIZE_4            0.057559\n",
      "PPI_ROUNDTRIPS    0.056313\n",
      "PPI_LEN           0.052258\n",
      "                    ...   \n",
      "IPT_26            0.011658\n",
      "PSIZE_BIN2_REV    0.011338\n",
      "IPT_22            0.011231\n",
      "IPT_1             0.000000\n",
      "DIR_1             0.000000\n",
      "Length: 130, dtype: float64\n"
     ]
    }
   ],
   "source": [
    "print(\"Without retraining\\n\")\n",
    "print(feature_drift_df.mean().sort_values(ascending=False))\n",
    "print(\"\\n\\nRetraining\\n\")\n",
    "print(ret_feature_drift_df.mean().sort_values(ascending=False))"
   ]
  },
  {
   "cell_type": "code",
   "execution_count": 22,
   "metadata": {},
   "outputs": [
    {
     "data": {
      "image/png": "[encoded data removed]",
      "text/plain": [
       "<Figure size 640x480 with 1 Axes>"
      ]
     },
     "metadata": {},
     "output_type": "display_data"
    }
   ],
   "source": [
    "plt.plot(dates, feature_drift_df.DIR_4, label = \"DIR_4\")\n",
    "plt.plot(dates, feature_drift_df.PSIZE_BIN8, label = \"PSIZE_BIN8\")\n",
    "plt.legend()\n",
    "plt.show()"
   ]
  },
  {
   "cell_type": "code",
   "execution_count": 28,
   "metadata": {},
   "outputs": [
    {
     "data": {
      "image/png": "[encoded data removed]",
      "text/plain": [
       "<Figure size 640x480 with 1 Axes>"
      ]
     },
     "metadata": {},
     "output_type": "display_data"
    }
   ],
   "source": [
    "plt.plot(feature_drift_df.DIR_4, label = \"Without retraining\")\n",
    "plt.plot(ret_feature_drift_df.DIR_4, label = \"Retraining\")\n",
    "plt.legend()\n",
    "plt.show()"
   ]
  },
  {
   "cell_type": "code",
   "execution_count": 29,
   "metadata": {},
   "outputs": [
    {
     "name": "stdout",
     "output_type": "stream",
     "text": [
      "Without retraining\n",
      "\n",
      "DIR_4             0.315537\n",
      "SIZE_4            0.309853\n",
      "SIZE_3            0.226541\n",
      "SIZE_5            0.205561\n",
      "SIZE_9            0.101430\n",
      "                    ...   \n",
      "IPT_BIN1_REV      0.001603\n",
      "PSIZE_BIN8_REV    0.001579\n",
      "BYTES_REV         0.001574\n",
      "IPT_1             0.000000\n",
      "DIR_1             0.000000\n",
      "Length: 130, dtype: float64\n",
      "\n",
      "\n",
      "Retraining\n",
      "\n",
      "SIZE_4          0.074553\n",
      "DIR_4           0.072296\n",
      "SIZE_3          0.053806\n",
      "SIZE_5          0.048368\n",
      "SIZE_1          0.040350\n",
      "                  ...   \n",
      "IPT_BIN1_REV    0.002421\n",
      "PACKETS_REV     0.002404\n",
      "BYTES_REV       0.002395\n",
      "IPT_1           0.000000\n",
      "DIR_1           0.000000\n",
      "Length: 130, dtype: float64\n"
     ]
    }
   ],
   "source": [
    "print(\"Without retraining\\n\")\n",
    "print(feature_drift_df.std().sort_values(ascending=False))\n",
    "print(\"\\n\\nRetraining\\n\")\n",
    "print(ret_feature_drift_df.std().sort_values(ascending=False))"
   ]
  },
  {
   "cell_type": "code",
   "execution_count": 30,
   "metadata": {},
   "outputs": [
    {
     "data": {
      "image/png": "[encoded data removed]",
      "text/plain": [
       "<Figure size 640x480 with 1 Axes>"
      ]
     },
     "metadata": {},
     "output_type": "display_data"
    }
   ],
   "source": [
    "dates = logger_ref.get_logs().index\n",
    "plt.plot(dates, ret_feature_drift_df.DIR_30, label = \"DIR_30\")\n",
    "plt.plot(dates, ret_feature_drift_df.IPT_BIN4_REV, label = \"IPT_BIN4_REV\")\n",
    "plt.legend()\n",
    "plt.show()"
   ]
  },
  {
   "cell_type": "code",
   "execution_count": 31,
   "metadata": {},
   "outputs": [
    {
     "name": "stdout",
     "output_type": "stream",
     "text": [
      "DIR_4             0.315537\n",
      "SIZE_4            0.309853\n",
      "SIZE_3            0.226541\n",
      "SIZE_5            0.205561\n",
      "SIZE_9            0.101430\n",
      "                    ...   \n",
      "IPT_BIN1_REV      0.001603\n",
      "PSIZE_BIN8_REV    0.001579\n",
      "BYTES_REV         0.001574\n",
      "IPT_1             0.000000\n",
      "DIR_1             0.000000\n",
      "Length: 130, dtype: float64\n"
     ]
    }
   ],
   "source": [
    "print(feature_drift_df.std().sort_values(ascending=False))\n"
   ]
  },
  {
   "cell_type": "code",
   "execution_count": 33,
   "metadata": {},
   "outputs": [
    {
     "data": {
      "text/plain": [
       "SIZE_1      0.234043\n",
       "DIR_4       0.063830\n",
       "SIZE_9      0.042553\n",
       "PPI_LEN     0.042553\n",
       "SIZE_4      0.042553\n",
       "              ...   \n",
       "IPT_29      0.000000\n",
       "IPT_28      0.000000\n",
       "IPT_27      0.000000\n",
       "IPT_26      0.000000\n",
       "IPT_BIN2    0.000000\n",
       "Length: 130, dtype: float64"
      ]
     },
     "execution_count": 33,
     "metadata": {},
     "output_type": "execute_result"
    }
   ],
   "source": [
    "(ret_feature_drift_df>0.1).mean().sort_values(ascending=False)"
   ]
  },
  {
   "cell_type": "code",
   "execution_count": 34,
   "metadata": {},
   "outputs": [
    {
     "data": {
      "image/png": "[encoded data removed]",
      "text/plain": [
       "<Figure size 640x480 with 1 Axes>"
      ]
     },
     "metadata": {},
     "output_type": "display_data"
    }
   ],
   "source": [
    "plt.plot(dates, ret_feature_drift_df.SIZE_1, label = \"SIZE_1 retraining\")\n",
    "plt.plot(dates, feature_drift_df.SIZE_1, label = \"SIZE_1\")\n",
    "plt.axhline(y = 0.1, color = 'r', linestyle = '--', label =\"Detection threshold\") \n",
    "plt.legend()\n",
    "plt.show()"
   ]
  },
  {
   "cell_type": "code",
   "execution_count": null,
   "metadata": {},
   "outputs": [],
   "source": []
  }
 ],
 "metadata": {
  "kernelspec": {
   "display_name": "Python 3 (ipykernel)",
   "language": "python",
   "name": "python3"
  },
  "language_info": {
   "codemirror_mode": {
    "name": "ipython",
    "version": 3
   },
   "file_extension": ".py",
   "mimetype": "text/x-python",
   "name": "python",
   "nbconvert_exporter": "python",
   "pygments_lexer": "ipython3",
   "version": "3.11.5"
  }
 },
 "nbformat": 4,
 "nbformat_minor": 4
}
